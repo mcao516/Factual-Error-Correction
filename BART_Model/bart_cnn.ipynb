{
 "cells": [
  {
   "cell_type": "code",
   "execution_count": 1,
   "metadata": {},
   "outputs": [],
   "source": [
    "import torch\n",
    "from fairseq.models.bart import BARTModel\n",
    "from fairseq.data.data_utils import collate_tokens"
   ]
  },
  {
   "cell_type": "code",
   "execution_count": 2,
   "metadata": {},
   "outputs": [
    {
     "name": "stdout",
     "output_type": "stream",
     "text": [
      "- evaluation mode activated.\n"
     ]
    }
   ],
   "source": [
    "bart = BARTModel.from_pretrained('./bart.large.cnn', checkpoint_file='model.pt')\n",
    "bart.eval()\n",
    "bart.cuda()\n",
    "print('- evaluation mode activated.')"
   ]
  },
  {
   "cell_type": "code",
   "execution_count": 3,
   "metadata": {},
   "outputs": [],
   "source": [
    "encode_func = bart.encode\n",
    "decode_func = bart.decode"
   ]
  },
  {
   "cell_type": "code",
   "execution_count": 4,
   "metadata": {},
   "outputs": [
    {
     "name": "stdout",
     "output_type": "stream",
     "text": [
      "<class 'fairseq.models.transformer.TransformerEncoder'>\n"
     ]
    }
   ],
   "source": [
    "bart_encoder = bart.model.encoder\n",
    "bart_decoder = bart.model.decoder\n",
    "print(type(bart_encoder))"
   ]
  },
  {
   "cell_type": "code",
   "execution_count": 5,
   "metadata": {},
   "outputs": [
    {
     "data": {
      "text/plain": [
       "fairseq.models.transformer.TransformerDecoder"
      ]
     },
     "execution_count": 5,
     "metadata": {},
     "output_type": "execute_result"
    }
   ],
   "source": [
    "type(bart.model.decoder)"
   ]
  },
  {
   "cell_type": "code",
   "execution_count": 6,
   "metadata": {},
   "outputs": [],
   "source": [
    "test_inputs = [\"(CNN) paul walker is hardly the first actor to die during a production . but walker 's death in november 2013 at the age of 40 after a car crash was especially eerie given his rise to fame in the `` fast and furious '' film franchise . the release of `` furious 7 '' on friday offers the opportunity for fans to remember -- and possibly grieve again -- the man that so many have praised as one of the nicest guys in hollywood . `` he was a person of humility , integrity , and compassion , '' military veteran kyle upham said in an email to cnn . walker secretly paid for the engagement ring upham shopped for with his bride . `` we did n't know him personally but this was apparent in the short time we spent with him . i know that we will never forget him and he will always be someone very special to us , '' said upham . the actor was on break from filming `` furious 7 '' at the time of the fiery accident , which also claimed the life of the car 's driver , roger rodas . producers said early on that they would not kill off walker 's character , brian o'connor , a former cop turned road racer . instead , the script was rewritten and special effects were used to finish scenes , with walker 's brothers , cody and caleb , serving as body doubles . there are scenes that will resonate with the audience -- including the ending , in which the filmmakers figured out a touching way to pay tribute to walker while `` retiring '' his character . at the premiere wednesday night in hollywood , walker 's co-star and close friend vin diesel gave a tearful speech before the screening , saying `` this movie is more than a movie . '' `` you 'll feel it when you see it , '' diesel said . `` there 's something emotional that happens to you , where you walk out of this movie and you appreciate everyone you love because you just never know when the last day is you 're gon na see them . '' there have been multiple tributes to walker leading up to the release . diesel revealed in an interview with the `` today '' show that he had named his newborn daughter after walker . social media has also been paying homage to the late actor . a week after walker 's death , about 5,000 people attended an outdoor memorial to him in los angeles . most had never met him . marcus coleman told cnn he spent almost $ 1,000 to truck in a banner from bakersfield for people to sign at the memorial . `` it 's like losing a friend or a really close family member ... even though he is an actor and we never really met face to face , '' coleman said . `` sitting there , bringing his movies into your house or watching on tv , it 's like getting to know somebody . it really , really hurts . '' walker 's younger brother cody told people magazine that he was initially nervous about how `` furious 7 '' would turn out , but he is happy with the film . `` it 's bittersweet , but i think paul would be proud , '' he said . cnn 's paul vercammen contributed to this report .\",\n",
    "               \"marseille , france -lrb- cnn -rrb- the french prosecutor leading an investigation into the crash of germanwings flight 9525 insisted wednesday that he was not aware of any video footage from on board the plane . marseille prosecutor brice robin told cnn that `` so far no videos were used in the crash investigation . '' he added , `` a person who has such a video needs to immediately give it to the investigators . '' robin 's comments follow claims by two magazines , german daily bild and french paris match , of a cell phone video showing the harrowing final seconds from on board germanwings flight 9525 as it crashed into the french alps . all 150 on board were killed . paris match and bild reported that the video was recovered from a phone at the wreckage site . the two publications described the supposed video , but did not post it on their websites . the publications said that they watched the video , which was found by a source close to the investigation . `` one can hear cries of ` my god ' in several languages , '' paris match reported . `` metallic banging can also be heard more than three times , perhaps of the pilot trying to open the cockpit door with a heavy object . towards the end , after a heavy shake , stronger than the others , the screaming intensifies . then nothing . '' `` it is a very disturbing scene , '' said julian reichelt , editor-in-chief of bild online . an official with france 's accident investigation agency , the bea , said the agency is not aware of any such video . lt. col. jean-marc menichini , a french gendarmerie spokesman in charge of communications on rescue efforts around the germanwings crash site , told cnn that the reports were `` completely wrong '' and `` unwarranted . '' cell phones have been collected at the site , he said , but that they `` had n't been exploited yet . '' menichini said he believed the cell phones would need to be sent to the criminal research institute in rosny sous-bois , near paris , in order to be analyzed by specialized technicians working hand-in-hand with investigators . but none of the cell phones found so far have been sent to the institute , menichini said . asked whether staff involved in the search could have leaked a memory card to the media , menichini answered with a categorical `` no . '' reichelt told `` erin burnett : outfront '' that he had watched the video and stood by the report , saying bild and paris match are `` very confident '' that the clip is real . he noted that investigators only revealed they 'd recovered cell phones from the crash site after bild and paris match published their reports . `` that is something we did not know before . ... overall we can say many things of the investigation were n't revealed by the investigation at the beginning , '' he said . what was mental state of germanwings co-pilot ? german airline lufthansa confirmed tuesday that co-pilot andreas lubitz had battled depression years before he took the controls of germanwings flight 9525 , which he 's accused of deliberately crashing last week in the french alps . lubitz told his lufthansa flight training school in 2009 that he had a `` previous episode of severe depression , '' the airline said tuesday . email correspondence between lubitz and the school discovered in an internal investigation , lufthansa said , included medical documents he submitted in connection with resuming his flight training . the announcement indicates that lufthansa , the parent company of germanwings , knew of lubitz 's battle with depression , allowed him to continue training and ultimately put him in the cockpit . lufthansa , whose ceo carsten spohr previously said lubitz was 100 % fit to fly , described its statement tuesday as a `` swift and seamless clarification '' and said it was sharing the information and documents -- including training and medical records -- with public prosecutors . spohr traveled to the crash site wednesday , where recovery teams have been working for the past week to recover human remains and plane debris scattered across a steep mountainside . he saw the crisis center set up in seyne-les-alpes , laid a wreath in the village of le vernet , closer to the crash site , where grieving families have left flowers at a simple stone memorial . menichini told cnn late tuesday that no visible human remains were left at the site but recovery teams would keep searching . french president francois hollande , speaking tuesday , said that it should be possible to identify all the victims using dna analysis by the end of the week , sooner than authorities had previously suggested . in the meantime , the recovery of the victims ' personal belongings will start wednesday , menichini said . among those personal belongings could be more cell phones belonging to the 144 passengers and six crew on board . check out the latest from our correspondents . the details about lubitz 's correspondence with the flight school during his training were among several developments as investigators continued to delve into what caused the crash and lubitz 's possible motive for downing the jet . a lufthansa spokesperson told cnn on tuesday that lubitz had a valid medical certificate , had passed all his examinations and `` held all the licenses required . '' earlier , a spokesman for the prosecutor 's office in dusseldorf , christoph kumpa , said medical records reveal lubitz suffered from suicidal tendencies at some point before his aviation career and underwent psychotherapy before he got his pilot 's license . kumpa emphasized there 's no evidence suggesting lubitz was suicidal or acting aggressively before the crash . investigators are looking into whether lubitz feared his medical condition would cause him to lose his pilot 's license , a european government official briefed on the investigation told cnn on tuesday . while flying was `` a big part of his life , '' the source said , it 's only one theory being considered . another source , a law enforcement official briefed on the investigation , also told cnn that authorities believe the primary motive for lubitz to bring down the plane was that he feared he would not be allowed to fly because of his medical problems . lubitz 's girlfriend told investigators he had seen an eye doctor and a neuropsychologist , both of whom deemed him unfit to work recently and concluded he had psychological issues , the european government official said . but no matter what details emerge about his previous mental health struggles , there 's more to the story , said brian russell , a forensic psychologist . `` psychology can explain why somebody would turn rage inward on themselves about the fact that maybe they were n't going to keep doing their job and they 're upset about that and so they 're suicidal , '' he said . `` but there is no mental illness that explains why somebody then feels entitled to also take that rage and turn it outward on 149 other people who had nothing to do with the person 's problems . '' germanwings crash compensation : what we know . who was the captain of germanwings flight 9525 ? cnn 's margot haddad reported from marseille and pamela brown from dusseldorf , while laura smith-spark wrote from london . cnn 's frederik pleitgen , pamela boykoff , antonia mortensen , sandrine amiel and anna-maja rappard contributed to this report .\"]\n",
    "test_optuputs = [\"`` furious 7 '' pays tribute to star paul walker , who died during filming . vin diesel : `` this movie is more than a movie '' `` furious 7 '' opens friday ..\",\n",
    "                 \"marseille prosecutor says `` so far no videos were used in the crash investigation '' despite media reports . journalists at bild and paris match are `` very confident '' the video clip is real , an editor says . andreas lubitz had informed his lufthansa training school of an episode of severe depression , airline says .\"] "
   ]
  },
  {
   "cell_type": "markdown",
   "metadata": {},
   "source": [
    "#### Tokenization"
   ]
  },
  {
   "cell_type": "code",
   "execution_count": 7,
   "metadata": {},
   "outputs": [],
   "source": [
    "from fairseq.data.data_utils import collate_tokens"
   ]
  },
  {
   "cell_type": "code",
   "execution_count": 8,
   "metadata": {},
   "outputs": [],
   "source": [
    "input_tokens = [encode_func(s) for s in test_inputs]\n",
    "output_tokens = [encode_func(s) for s in test_optuputs]"
   ]
  },
  {
   "cell_type": "code",
   "execution_count": 9,
   "metadata": {},
   "outputs": [],
   "source": [
    "input_batch = collate_tokens(input_tokens, pad_idx=1)\n",
    "output_batch = collate_tokens(output_tokens, pad_idx=1)"
   ]
  },
  {
   "cell_type": "code",
   "execution_count": 10,
   "metadata": {},
   "outputs": [
    {
     "name": "stdout",
     "output_type": "stream",
     "text": [
      "torch.Size([2, 1024])\n",
      "torch.Size([2, 72])\n"
     ]
    }
   ],
   "source": [
    "print(input_batch.shape)\n",
    "print(output_batch.shape)"
   ]
  },
  {
   "cell_type": "code",
   "execution_count": 11,
   "metadata": {},
   "outputs": [
    {
     "data": {
      "text/plain": [
       "tensor([ 673, 1024])"
      ]
     },
     "execution_count": 11,
     "metadata": {},
     "output_type": "execute_result"
    }
   ],
   "source": [
    "(input_batch != 1).sum(dim=-1)"
   ]
  },
  {
   "cell_type": "code",
   "execution_count": 12,
   "metadata": {},
   "outputs": [
    {
     "name": "stdout",
     "output_type": "stream",
     "text": [
      "tensor([[ 1640, 16256,    43,  ...,     1,     1,     1],\n",
      "        [ 3916,  1090,  4061,  ...,   604,  1725,     2]])\n"
     ]
    }
   ],
   "source": [
    "input_batch = input_batch[:, 1:]\n",
    "print(input_batch)"
   ]
  },
  {
   "cell_type": "markdown",
   "metadata": {},
   "source": [
    "#### Encode"
   ]
  },
  {
   "cell_type": "code",
   "execution_count": 13,
   "metadata": {},
   "outputs": [],
   "source": [
    "src_lengths = torch.tensor([672, 1023], dtype=torch.long)\n",
    "encoder_outputs = bart_encoder(input_batch.cuda(), src_lengths.cuda())"
   ]
  },
  {
   "cell_type": "code",
   "execution_count": 14,
   "metadata": {},
   "outputs": [
    {
     "data": {
      "text/plain": [
       "torch.Size([1023, 2, 1024])"
      ]
     },
     "execution_count": 14,
     "metadata": {},
     "output_type": "execute_result"
    }
   ],
   "source": [
    "encoder_outputs.encoder_out.shape"
   ]
  },
  {
   "cell_type": "markdown",
   "metadata": {},
   "source": [
    "#### Decode"
   ]
  },
  {
   "cell_type": "code",
   "execution_count": 15,
   "metadata": {},
   "outputs": [],
   "source": [
    "import math"
   ]
  },
  {
   "cell_type": "code",
   "execution_count": 21,
   "metadata": {},
   "outputs": [],
   "source": [
    "init_input = torch.tensor([[2], [2]], dtype=torch.long).cuda()\n",
    "max_decode_step = 100\n",
    "pad_id = 1\n",
    "\n",
    "for step in range(max_decode_step):\n",
    "    decoder_outputs = bart_decoder(init_input, encoder_outputs)\n",
    "    logits = decoder_outputs[0]  # [batch_size, seq_len, vocab]\n",
    "    last_logits = logits[:, -1, :]  # [batch_size, vocab]\n",
    "    last_logits[:, pad_id] = -math.inf  # never select pad\n",
    "    last_logits[:, 0] = -math.inf  # never select pad\n",
    "\n",
    "    _, sample = torch.topk(last_logits, 1, dim=-1)\n",
    "    assert sample.shape[0] == init_input.shape[0] and sample.shape[1] == 1\n",
    "\n",
    "    init_input = torch.cat([init_input, sample], dim=-1)"
   ]
  },
  {
   "cell_type": "code",
   "execution_count": 22,
   "metadata": {},
   "outputs": [
    {
     "data": {
      "text/plain": [
       "tensor([[    2,   181,     4,  1656,   254,   962,    11,   117,   548, 34707,\n",
       "          1014,    23,  1046,     9,   843,     4,  1656,   254,    21,    15,\n",
       "          1108,    11,   117,   548, 34707,  1014,     4,  1656,   254,    21,\n",
       "            15,  1108,    11,   117,   548, 34707,  1014,     4,  1656,   254,\n",
       "            21,    15,  1108,    11,   512,  2058,  1695,     5,   512,  1393,\n",
       "          4533,  2403, 21966,   281,   962,    11, 19068,  3213,     4,  1656,\n",
       "           254,    21,    15,  1108,    31,  9293,    22,  1769,     8, 15940,\n",
       "           262, 12801,    11,  1287,  1422,     4,  1656,   254, 16340,  1199,\n",
       "            13,     5,  4921,  3758,    62,  1908, 14172,  5686,    13,    19,\n",
       "            39, 15429,     4,     2,   991, 23745,  5422,    11,   822,    40,\n",
       "         27606],\n",
       "        [    2,  9058,     4,  1596, 15829,  2026,     7,    33,   569,     9,\n",
       "           507,  2397,     9,  2058,     4,  1515,  5644,   161,   117,   215,\n",
       "          4338,    34,    57,   341,    11,  2058,     4,     2,   271,  1069,\n",
       "          2379,     9,  2058,    34,    45,    57,  1474,     4,     2,   271,\n",
       "          1069,  2379,   161,  3551,  4247,    33,    57,  4786,    23,  2058,\n",
       "          1082,     4,     2,   241,   281,   784,  1792,  4494,    56, 12248,\n",
       "          6943,   107,   137,    37,   362,  5656,     9,   821,  7043, 42932,\n",
       "          2524,  6164,  1244,     4,     2,   271,  1069,  2379,   161,     5,\n",
       "           569,   924,     5,  4792,   667,     7,   490,     5, 26137,  1883,\n",
       "            19,    10,  2016,  7626,     4,     2,   271,  1069,  2379,   161,\n",
       "             5]], device='cuda:0')"
      ]
     },
     "execution_count": 22,
     "metadata": {},
     "output_type": "execute_result"
    }
   ],
   "source": [
    "init_input"
   ]
  },
  {
   "cell_type": "code",
   "execution_count": 25,
   "metadata": {},
   "outputs": [
    {
     "data": {
      "text/plain": [
       "'Two. Two magazines claim to have video of final seconds of crash. French prosecutor says no such footage has been used in crash.arripe of crash has not been confirmed.arripe says cell phones have been collected at crash site.reas lub'"
      ]
     },
     "execution_count": 25,
     "metadata": {},
     "output_type": "execute_result"
    }
   ],
   "source": [
    "decode_func(init_input[1][:57])"
   ]
  },
  {
   "cell_type": "code",
   "execution_count": 24,
   "metadata": {},
   "outputs": [
    {
     "data": {
      "text/plain": [
       "' p. walker died in november 2013 at age of 40. walker was on break in november 2013. walker was on break in november 2013. walker was on break in car crash claimed the car driver roger rodas died in fiery'"
      ]
     },
     "execution_count": 24,
     "metadata": {},
     "output_type": "execute_result"
    }
   ],
   "source": [
    "decode_func(init_input[0][:57])"
   ]
  },
  {
   "cell_type": "code",
   "execution_count": 20,
   "metadata": {},
   "outputs": [
    {
     "ename": "NameError",
     "evalue": "name 'tensor' is not defined",
     "output_type": "error",
     "traceback": [
      "\u001b[0;31m---------------------------------------------------------------------------\u001b[0m",
      "\u001b[0;31mNameError\u001b[0m                                 Traceback (most recent call last)",
      "\u001b[0;32m<ipython-input-20-2c0184bf4260>\u001b[0m in \u001b[0;36m<module>\u001b[0;34m\u001b[0m\n\u001b[0;32m----> 1\u001b[0;31m tensor([[    2,   347,  4405, 14725,     6, 18585,  1745,    35,  3742,    16,\n\u001b[0m\u001b[1;32m      2\u001b[0m              \u001b[0;36m5\u001b[0m\u001b[0;34m,\u001b[0m   \u001b[0;36m144\u001b[0m\u001b[0;34m,\u001b[0m  \u001b[0;36m2247\u001b[0m\u001b[0;34m,\u001b[0m  \u001b[0;36m3944\u001b[0m\u001b[0;34m,\u001b[0m    \u001b[0;36m11\u001b[0m\u001b[0;34m,\u001b[0m     \u001b[0;36m5\u001b[0m\u001b[0;34m,\u001b[0m   \u001b[0;36m232\u001b[0m\u001b[0;34m,\u001b[0m     \u001b[0;36m6\u001b[0m\u001b[0;34m,\u001b[0m    \u001b[0;36m53\u001b[0m\u001b[0;34m,\u001b[0m    \u001b[0;36m24\u001b[0m\u001b[0;34m,\u001b[0m\u001b[0;34m\u001b[0m\u001b[0;34m\u001b[0m\u001b[0m\n\u001b[1;32m      3\u001b[0m             \u001b[0;36m18\u001b[0m\u001b[0;34m,\u001b[0m    \u001b[0;36m23\u001b[0m\u001b[0;34m,\u001b[0m   \u001b[0;36m810\u001b[0m\u001b[0;34m,\u001b[0m   \u001b[0;36m479\u001b[0m\u001b[0;34m,\u001b[0m \u001b[0;36m14725\u001b[0m\u001b[0;34m,\u001b[0m     \u001b[0;36m6\u001b[0m\u001b[0;34m,\u001b[0m  \u001b[0;36m1745\u001b[0m\u001b[0;34m,\u001b[0m    \u001b[0;36m35\u001b[0m\u001b[0;34m,\u001b[0m   \u001b[0;36m318\u001b[0m\u001b[0;34m,\u001b[0m     \u001b[0;36m5\u001b[0m\u001b[0;34m,\u001b[0m\u001b[0;34m\u001b[0m\u001b[0;34m\u001b[0m\u001b[0m\n\u001b[1;32m      4\u001b[0m          \u001b[0;36m13678\u001b[0m\u001b[0;34m,\u001b[0m   \u001b[0;36m817\u001b[0m\u001b[0;34m,\u001b[0m     \u001b[0;36m5\u001b[0m\u001b[0;34m,\u001b[0m  \u001b[0;36m1593\u001b[0m\u001b[0;34m,\u001b[0m   \u001b[0;36m568\u001b[0m\u001b[0;34m,\u001b[0m     \u001b[0;36m6\u001b[0m\u001b[0;34m,\u001b[0m    \u001b[0;36m24\u001b[0m\u001b[0;34m,\u001b[0m    \u001b[0;36m74\u001b[0m\u001b[0;34m,\u001b[0m  \u001b[0;36m3549\u001b[0m\u001b[0;34m,\u001b[0m  \u001b[0;36m1161\u001b[0m\u001b[0;34m,\u001b[0m\u001b[0;34m\u001b[0m\u001b[0;34m\u001b[0m\u001b[0m\n\u001b[1;32m      5\u001b[0m          \u001b[0;36m18755\u001b[0m\u001b[0;34m,\u001b[0m   \u001b[0;36m479\u001b[0m\u001b[0;34m,\u001b[0m   \u001b[0;36m252\u001b[0m\u001b[0;34m,\u001b[0m   \u001b[0;36m224\u001b[0m\u001b[0;34m,\u001b[0m  \u001b[0;36m1769\u001b[0m\u001b[0;34m,\u001b[0m  \u001b[0;36m7993\u001b[0m\u001b[0;34m,\u001b[0m    \u001b[0;36m74\u001b[0m\u001b[0;34m,\u001b[0m  \u001b[0;36m8439\u001b[0m\u001b[0;34m,\u001b[0m     \u001b[0;36m5\u001b[0m\u001b[0;34m,\u001b[0m   \u001b[0;36m490\u001b[0m\u001b[0;34m,\u001b[0m\u001b[0;34m\u001b[0m\u001b[0;34m\u001b[0m\u001b[0m\n",
      "\u001b[0;31mNameError\u001b[0m: name 'tensor' is not defined"
     ]
    }
   ],
   "source": [
    "tensor([[    2,   347,  4405, 14725,     6, 18585,  1745,    35,  3742,    16,\n",
    "             5,   144,  2247,  3944,    11,     5,   232,     6,    53,    24,\n",
    "            18,    23,   810,   479, 14725,     6,  1745,    35,   318,     5,\n",
    "         13678,   817,     5,  1593,   568,     6,    24,    74,  3549,  1161,\n",
    "         18755,   479,   252,   224,  1769,  7993,    74,  8439,     5,   490,\n",
    "          3742,     6,   712,  6886,     8,   850,   479, 14725,     6,  1745,\n",
    "            35,   660,   490,  3742, 15885,   776,   434,     6,   592,     8,\n",
    "           776, 11525,   479,     1],\n",
    "        [    2, 29648,  2505,     6,  3135,     6,    21,  1128,    11,  8889,\n",
    "             6,  4630,     6,    15,   772,   291,     6,  2338,   479,   522,\n",
    "            56, 22037,   123,    13,    10,   313,     9,     5,   276,   766,\n",
    "            19,    41,  3973,  5321,   479,  2505,  1449,   249,  5426,    49,\n",
    "          5021,    53,   202,  5930,   123,    62,   479,    91,    21,  2346,\n",
    "          6432,    30,    10,   333,     9,   237,  1024,   479,    91,    21,\n",
    "           547,    13,   484,   360,   137,   145,  1340,    19,   237,  3948,\n",
    "             9,  1038,  1880,   479]], device='cuda:0')"
   ]
  }
 ],
 "metadata": {
  "kernelspec": {
   "display_name": "Python 3",
   "language": "python",
   "name": "python3"
  },
  "language_info": {
   "codemirror_mode": {
    "name": "ipython",
    "version": 3
   },
   "file_extension": ".py",
   "mimetype": "text/x-python",
   "name": "python",
   "nbconvert_exporter": "python",
   "pygments_lexer": "ipython3",
   "version": "3.7.5"
  }
 },
 "nbformat": 4,
 "nbformat_minor": 4
}
