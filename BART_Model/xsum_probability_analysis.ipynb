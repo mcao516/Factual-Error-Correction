{
 "cells": [
  {
   "cell_type": "code",
   "execution_count": 1,
   "metadata": {},
   "outputs": [],
   "source": [
    "import math\n",
    "import torch\n",
    "import string\n",
    "import torch.nn as nn\n",
    "\n",
    "from fairseq.models.bart import BARTModel\n",
    "from utils import read_lines, get_probability"
   ]
  },
  {
   "cell_type": "code",
   "execution_count": 2,
   "metadata": {},
   "outputs": [],
   "source": [
    "bart = BARTModel.from_pretrained('/home/ml/cadencao/Downloads/BART_models/checkpoints_xsum_clean/',\n",
    "                                 checkpoint_file='checkpoint5.pt',\n",
    "                                 data_name_or_path='/home/ml/cadencao/Two-Steps-Summarization/datasets/XSum/cleaned_files/cnn_dm-bin')"
   ]
  },
  {
   "cell_type": "code",
   "execution_count": 3,
   "metadata": {},
   "outputs": [
    {
     "name": "stdout",
     "output_type": "stream",
     "text": [
      "- activate evaluation mode\n"
     ]
    }
   ],
   "source": [
    "bart.cuda()\n",
    "bart.eval()\n",
    "bart.half()\n",
    "print('- activate evaluation mode')"
   ]
  },
  {
   "cell_type": "code",
   "execution_count": 4,
   "metadata": {},
   "outputs": [],
   "source": [
    "encode_func = bart.encode\n",
    "decode_func = bart.decode"
   ]
  },
  {
   "cell_type": "code",
   "execution_count": 5,
   "metadata": {},
   "outputs": [
    {
     "name": "stdout",
     "output_type": "stream",
     "text": [
      "<class 'fairseq.models.bart.model.BARTModel'>\n",
      "<class 'fairseq.models.transformer.TransformerEncoder'>\n",
      "<class 'fairseq.models.transformer.TransformerDecoder'>\n"
     ]
    }
   ],
   "source": [
    "bart_encoder = bart.model.encoder\n",
    "bart_decoder = bart.model.decoder\n",
    "print(type(bart.model))\n",
    "print(type(bart_encoder))\n",
    "print(type(bart_decoder))"
   ]
  },
  {
   "cell_type": "markdown",
   "metadata": {},
   "source": [
    "#### Read XSum"
   ]
  },
  {
   "cell_type": "code",
   "execution_count": 6,
   "metadata": {},
   "outputs": [
    {
     "name": "stdout",
     "output_type": "stream",
     "text": [
      "11301\n"
     ]
    }
   ],
   "source": [
    "document_path = '/home/ml/cadencao/XSum/fairseq_files/test.source'\n",
    "target_path = '/home/ml/cadencao/XSum/fairseq_files/test.target'\n",
    "xsum_source = read_lines(document_path)\n",
    "xsum_target = read_lines(target_path)\n",
    "print(len(xsum_source))\n",
    "assert len(xsum_source) == len(xsum_target)"
   ]
  },
  {
   "cell_type": "markdown",
   "metadata": {},
   "source": [
    "#### Tokenization"
   ]
  },
  {
   "cell_type": "code",
   "execution_count": 7,
   "metadata": {},
   "outputs": [],
   "source": [
    "import spacy\n",
    "import rouge\n",
    "\n",
    "from fairseq.data.data_utils import collate_tokens"
   ]
  },
  {
   "cell_type": "code",
   "execution_count": 8,
   "metadata": {},
   "outputs": [
    {
     "name": "stdout",
     "output_type": "stream",
     "text": [
      "Evaluation with Avg\n"
     ]
    }
   ],
   "source": [
    "def prepare_results(p, r, f):\n",
    "    return '\\t{}:\\t{}: {:5.2f}\\t{}: {:5.2f}\\t{}: {:5.2f}'.format(metric, 'P', 100.0 * p, 'R', 100.0 * r, 'F1', 100.0 * f)\n",
    "\n",
    "aggregator = 'Avg'\n",
    "apply_avg = aggregator == 'Avg'\n",
    "apply_best = aggregator == 'Best'\n",
    "print('Evaluation with {}'.format(aggregator))\n",
    "\n",
    "evaluator = rouge.Rouge(metrics=['rouge-n', 'rouge-l', 'rouge-w'],\n",
    "                        max_n=4,\n",
    "                        limit_length=True,\n",
    "                        length_limit=100,\n",
    "                        length_limit_type='words',\n",
    "                        apply_avg=apply_avg,\n",
    "                        apply_best=apply_best,\n",
    "                        alpha=0.5, # Default F1_score\n",
    "                        weight_factor=1.2,\n",
    "                        stemming=True)"
   ]
  },
  {
   "cell_type": "code",
   "execution_count": 9,
   "metadata": {},
   "outputs": [],
   "source": [
    "nlp = spacy.load('en')"
   ]
  },
  {
   "cell_type": "code",
   "execution_count": 10,
   "metadata": {},
   "outputs": [
    {
     "name": "stdout",
     "output_type": "stream",
     "text": [
      "torch.Size([1, 325])\n",
      "tensor([325], device='cuda:0')\n"
     ]
    }
   ],
   "source": [
    "INDEX = 11207\n",
    "test_inputs = [xsum_source[INDEX]]\n",
    "src_tokens = collate_tokens([encode_func(i) for i in test_inputs], pad_idx=1, left_pad=True)\n",
    "src_tokens = src_tokens.cuda()\n",
    "print(src_tokens.shape)\n",
    "\n",
    "src_lengths = torch.sum(src_tokens != 1, dim=1)\n",
    "print(src_lengths)"
   ]
  },
  {
   "cell_type": "code",
   "execution_count": 11,
   "metadata": {},
   "outputs": [],
   "source": [
    "# encoding"
   ]
  },
  {
   "cell_type": "code",
   "execution_count": 12,
   "metadata": {},
   "outputs": [
    {
     "name": "stdout",
     "output_type": "stream",
     "text": [
      "torch.Size([325, 1, 1024])\n"
     ]
    }
   ],
   "source": [
    "encoder_out = bart_encoder(src_tokens, src_lengths=src_lengths)\n",
    "print(encoder_out.encoder_out.shape)  # [seq_len, batch_size, hidden_size]"
   ]
  },
  {
   "cell_type": "code",
   "execution_count": 13,
   "metadata": {},
   "outputs": [],
   "source": [
    "# decoding"
   ]
  },
  {
   "cell_type": "code",
   "execution_count": 14,
   "metadata": {},
   "outputs": [
    {
     "name": "stdout",
     "output_type": "stream",
     "text": [
      "- 00: ists (0.05)\n",
      "- 01:  have (0.25)\n",
      "- 02:  been (0.27)\n",
      "- 03:  charged (0.22)\n",
      "- 04:  with (0.78)\n",
      "- 05:  the (0.22)\n",
      "- 06:  murder (0.43)\n",
      "- 07:  of (0.92)\n",
      "- 08:  a (0.49)\n",
      "- 09:  US (0.17)\n",
      "- 10:  man (0.10)\n",
      "- 11:  in (0.24)\n",
      "- 12:  the (0.23)\n",
      "- 13:  US (0.35)\n",
      "- 14:  state (0.18)\n",
      "- 15:  of (0.95)\n",
      "- 16: , (0.09)\n",
      "- 17:  in (0.12)\n",
      "- 18:  a (0.34)\n",
      "- 19:  case (0.13)\n",
      "- 20:  that (0.42)\n",
      "- 21:  killed (0.18)\n",
      "- 22:  people (0.26)\n",
      "- 23: . (0.35)\n",
      "- Lowest Probabilities: [0, 16, 10]\n"
     ]
    }
   ],
   "source": [
    "init_input = torch.tensor([[2, 0]] * src_tokens.shape[0], dtype=torch.long).cuda()\n",
    "min_decode_step, max_decode_step, pad_id, eos_id = 10, 60, 1, 2\n",
    "softmax = nn.Softmax(dim=1)\n",
    "token_probs, tokens = [], []\n",
    "\n",
    "for step in range(max_decode_step):\n",
    "    decoder_outputs = bart_decoder(init_input, encoder_out, features_only=False)\n",
    "    logits = decoder_outputs[0][:, -1, :]  # [batch_size, vocab]\n",
    "    if step + 1 < min_decode_step:\n",
    "        logits[:, eos_id] = -math.inf\n",
    "\n",
    "    logits[:, pad_id], logits[:, 0] = -math.inf, -math.inf  # never select pad, start token\n",
    "    probs = softmax(logits)\n",
    "    assert logits.shape == probs.shape\n",
    "    attn = decoder_outputs[1]['attn'][0]  # [batch_size, prev_token_len, src_token_len]\n",
    "    assert logits.dim() == 2 and attn.dim() == 3\n",
    "\n",
    "    # preds = torch.argmax(logits, dim=1)\n",
    "    value, indices = torch.topk(probs, 5, dim=1)\n",
    "    selected_token = indices[:, 0]\n",
    "\n",
    "    if step == 1:\n",
    "        selected_token = indices[:, 0]\n",
    "    elif step == 10:\n",
    "        selected_token = indices[:, 0]\n",
    "    elif step == 12:\n",
    "        selected_token = indices[:, 0]\n",
    "\n",
    "    init_input = torch.cat([init_input, selected_token.unsqueeze(1)], dim=-1)\n",
    "    token, prob = decode_func(selected_token), probs.squeeze()[selected_token.item()].item()\n",
    "    token_probs.append(prob)\n",
    "    tokens.append(token)\n",
    "\n",
    "    if selected_token.item() == eos_id:\n",
    "        break\n",
    "    else:\n",
    "        print(\"- {:02d}: {} ({:.2f})\".format(step, token, prob), end='\\n')\n",
    "\n",
    "assert len(tokens) == len(token_probs)\n",
    "token_probs_sorted = [i for i in token_probs]\n",
    "token_probs_sorted.sort()\n",
    "print('- Lowest Probabilities: [{}, {}, {}]'.format(token_probs.index(token_probs_sorted[0]),\n",
    "                           token_probs.index(token_probs_sorted[1]),\n",
    "                           token_probs.index(token_probs_sorted[2])))"
   ]
  },
  {
   "cell_type": "code",
   "execution_count": 15,
   "metadata": {},
   "outputs": [
    {
     "name": "stdout",
     "output_type": "stream",
     "text": [
      "Target (Swansea) not found!!!\n"
     ]
    },
    {
     "data": {
      "text/plain": [
       "-1.0"
      ]
     },
     "execution_count": 15,
     "metadata": {},
     "output_type": "execute_result"
    }
   ],
   "source": [
    "get_probability('Swansea', tokens, token_probs)"
   ]
  },
  {
   "cell_type": "code",
   "execution_count": 16,
   "metadata": {},
   "outputs": [
    {
     "data": {
      "text/plain": [
       "tensor([[   2,    0, 1952,   33,   57, 1340,   19,    5, 1900,    9,   10,  382,\n",
       "          313,   11,    5,  382,  194,    9,    6,   11,   10,  403,   14,  848,\n",
       "           82,    4,    2]], device='cuda:0')"
      ]
     },
     "execution_count": 16,
     "metadata": {},
     "output_type": "execute_result"
    }
   ],
   "source": [
    "init_input"
   ]
  },
  {
   "cell_type": "code",
   "execution_count": 17,
   "metadata": {},
   "outputs": [
    {
     "name": "stdout",
     "output_type": "stream",
     "text": [
      "ists have been charged with the murder of a US man in the US state of, in a case that killed people.\n"
     ]
    }
   ],
   "source": [
    "hypothesis = decode_func(init_input[0])\n",
    "print(hypothesis)"
   ]
  },
  {
   "cell_type": "code",
   "execution_count": 18,
   "metadata": {},
   "outputs": [
    {
     "data": {
      "text/plain": [
       "(US, US)"
      ]
     },
     "execution_count": 18,
     "metadata": {},
     "output_type": "execute_result"
    }
   ],
   "source": [
    "nlp(hypothesis).ents"
   ]
  },
  {
   "cell_type": "code",
   "execution_count": 19,
   "metadata": {},
   "outputs": [
    {
     "data": {
      "text/plain": [
       "'The prosecution has rested its case in the trial of a man accused of carrying out the 2013 Boston Marathon bombings.'"
      ]
     },
     "execution_count": 19,
     "metadata": {},
     "output_type": "execute_result"
    }
   ],
   "source": [
    "xsum_target[INDEX]"
   ]
  },
  {
   "cell_type": "code",
   "execution_count": 20,
   "metadata": {},
   "outputs": [
    {
     "name": "stdout",
     "output_type": "stream",
     "text": [
      "\trouge-1:\tP: 36.36\tR: 38.10\tF1: 37.21\n",
      "\trouge-2:\tP:  9.52\tR: 10.00\tF1:  9.76\n",
      "\trouge-3:\tP:  0.00\tR:  0.00\tF1:  0.00\n",
      "\trouge-4:\tP:  0.00\tR:  0.00\tF1:  0.00\n",
      "\trouge-l:\tP: 29.09\tR: 30.24\tF1: 29.66\n",
      "\trouge-w:\tP: 19.09\tR: 10.88\tF1: 13.86\n"
     ]
    }
   ],
   "source": [
    "all_hypothesis = [hypothesis]\n",
    "all_references = [xsum_target[INDEX]]\n",
    "scores = evaluator.get_scores(all_hypothesis, all_references)\n",
    "\n",
    "for metric, results in sorted(scores.items(), key=lambda x: x[0]):\n",
    "    print(prepare_results(results['p'], results['r'], results['f']))"
   ]
  },
  {
   "cell_type": "code",
   "execution_count": 42,
   "metadata": {},
   "outputs": [
    {
     "data": {
      "text/plain": [
       "tensor([    0,   250,   809,   303,    11,     5, 24757,     9,    10,  7793,\n",
       "          745,    23,  6553, 22921,  3029,  5088,    34,    57,  2006,   479,\n",
       "            2])"
      ]
     },
     "execution_count": 42,
     "metadata": {},
     "output_type": "execute_result"
    }
   ],
   "source": [
    "SENTENCE = 'A body found in the ruins of a collapsed building at Didcot Power Station has been identified .'\n",
    "encode_func(SENTENCE)"
   ]
  },
  {
   "cell_type": "code",
   "execution_count": 58,
   "metadata": {},
   "outputs": [
    {
     "name": "stdout",
     "output_type": "stream",
     "text": [
      "A\n",
      " body\n",
      " found\n",
      " in\n",
      " the\n",
      " ruins\n",
      " of\n",
      " a\n",
      " collapsed\n",
      " building\n",
      " at\n",
      " Did\n",
      "cot\n",
      " Power\n",
      " Station\n",
      " has\n",
      " been\n",
      " identified\n",
      ".\n"
     ]
    }
   ],
   "source": [
    "for t in torch_tokens[1:-1]:\n",
    "    print(decode_func(torch.tensor([t])))"
   ]
  },
  {
   "cell_type": "code",
   "execution_count": 53,
   "metadata": {},
   "outputs": [
    {
     "data": {
      "text/plain": [
       "tensor([    0,  6553, 22921,     2])"
      ]
     },
     "execution_count": 53,
     "metadata": {},
     "output_type": "execute_result"
    }
   ],
   "source": [
    "encode_func(' Didcot')"
   ]
  },
  {
   "cell_type": "code",
   "execution_count": 56,
   "metadata": {},
   "outputs": [
    {
     "data": {
      "text/plain": [
       "'7731 25557'"
      ]
     },
     "execution_count": 56,
     "metadata": {},
     "output_type": "execute_result"
    }
   ],
   "source": [
    "bart.bpe.encode(' Didcot')"
   ]
  },
  {
   "cell_type": "code",
   "execution_count": 43,
   "metadata": {},
   "outputs": [],
   "source": [
    "tokens = bart.bpe.encode(SENTENCE)"
   ]
  },
  {
   "cell_type": "code",
   "execution_count": 44,
   "metadata": {},
   "outputs": [
    {
     "data": {
      "text/plain": [
       "'32 1767 1043 287 262 20073 286 257 14707 2615 379 7731 25557 4333 9327 468 587 5174 764'"
      ]
     },
     "execution_count": 44,
     "metadata": {},
     "output_type": "execute_result"
    }
   ],
   "source": [
    "tokens"
   ]
  },
  {
   "cell_type": "code",
   "execution_count": 45,
   "metadata": {},
   "outputs": [
    {
     "name": "stdout",
     "output_type": "stream",
     "text": [
      "18\n",
      "19\n"
     ]
    }
   ],
   "source": [
    "print(len(SENTENCE.split()))\n",
    "print(len(tokens.split()))"
   ]
  },
  {
   "cell_type": "code",
   "execution_count": 24,
   "metadata": {},
   "outputs": [],
   "source": [
    "bpe_sentence = '<s> ' + tokens + ' </s>'"
   ]
  },
  {
   "cell_type": "code",
   "execution_count": 25,
   "metadata": {},
   "outputs": [
    {
     "data": {
      "text/plain": [
       "'<s> 32 1767 1043 287 262 20073 286 257 14707 2615 379 7731 25557 4333 9327 468 587 5174 13 </s>'"
      ]
     },
     "execution_count": 25,
     "metadata": {},
     "output_type": "execute_result"
    }
   ],
   "source": [
    "bpe_sentence"
   ]
  },
  {
   "cell_type": "code",
   "execution_count": 36,
   "metadata": {},
   "outputs": [],
   "source": [
    "torch_tokens = bart.task.source_dictionary.encode_line(bpe_sentence, append_eos=False)"
   ]
  },
  {
   "cell_type": "code",
   "execution_count": 37,
   "metadata": {},
   "outputs": [
    {
     "data": {
      "text/plain": [
       "tensor([    0,   250,   809,   303,    11,     5, 24757,     9,    10,  7793,\n",
       "          745,    23,  6553, 22921,  3029,  5088,    34,    57,  2006,     4,\n",
       "            2])"
      ]
     },
     "execution_count": 37,
     "metadata": {},
     "output_type": "execute_result"
    }
   ],
   "source": [
    "torch_tokens.long()"
   ]
  },
  {
   "cell_type": "code",
   "execution_count": null,
   "metadata": {},
   "outputs": [],
   "source": []
  }
 ],
 "metadata": {
  "kernelspec": {
   "display_name": "Python 3",
   "language": "python",
   "name": "python3"
  },
  "language_info": {
   "codemirror_mode": {
    "name": "ipython",
    "version": 3
   },
   "file_extension": ".py",
   "mimetype": "text/x-python",
   "name": "python",
   "nbconvert_exporter": "python",
   "pygments_lexer": "ipython3",
   "version": "3.7.4"
  }
 },
 "nbformat": 4,
 "nbformat_minor": 4
}
