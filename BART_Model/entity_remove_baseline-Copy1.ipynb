{
 "cells": [
  {
   "cell_type": "code",
   "execution_count": 17,
   "metadata": {},
   "outputs": [],
   "source": [
    "import spacy"
   ]
  },
  {
   "cell_type": "code",
   "execution_count": 18,
   "metadata": {},
   "outputs": [],
   "source": [
    "spacy_trans = spacy.load('en')"
   ]
  },
  {
   "cell_type": "code",
   "execution_count": 19,
   "metadata": {},
   "outputs": [],
   "source": [
    "def read_lines(file_path):\n",
    "    files = []\n",
    "    with open(file_path, 'r', encoding='utf-8') as f:\n",
    "        for line in f:\n",
    "            files.append(line.strip())\n",
    "    return files"
   ]
  },
  {
   "cell_type": "code",
   "execution_count": 20,
   "metadata": {},
   "outputs": [],
   "source": [
    "test_source_path = '/home/ml/cadencao/XSum/fairseq_files/test.source'\n",
    "test_preds_path = 'preds/xsum_preds.hypo'"
   ]
  },
  {
   "cell_type": "code",
   "execution_count": 21,
   "metadata": {},
   "outputs": [
    {
     "name": "stdout",
     "output_type": "stream",
     "text": [
      "11301\n"
     ]
    }
   ],
   "source": [
    "xsum_source = read_lines(test_source_path)\n",
    "xsum_preds = read_lines(test_preds_path)\n",
    "assert len(xsum_source) == len(xsum_preds)\n",
    "print(len(xsum_preds))"
   ]
  },
  {
   "cell_type": "markdown",
   "metadata": {},
   "source": [
    "#### Baseline"
   ]
  },
  {
   "cell_type": "code",
   "execution_count": 22,
   "metadata": {},
   "outputs": [],
   "source": [
    "from tqdm import tqdm"
   ]
  },
  {
   "cell_type": "code",
   "execution_count": 23,
   "metadata": {},
   "outputs": [],
   "source": [
    "import spacy"
   ]
  },
  {
   "cell_type": "code",
   "execution_count": 24,
   "metadata": {},
   "outputs": [],
   "source": [
    "spacy_trans = spacy.load('en')"
   ]
  },
  {
   "cell_type": "code",
   "execution_count": 25,
   "metadata": {},
   "outputs": [],
   "source": [
    "out = spacy_trans('Super League player Paul Tickle is recovering in hospital after being assaulted in a nightclub in Greater Manchester.')"
   ]
  },
  {
   "cell_type": "code",
   "execution_count": 26,
   "metadata": {},
   "outputs": [
    {
     "name": "stdout",
     "output_type": "stream",
     "text": [
      "Super\n",
      "League\n",
      "player\n",
      "Paul\n",
      "Tickle\n",
      "is\n",
      "recovering\n",
      "in\n",
      "hospital\n",
      "after\n",
      "being\n",
      "assaulted\n",
      "in\n",
      "a\n",
      "nightclub\n",
      "in\n",
      "Greater\n",
      "Manchester\n",
      ".\n"
     ]
    }
   ],
   "source": [
    "for t in out:\n",
    "    print(t.text)"
   ]
  },
  {
   "cell_type": "code",
   "execution_count": 27,
   "metadata": {},
   "outputs": [
    {
     "name": "stderr",
     "output_type": "stream",
     "text": [
      "11301it [01:25, 132.73it/s]\n"
     ]
    }
   ],
   "source": [
    "processed_text = []\n",
    "for s, p in tqdm(zip(xsum_source, xsum_preds)):\n",
    "    p_tokens = spacy_trans(p)\n",
    "\n",
    "    for pt in p_tokens:\n",
    "        pt = pt.text\n",
    "        if pt[0].isupper() and pt.lower() not in s.lower():\n",
    "            p = p.replace(pt, \"\")\n",
    "\n",
    "    p = p.strip().replace('  ', ' ')\n",
    "    processed_text.append(p)"
   ]
  },
  {
   "cell_type": "code",
   "execution_count": 28,
   "metadata": {},
   "outputs": [
    {
     "data": {
      "text/plain": [
       "11301"
      ]
     },
     "execution_count": 28,
     "metadata": {},
     "output_type": "execute_result"
    }
   ],
   "source": [
    "len(processed_text)"
   ]
  },
  {
   "cell_type": "code",
   "execution_count": 29,
   "metadata": {},
   "outputs": [
    {
     "data": {
      "text/plain": [
       "'player Tickle is recovering in hospital after being assaulted in a nightclub in Greater Manchester.'"
      ]
     },
     "execution_count": 29,
     "metadata": {},
     "output_type": "execute_result"
    }
   ],
   "source": [
    "processed_text[12]"
   ]
  },
  {
   "cell_type": "code",
   "execution_count": 30,
   "metadata": {},
   "outputs": [
    {
     "data": {
      "text/plain": [
       "'Super League player Paul Tickle is recovering in hospital after being assaulted in a nightclub in Greater Manchester.'"
      ]
     },
     "execution_count": 30,
     "metadata": {},
     "output_type": "execute_result"
    }
   ],
   "source": [
    "xsum_preds[12]"
   ]
  },
  {
   "cell_type": "code",
   "execution_count": 31,
   "metadata": {},
   "outputs": [
    {
     "data": {
      "text/plain": [
       "'The Widnes Viking star was taken to hospital with head injuries following an attack at about 04:05 GMT on Sunday. A 32-year-old man has been arrested on suspicion of assault and bailed until 29 November. Greater Manchester Police said they were investigating the incident at Queen\\'s nightclub on Wigan Road in Ashton-in-Makerfield. Widnes Viking said they had been \"advised that [Tickle] will make a complete recovery\", adding they would make no further comments on the matter. The 32-year-old former England international joined the club on a three-year contract in 2014 from Hull FC. His career also involved stints with Wigan Warriors and Halifax.'"
      ]
     },
     "execution_count": 31,
     "metadata": {},
     "output_type": "execute_result"
    }
   ],
   "source": [
    "xsum_source[12]"
   ]
  },
  {
   "cell_type": "code",
   "execution_count": 32,
   "metadata": {},
   "outputs": [],
   "source": [
    "with open('preds/xsum_bm1_upper_remove.hypo', 'w') as file:\n",
    "    for l in processed_text:\n",
    "        file.write(l + '\\n')"
   ]
  }
 ],
 "metadata": {
  "kernelspec": {
   "display_name": "Python 3",
   "language": "python",
   "name": "python3"
  },
  "language_info": {
   "codemirror_mode": {
    "name": "ipython",
    "version": 3
   },
   "file_extension": ".py",
   "mimetype": "text/x-python",
   "name": "python",
   "nbconvert_exporter": "python",
   "pygments_lexer": "ipython3",
   "version": "3.7.4"
  }
 },
 "nbformat": 4,
 "nbformat_minor": 4
}
