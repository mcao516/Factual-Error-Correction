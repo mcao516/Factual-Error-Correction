{
 "cells": [
  {
   "cell_type": "code",
   "execution_count": 1,
   "metadata": {},
   "outputs": [],
   "source": [
    "import torch\n",
    "from fairseq.models.bart import BARTModel\n",
    "from fairseq.data.data_utils import collate_tokens"
   ]
  },
  {
   "cell_type": "code",
   "execution_count": 2,
   "metadata": {},
   "outputs": [
    {
     "name": "stdout",
     "output_type": "stream",
     "text": [
      "- evaluation mode activated.\n"
     ]
    }
   ],
   "source": [
    "bart = BARTModel.from_pretrained('/home/cadenc9020/fairseq/checkpoints',\n",
    "                                 checkpoint_file='checkpoint_best.pt',\n",
    "                                 data_name_or_path='/home/cadenc9020/summarization/dataset/fairseq_files/cnn_dm-bin/')\n",
    "bart.eval()\n",
    "bart.cuda()\n",
    "bart.half()\n",
    "print('- evaluation mode activated.')"
   ]
  },
  {
   "cell_type": "code",
   "execution_count": 3,
   "metadata": {},
   "outputs": [],
   "source": [
    "test_source_path = '/home/cadenc9020/summarization/dataset/fairseq_files/test-entswp-corrupted.source'\n",
    "test_target_path = '/home/cadenc9020/summarization/dataset/fairseq_files/test-entswp-corrupted.target'"
   ]
  },
  {
   "cell_type": "code",
   "execution_count": 4,
   "metadata": {},
   "outputs": [],
   "source": [
    "count = 1\n",
    "bsz = 16\n",
    "\n",
    "with open(test_source_path) as source, open('test.hypo', 'w') as fout:\n",
    "    sline = source.readline().strip()\n",
    "    slines = [sline]\n",
    "    for sline in source:\n",
    "        if count % bsz == 0:\n",
    "            with torch.no_grad():\n",
    "                hypotheses_batch = bart.sample(slines, beam=4, lenpen=2.0, max_len_b=140, min_len=55, no_repeat_ngram_size=3)\n",
    "            for hypothesis in hypotheses_batch:\n",
    "                fout.write(hypothesis + '\\n')\n",
    "                fout.flush()\n",
    "            slines = []\n",
    "\n",
    "        slines.append(sline.strip())\n",
    "        count += 1\n",
    "\n",
    "    if slines != []:\n",
    "        hypotheses_batch = bart.sample(slines, beam=4, lenpen=2.0, max_len_b=140, min_len=55, no_repeat_ngram_size=3)\n",
    "        for hypothesis in hypotheses_batch:\n",
    "            fout.write(hypothesis + '\\n')\n",
    "            fout.flush()"
   ]
  },
  {
   "cell_type": "code",
   "execution_count": 6,
   "metadata": {},
   "outputs": [
    {
     "name": "stdout",
     "output_type": "stream",
     "text": [
      "finished.\n"
     ]
    }
   ],
   "source": [
    "print('finished.')"
   ]
  },
  {
   "cell_type": "code",
   "execution_count": null,
   "metadata": {},
   "outputs": [],
   "source": []
  }
 ],
 "metadata": {
  "kernelspec": {
   "display_name": "Python 3",
   "language": "python",
   "name": "python3"
  },
  "language_info": {
   "codemirror_mode": {
    "name": "ipython",
    "version": 3
   },
   "file_extension": ".py",
   "mimetype": "text/x-python",
   "name": "python",
   "nbconvert_exporter": "python",
   "pygments_lexer": "ipython3",
   "version": "3.7.5"
  }
 },
 "nbformat": 4,
 "nbformat_minor": 4
}
