{
 "cells": [
  {
   "cell_type": "code",
   "execution_count": 1,
   "metadata": {},
   "outputs": [],
   "source": [
    "import json"
   ]
  },
  {
   "cell_type": "code",
   "execution_count": 2,
   "metadata": {},
   "outputs": [],
   "source": [
    "test_path = '/home/ml/cadencao/Two-Steps-Summarization/datasets/FactCC/test/data-dev.jsonl'\n",
    "pred_path = 'preds/fc_test_nodup_bm1_cpbest2.hypo'"
   ]
  },
  {
   "cell_type": "code",
   "execution_count": 3,
   "metadata": {},
   "outputs": [],
   "source": [
    "def read_summaries(file_path):\n",
    "    lines = []\n",
    "    with open(file_path, 'r', encoding='utf-8') as f:\n",
    "        for line in f:\n",
    "            lines.append(line.strip())\n",
    "    return lines"
   ]
  },
  {
   "cell_type": "code",
   "execution_count": 4,
   "metadata": {},
   "outputs": [],
   "source": [
    "def read_metadata(file_path):\n",
    "    data = []\n",
    "    with open(file_path, 'r', encoding='utf-8') as f:\n",
    "        for line in f:\n",
    "            data.append(json.loads(line.strip()))\n",
    "    return data"
   ]
  },
  {
   "cell_type": "code",
   "execution_count": 5,
   "metadata": {},
   "outputs": [],
   "source": [
    "test = read_metadata(test_path)\n",
    "targets = [t['claim'][0].upper() + t['claim'][1:] for t in test]\n",
    "labels = [t['label'] for t in test]\n",
    "preds = read_summaries(pred_path)\n",
    "assert len(targets) == len(preds) == len(labels)"
   ]
  },
  {
   "cell_type": "code",
   "execution_count": 6,
   "metadata": {},
   "outputs": [],
   "source": [
    "def post_process(preds):\n",
    "    processed_preds = []\n",
    "    for p in preds:\n",
    "#         if p[0] == p[1] or p[0] == '\"' or p[0] == \"'\":\n",
    "#             processed_preds.append(p[1:])\n",
    "        if (p[0] == '\"' or p[0] == \"'\") and p.count(p[0]) % 2 == 1:\n",
    "            processed_preds.append(p[1:])\n",
    "        elif p[0] == p[1]:\n",
    "            processed_preds.append(p[1:])\n",
    "        else:\n",
    "            processed_preds.append(p)\n",
    "    return processed_preds"
   ]
  },
  {
   "cell_type": "code",
   "execution_count": 7,
   "metadata": {},
   "outputs": [],
   "source": [
    "preds = post_process(preds)"
   ]
  },
  {
   "cell_type": "code",
   "execution_count": 8,
   "metadata": {},
   "outputs": [
    {
     "name": "stdout",
     "output_type": "stream",
     "text": [
      "CORRECT\n",
      "Georgia southern university was in mourning after five nursing students died.\n",
      "Georgia southern university was in mourning after five nursing students died.\n"
     ]
    }
   ],
   "source": [
    "print(labels[0])\n",
    "print(targets[0])\n",
    "print(preds[0])"
   ]
  },
  {
   "cell_type": "markdown",
   "metadata": {},
   "source": [
    "#### Classification Accuracy"
   ]
  },
  {
   "cell_type": "code",
   "execution_count": 9,
   "metadata": {},
   "outputs": [],
   "source": [
    "from sklearn.metrics import classification_report, accuracy_score, balanced_accuracy_score"
   ]
  },
  {
   "cell_type": "code",
   "execution_count": 10,
   "metadata": {},
   "outputs": [],
   "source": [
    "pred_labels = []\n",
    "for i, (t, p) in enumerate(zip(targets, preds)):\n",
    "    p_tokens = p.lower().split()\n",
    "    t_tokens = t.lower().split()\n",
    "\n",
    "    if p_tokens == t_tokens:\n",
    "        pred_labels.append('CORRECT')\n",
    "    else:\n",
    "        pred_labels.append('INCORRECT')"
   ]
  },
  {
   "cell_type": "code",
   "execution_count": 11,
   "metadata": {},
   "outputs": [
    {
     "name": "stdout",
     "output_type": "stream",
     "text": [
      "['CORRECT', 'CORRECT', 'CORRECT', 'CORRECT', 'CORRECT', 'CORRECT', 'CORRECT', 'CORRECT', 'CORRECT', 'CORRECT']\n",
      "['CORRECT', 'CORRECT', 'CORRECT', 'CORRECT', 'CORRECT', 'CORRECT', 'CORRECT', 'CORRECT', 'CORRECT', 'CORRECT']\n"
     ]
    }
   ],
   "source": [
    "print(pred_labels[: 10])\n",
    "print(labels[: 10])"
   ]
  },
  {
   "cell_type": "code",
   "execution_count": 12,
   "metadata": {},
   "outputs": [
    {
     "name": "stdout",
     "output_type": "stream",
     "text": [
      "              precision    recall  f1-score   support\n",
      "\n",
      "     CORRECT       0.91      0.89      0.90       441\n",
      "   INCORRECT       0.34      0.39      0.36        62\n",
      "\n",
      "   micro avg       0.83      0.83      0.83       503\n",
      "   macro avg       0.63      0.64      0.63       503\n",
      "weighted avg       0.84      0.83      0.84       503\n",
      "\n"
     ]
    }
   ],
   "source": [
    "print(classification_report(labels, pred_labels))"
   ]
  },
  {
   "cell_type": "code",
   "execution_count": 13,
   "metadata": {},
   "outputs": [
    {
     "data": {
      "text/plain": [
       "0.831013916500994"
      ]
     },
     "execution_count": 13,
     "metadata": {},
     "output_type": "execute_result"
    }
   ],
   "source": [
    "accuracy_score(labels, pred_labels, normalize=True)"
   ]
  },
  {
   "cell_type": "code",
   "execution_count": 14,
   "metadata": {},
   "outputs": [
    {
     "data": {
      "text/plain": [
       "0.6402604052373637"
      ]
     },
     "execution_count": 14,
     "metadata": {},
     "output_type": "execute_result"
    }
   ],
   "source": [
    "balanced_accuracy_score(labels, pred_labels)"
   ]
  },
  {
   "cell_type": "markdown",
   "metadata": {},
   "source": [
    "#### Corrupted Summaries Analysis"
   ]
  },
  {
   "cell_type": "code",
   "execution_count": 15,
   "metadata": {},
   "outputs": [
    {
     "name": "stdout",
     "output_type": "stream",
     "text": [
      "- 1 (#14)\n",
      "- o: France's memorial day commemoration is for bereaved family members as braham.\n",
      "- p: Israel's memorial day commemoration is for bereaved family members as braham.\n",
      "- 2 (#24)\n",
      "- o: Gallagher is basing his claim on the works' names and personalities.\n",
      "- p: Peter Gallagher is basing his claim on the works' names and personalities.\n",
      "- 3 (#40)\n",
      "- o: The vatican says he is \"regret and am sorry for the hurt these events have caused\".\n",
      "- p: Bishop Robert Finn says he is \"regret and am sorry for the hurt these events have caused\".\n",
      "- 4 (#51)\n",
      "- o: Dzhokhar tsarnaev, 21, was killed in the first blast at the 2013 boston marathon.\n",
      "- p: Dzhokhar ts Tsarnaev, 21, was killed in the first blast at the 2013 boston marathon.\n",
      "- 5 (#73)\n",
      "- o: Iran is alienating some of our closest allies because of the iran deal, and iran is picking up new ones.\n",
      "- p: America is alienating some of our closest allies because of the Iran deal, and Iran is picking up new ones.\n",
      "- 6 (#75)\n",
      "- o: A supreme court decision on lethal injection is expected to stay.\n",
      "- p: USA supreme court decision on lethal injection is expected to stay.\n",
      "- 7 (#92)\n",
      "- o: Joss whedon claims whedon and goddard took the idea for \"the cabin in the woods\".\n",
      "- p: Peter Gallagher claims whedon and goddard took the idea for \"the cabin in the woods\".\n",
      "- 8 (#97)\n",
      "- o: Valerie braham was one of 17 people killed in january's terror attacks in paris.\n",
      "- p: Philippe braham was one of 17 people killed in january's terror attacks in paris.\n",
      "- 9 (#136)\n",
      "- o: Lesa men and women of the jury exchanged more than 400 pieces of evidence.\n",
      "- p: The NFL men and women of the jury exchanged more than 400 pieces of evidence.\n",
      "- 10 (#197)\n",
      "- o: 147 people, including 142 students, are in critical condition.\n",
      "- p: 19 people, including 142 students, are in critical condition.\n",
      "- 11 (#207)\n",
      "- o: He was a real estate developer in 65 years ago.\n",
      "- p: He was a real estate developer in the 1950s and 1960s.\n",
      "- 12 (#274)\n",
      "- o: Pregracke has seven bedrooms, two bathrooms, a classroom and a kitchen.\n",
      "- p: Living Lands & Waters has seven bedrooms, two bathrooms, a classroom and a kitchen.\n",
      "- 13 (#285)\n",
      "- o: Steve woolfenden, 3, was conscious but bleeding from the left side of his head.\n",
      "- p: Leo woolfenden, 3, was conscious but bleeding from the left side of his head.\n",
      "- 14 (#346)\n",
      "- o: The 21 people are three women and three women have been identified.\n",
      "- p: The 21 people are eight men and three women and three men have been identified.\n",
      "- 15 (#351)\n",
      "- o: Erika langhart was looking forward to her daughter coming home for thanksgiving.\n",
      "- p: Karen Langhart was looking forward to her daughter coming home for thanksgiving.\n",
      "- 16 (#380)\n",
      "- o: He is believed to have shot himself on raymond.\n",
      "- p: He is believed to have shot himself on the front porch.\n",
      "- 17 (#398)\n",
      "- o: Cnn's sanjay gupta looks at the history of the alfred r. murrah federal building in oklahoma city, oklahoma.\n",
      "- p: CNNCnn's sanjay gupta looks at the history of the alfred r. murrah federal building in oklahoma city, oklahoma.\n",
      "- 18 (#428)\n",
      "- o: The attacks lasted four hours, two days after rebel forces attacked yemeni military troops.\n",
      "- p: The attacks lasted four hours, less than 24 hours after rebel forces attacked yemeni military troops.\n",
      "- 19 (#458)\n",
      "- o: Israel's prime minister says the terror plot has not been done.\n",
      "- p: France's prime minister says the terror plot has been done.\n",
      "- 20 (#461)\n",
      "- o: She was the one who was remembered at his memorial service by these words: \"big heart, big smiles, big service.\n",
      "- p: He was the one who was remembered at his memorial service by these words: \"big heart, big smiles, big service.\n",
      "- 21 (#464)\n",
      "- o: Tepco said the yellow glow could not be seen when filmed from other angles.\n",
      "- p: TETepco said the yellow glow could not be seen when filmed from other angles.\n",
      "- 22 (#467)\n",
      "- o: Fans on twitter are to show the movie.\n",
      "- p: \"Jurassic World\" trailerpalooza of \"Fantastic Four\" fans on twitter are to show the movie.\n",
      "- 23 (#468)\n",
      "- o: Jakarta has advised consular officials to travel to indonesia's \"execution island\" jakarta has repeatedly appealed for clemency for the pair.\n",
      "- p: Jakarta has advised consular officials to travel to indonesia's \"execution island\" Australia has repeatedly appealed for clemency for the pair.\n",
      "- 24 (#481)\n",
      "- o: A north pacific gray whale swam nearly 14,000 miles from oregon state university.\n",
      "- p: OSA north pacific gray whale swam nearly 14,000 miles from oregon state university.\n"
     ]
    }
   ],
   "source": [
    "counter = 1\n",
    "for i, (l, t, p) in enumerate(zip(labels, targets, preds)):\n",
    "    if l == 'INCORRECT' and t.lower() != p.lower():\n",
    "        print(\"- {} (#{})\".format(counter, i + 1))\n",
    "        print(\"- o: \" + t)\n",
    "        print(\"- p: \" + p)\n",
    "        counter += 1"
   ]
  },
  {
   "cell_type": "code",
   "execution_count": 16,
   "metadata": {},
   "outputs": [],
   "source": [
    "# manual analysis\n",
    "# CORRECT: 9\n",
    "# INCORRECT: 15\n",
    "# RATE: 9 / 24 = 0.375"
   ]
  },
  {
   "cell_type": "markdown",
   "metadata": {},
   "source": [
    "#### Correct Summaries Analysis"
   ]
  },
  {
   "cell_type": "code",
   "execution_count": 17,
   "metadata": {},
   "outputs": [
    {
     "name": "stdout",
     "output_type": "stream",
     "text": [
      "- 1 (#48)\n",
      "- o: A: bench warrant for failing to appear in child support court isn't about catching criminals.\n",
      "- p: QA: bench warrant for failing to appear in child support court isn't about catching criminals.\n",
      "- 2 (#50)\n",
      "- o: Obama has argued with the progressive potentate elizabeth warren.\n",
      "- p: PresidentObama has argued with the progressive potentate elizabeth warren.\n",
      "- 3 (#59)\n",
      "- o: Water temperatures warmer than they should be.\n",
      "- p: \"The Blob\" \"Water temperatures warmer than they should be. No snow where there should be feet of it. Some scientists are saying \"The Blobs\" could be playing a factor. As monikers go, the blob doesn't sound very worrisome. But if you're a salmon fisherman in Washington or a California resident hoping to see the end of the drought, the Blob could become an enemy of top concern. A University of Washington climate scientist and his associates have been studying the blob -- a huge area of unusually warm water in the Pacific -- for months. \"In the fall of\n",
      "- 4 (#60)\n",
      "- o: Poulin publicly apologized for his \"most unsettling sculpture\" in a letter to the hollywood reporter.\n",
      "- p: Dave Poulin publicly apologized for his \"most unsettling sculpture\" in a letter to the hollywood reporter.\n",
      "- 5 (#61)\n",
      "- o: Police initially saying odds were stacked against the bike.\n",
      "- p: ' epic trip' ends just days later:Police initially saying odds were stacked against the bike.\n",
      "- 6 (#67)\n",
      "- o: Billboard considering the academy of country music awards celebrated its 50th anniversary on sunday night at the dallas cowboys stadium.\n",
      "- p: The Academy of Country Music Awards considering the academy of country music awards celebrated its 50th anniversary on sunday night at the dallas cowboys stadium.\n",
      "- 7 (#70)\n",
      "- o: The area in question - aptly named carlsberg city - has been home to the famous carlsberg brewery since 1847.\n",
      "- p: The area in question - aptly named carlsberg city - has been home to the famous carlsburg brewery since 1847.\n",
      "- 8 (#80)\n",
      "- o: The hillary clinton announced she was running for president.\n",
      "- p: Hillary Clinton announced she was running for president.\n",
      "- 9 (#129)\n",
      "- o: Wei tingting, wang man, zheng churan, li tingting and wu rongrong were freed.\n",
      "- p: Wei tingting, wang man, zheng churan, li tingning and wu rongrong were freed.\n",
      "- 10 (#132)\n",
      "- o: By monday night, the fire had burned nearly 2,000 acres and was 50% contained.\n",
      "- p: By m sunday night, the fire had burned nearly 2,000 acres and was 50% contained.\n",
      "- 11 (#135)\n",
      "- o: Marine life seen swimming in unusual places.\n",
      "- p: Marine life seen swimming in unusual places. Water temperatures warmer than they should be. No snow where there should be feet of it. Some scientists are saying \"The Blob\" could be playing a factor. As monikers go, the blob doesn't sound very worrisome. But if you're a salmon fisherman in Washington or a California resident hoping to see the end of the drought, the Blob could become an enemy of top concern. A University of Washington climate scientist and his associates have been studying the blob -- a huge area of unusually warm water in the Pacific -- for months. \"In\n",
      "- 12 (#143)\n",
      "- o: Figueroa photographed a series of religious festivals that take place every july.\n",
      "- p: Andres Figueroa photographed a series of religious festivals that take place every july.\n",
      "- 13 (#151)\n",
      "- o: Slager is now charged with murder.\n",
      "- p: Michael Slager is now charged with murder.\n",
      "- 14 (#183)\n",
      "- o: The international organization for migration has tracked migrant flows through north africa for years.\n",
      "- p: The international organization for migration has tracked migrant flows through north africa for years. Eritreans want to escape repression or military service; Somalis flee Al-Shabaab and clan warfare; Syrians have given up hope of returning home. In villages in Senegal and elsewhere across West Africa, young men sell all they have in the hope of a better life in Europe, perhaps hoping to join a cousin or brother who made it.\n",
      "- 15 (#191)\n",
      "- o: Director david ayer gave us the first full look at jared leto as the joker.\n",
      "- p: David ayer gave us the first full look at jared leto as the joker.\n",
      "- 16 (#199)\n",
      "- o: Obama administration's clean power plan is an energy policy plan, not a carbon reduction plan.\n",
      "- p: 'Obama administration's clean power plan is an energy policy plan, not a carbon reduction plan.\n",
      "- 17 (#204)\n",
      "- o: Bp argued in court that bp was responsible for the release of 3.1 million barrels.\n",
      "- p: BPBp argued in court that bp was responsible for the release of 3.1 million barrels.\n",
      "- 18 (#231)\n",
      "- o: Fx's american remake, \"gracepoint,\" didn't last, but the british mystery series starring david tennant continues.\n",
      "- p: FoxFx's american remake, \"gracepoint,\" didn't last, but the british mystery series starring dir tv tennant continues.\n",
      "- 19 (#247)\n",
      "- o: Al qaeda was behind the 1998 attack that killed more than 200 people, al-shabaab has killed many more kenyans and is by far the country's most persistent tormenter.\n",
      "- p: Although al Qaeda was behind the 1998 attack that killed more than 200 people, al-shabaab has killed many more kenyans and is by far the country's most persistent tormenter.\n",
      "- 20 (#264)\n",
      "- o: Police investigating a spectacular heist in the heart of london's jewelry district.\n",
      "- p: 'Police investigating a spectacular heist in the heart of london's jewelry district.\n",
      "- 21 (#270)\n",
      "- o: Raikkonen will be looking for a repeat of ferrari's performance in malaysia.\n",
      "- p: Kimi Raikkonen will be looking for a repeat of ferrari's performance in malaysia.\n",
      "- 22 (#272)\n",
      "- o: Police found methamphetamine and cannabis while executing a search warrant at his home in new zealand.\n",
      "- p: 'AC/DC' drummer found methamphetamine and cannabis while executing a search warrant at his home in new zealand.\n",
      "- 23 (#301)\n",
      "- o: John mayer hailed his longtime idol, the late vaughan, in a heartfelt speech.\n",
      "- p: MJohn mayer hailed his longtime idol, the late vaughan, in a heartfelt speech.\n",
      "- 24 (#305)\n",
      "- o: South america's atacama desert resembles some of the faraway planets.\n",
      "- p: Chile's atacama desert resembles some of the faraway planets.\n",
      "- 25 (#339)\n",
      "- o: Warren has publicly criticized so-called \"fast track\" trade authority.\n",
      "- p: Elizabeth Warren has publicly criticized so-called \"fast track\" trade authority.\n",
      "- 26 (#341)\n",
      "- o: Seuss book sent a wave of nostalgic giddiness across twitter.\n",
      "- p: 'One Fish Two Fish Red Fish Blue Fish' book sent a wave of nostalgic giddiness across twitter.\n",
      "- 27 (#361)\n",
      "- o: Pregracke wants to clean up the nation's rivers one piece of detritus at a time.\n",
      "- p: Chad Pregracke wants to clean up the nation's rivers one piece of detritus at a time.\n",
      "- 28 (#365)\n",
      "- o: The real trial is underway for boston marathon bomber dzhokhar tsarnaev.\n",
      "- p: The real trial is underway for boston marathon bomber dzhokhar ts Tsarnaev.\n",
      "- 29 (#369)\n",
      "- o: Tpp deal would provide incentives for off-shoring jobs to low-wage countries.\n",
      "- p: PSTpp deal would provide incentives for off-shoring jobs to low-wage countries.\n",
      "- 30 (#375)\n",
      "- o: Strachan, the jury foreperson, announced the first-degree murder conviction in the 2013 shooting death of hernandez's onetime friend odin lloyd.\n",
      "- p: StStrachan, the jury foreperson, announced the first-degree murder conviction in the 2013 shooting death of Hernandez's onetime friend odin lloyd.\n",
      "- 31 (#379)\n",
      "- o: Nitrogen causes a quick loss of consciousness and then death from lack of oxygen.\n",
      "- p: Nigel Nitrogen causes a quick loss of consciousness and then death from lack of oxygen.\n",
      "- 32 (#381)\n",
      "- o: A suicide bomber on a motorbike blew himself up in front of the kabul bank.\n",
      "- p: ISISA suicide bomber on a motorbike blew himself up in front of the kabul bank.\n",
      "- 33 (#385)\n",
      "- o: The soviet union's victory day marks the 70th anniversary of the soviet's victory over nazi germany in world war ii.\n",
      "- p: The soviet union's victory day marks the 70th anniversary of the soviety's victory over nazi germany in world war ii.\n",
      "- 34 (#391)\n",
      "- o: America will be too fat to fight.\n",
      "- p: Soon, America will be too fat to fight.\n",
      "- 35 (#405)\n",
      "- o: A federal jury's decision to convict dzhokhar tsarnaev of 30 charges related to the 2013 boston marathon bombings was the most anticlimactic of anticlimaxes.\n",
      "- p: 'A federal jury's decision to convict dzhokhar ts Tsarnaev of 30 charges related to the 2013 boston marathon bombings was the most anticlimactic of anticlimaxes.\n",
      "- 36 (#406)\n",
      "- o: \"batman v. superman\" dawn of justice \"just got a makeover.\n",
      "- p: \"batman v. superman\" dawn of justice \"just got a makeover\"\n",
      "- 37 (#412)\n",
      "- o: Unicef said friday that an initial shipment of 16 tons of medical supplies, meant to help 80,000 innocents caught up in the havoc of yemen.\n",
      "- p: UNUnicef said friday that an initial shipment of 16 tons of medical supplies, meant to help 80,000 innocents caught up in the havoc of yemen.\n",
      "- 38 (#424)\n",
      "- o: Police apprehended an alleged criminal and sent wang a photo of a bike they recovered.\n",
      "- p: ' epic trip' ends just days later:Police apprehended an alleged criminal and sent wang a photo of a bike they recovered.\n",
      "- 39 (#426)\n",
      "- o: His wife, genevieve kelley, turned herself in to authorities last year, just a few months after the case was featured on cnn's \"the hunt\" the couple is accused of leaving new hampshire, kidnapping genevieve kelley's daughter, mary nunes, and beginning a life on the lam when she was 8 years old.\n",
      "- p: His wife, genevieve kelley, turned herself in to authorities last year, just a few months after the case was featured on CNN's \"the hunt\" the couple is accused of leaving new hampshire, kidnapping genevieves kelly's daughter, mary nunes, and beginning a life on the lam when she was 8 years old.\n",
      "- 40 (#427)\n",
      "- o: Slager, 33, has been fired, officials say.\n",
      "- p: Michael Slager, 33, has been fired, officials say.\n",
      "- 41 (#444)\n",
      "- o: Still, they walked to boylston street to watch the runners.\n",
      "- p: \"We were so in love and happy together,\" she told a federal jury Wednesday. Still, they walked to boylston street to watch the runners.\n",
      "- 42 (#447)\n",
      "- o: Florida enacted the firearm owners' privacy act, which threatens prosecution and loss of licensure for any physicians who dare ask their patients about gun ownership and gun safety.\n",
      "- p: Florida enacted the firearm owners' privacy act, which threatens prosecution and loss of licensingure for any physicians who dare ask their patients about gun ownership and gun safety.\n",
      "- 43 (#454)\n",
      "- o: A senior u.s. official says weinstein's capture made it hard for the united states to negotiate.\n",
      "- p: USA senior u.s. official says weinstein's capture made it hard for the united states to negotiate.\n",
      "- 44 (#463)\n",
      "- o: Seventy percent of ocean's overall economic value relies on its continued health.\n",
      "- p: 'Seventy percent of ocean's overall economic value relies on its continued health.\n",
      "- 45 (#470)\n",
      "- o: Dzhokhar tsarnaev was found guilty on all 30 charges.\n",
      "- p: Dzhokhar ts Tsarnaev was found guilty on all 30 charges.\n",
      "- 46 (#471)\n",
      "- o: Police said there was no sign of forced entry to a building in a spectacular holiday weekend heist of safe deposit boxes in the heart of london's jewelry district.\n",
      "- p: LondonPolice said there was no sign of forced entry to a building in a spectacular holiday weekend heist of safe deposit boxes in the heart of london's jewelry district.\n",
      "- 47 (#477)\n",
      "- o: Former executives who have turned state's evidence claim that construction companies paid large sums under the table to petrobras officials and politicians in order to secure lucrative contracts with the oil giant.\n",
      "- p: 'Former executives who have turned state's evidence claim that construction companies paid large sums under the table to petrobras officials and politicians in order to secure lucrative contracts with the oil giant.\n"
     ]
    }
   ],
   "source": [
    "counter = 1\n",
    "for i, (l, t, p) in enumerate(zip(labels, targets, preds)):\n",
    "    if l == 'CORRECT' and t.lower() != p.lower():\n",
    "        print(\"- {} (#{})\".format(counter, i + 1))\n",
    "        print(\"- o: \" + t)\n",
    "        print(\"- p: \" + p)\n",
    "        counter += 1"
   ]
  },
  {
   "cell_type": "code",
   "execution_count": null,
   "metadata": {},
   "outputs": [],
   "source": [
    "# manual analysis (correct)\n",
    "# CORRECT: 40\n",
    "# INCORRECT: 7\n",
    "# RATE: 0.015873015873015872"
   ]
  },
  {
   "cell_type": "code",
   "execution_count": null,
   "metadata": {},
   "outputs": [],
   "source": [
    "# manual analysis (incorrect)\n",
    "# CORRECT: 9\n",
    "# INCORRECT: 15\n",
    "# RATE: 9 / 24 = 0.375"
   ]
  }
 ],
 "metadata": {
  "kernelspec": {
   "display_name": "Python 3",
   "language": "python",
   "name": "python3"
  },
  "language_info": {
   "codemirror_mode": {
    "name": "ipython",
    "version": 3
   },
   "file_extension": ".py",
   "mimetype": "text/x-python",
   "name": "python",
   "nbconvert_exporter": "python",
   "pygments_lexer": "ipython3",
   "version": "3.7.4"
  }
 },
 "nbformat": 4,
 "nbformat_minor": 4
}
