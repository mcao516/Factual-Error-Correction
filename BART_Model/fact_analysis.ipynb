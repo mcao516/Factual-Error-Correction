{
 "cells": [
  {
   "cell_type": "markdown",
   "metadata": {},
   "source": [
    "### CNN/DailyMail"
   ]
  },
  {
   "cell_type": "code",
   "execution_count": 1,
   "metadata": {},
   "outputs": [],
   "source": [
    "test_source_path = '/home/ml/cadencao/cnn-dailymail/cnn_dm/test.source'\n",
    "test_target_path = '/home/ml/cadencao/cnn-dailymail/cnn_dm/test.target'\n",
    "test_preds_path = 'preds/test.hypo'"
   ]
  },
  {
   "cell_type": "code",
   "execution_count": 2,
   "metadata": {},
   "outputs": [],
   "source": [
    "def read_lines(file_path):\n",
    "    files = []\n",
    "    with open(file_path, 'r', encoding='utf-8') as f:\n",
    "        for line in f:\n",
    "            files.append(line.strip())\n",
    "    return files"
   ]
  },
  {
   "cell_type": "code",
   "execution_count": 3,
   "metadata": {},
   "outputs": [
    {
     "name": "stdout",
     "output_type": "stream",
     "text": [
      "11490\n"
     ]
    }
   ],
   "source": [
    "source = read_lines(test_source_path)\n",
    "target = read_lines(test_target_path)\n",
    "preds = read_lines(test_preds_path)\n",
    "assert len(source) == len(target) == len(preds)\n",
    "print(len(source))"
   ]
  },
  {
   "cell_type": "code",
   "execution_count": 4,
   "metadata": {},
   "outputs": [],
   "source": [
    "true_preds = [0, 3205, 598, 5211, 10437, 1778, 5282, 9961, 6955, 1454, 2606, 885, 7249, 10877, 8701,\n",
    "              7513, 7663, 703, 9591, 870, 3779, 5872, 5171, 10230, 2018, 10832, 6680, 3666, 9563, 3067,\n",
    "              5470, 10233, 1149, 5980, 10413, 1123, 4277, 10721, 8259, 4053, 10366, 4655, 4321]\n",
    "false_preds = [{'id': 3620, 'description': 'Should be Fantasy Football XI, not #one2eleven XI',\n",
    "                'type': ['wrong modifier'], 'operation': 'deletion'},\n",
    "               {'id': 2210, 'description': 'should be loss not defeat; also \"The former Motherwell boss replaced Kenny McDowall at Ibrox\" sounds wrong',\n",
    "                'type': ['logic error', 'nonsense'], 'operation': ['replacement', 'deletion']},\n",
    "               {'id': 3355, 'description': '\"England set-up\" should be \"international set-up\"',\n",
    "                'type': ['wrong modifier'], 'operation': ['replacement']},\n",
    "               {'id': 3997, 'description': '\"Monaco vice-president Vadim Vasilyev said\" is wrong, should be \"Chief executive Ed Woodward\"',\n",
    "                'type': ['wrong entity'], 'operation': ['replacement']},\n",
    "               {'id': 4795, 'description': '\"Jermain Defoe\" is not the top of the list',\n",
    "                'type': ['hallucination'], 'operation': ['deletion']},\n",
    "               {'id': 3934, 'description': 'wrong score, should not be 2-1, should be 2-3',\n",
    "                'type': ['wrong number'], 'operation': ['replacement']},\n",
    "               {'id': 4165, 'description': 'Arsenal is not favorite this season; Wender but not Gunners need to show some balls.',\n",
    "                'type': ['hallucination', 'wrong subject'], 'operation': ['deletion', 'replacement']}]"
   ]
  },
  {
   "cell_type": "code",
   "execution_count": 5,
   "metadata": {},
   "outputs": [
    {
     "name": "stdout",
     "output_type": "stream",
     "text": [
      "- True: 43\n",
      "- False: 7\n",
      "- Total: 50\n"
     ]
    }
   ],
   "source": [
    "print('- True: {}'.format(len(true_preds)))\n",
    "print('- False: {}'.format(len(false_preds)))\n",
    "print('- Total: {}'.format(len(true_preds) + len(false_preds)))"
   ]
  },
  {
   "cell_type": "code",
   "execution_count": 6,
   "metadata": {},
   "outputs": [],
   "source": [
    "import random"
   ]
  },
  {
   "cell_type": "code",
   "execution_count": 7,
   "metadata": {},
   "outputs": [
    {
     "name": "stdout",
     "output_type": "stream",
     "text": [
      "# 3355:\n",
      "Kevin Pietersen scored 170 in his first game for Surrey this season. The 34-year-old scored just 19 against Glamorgan on Sunday. Mike Gatting believes Pietersen should not walk straight back into the England set-up, even if he piles on the runs for Surrey. England were held to a draw in the first Test against West Indies.\n",
      "\n",
      "Kevin Pietersen scored 19 runs for Surrey against Glamorgan . Mike Gatting says if players are doing well for England then they should keep their place . Pietersen was sacked by England following the 2013/14 Ashes Tour .\n",
      "\n",
      "Former England captain Mike Gatting believes Kevin Pietersen should not walk straight back into the international set-up, even if he piles on the runs for Surrey this season. Pietersen has returned to the LV= County Championship in a bid to stake a claim for an England recall, although the 34-year-old only managed 19 runs against Glamorgan on Sunday. England were held to a draw in the opening Test of a three-match series against West Indies last week, and calls for a Pietersen comeback continue to linger ahead of the Ashes this summer. Kevin Pietersen scored 170 in his first outing for Surrey this season but scored just 19 against Glamorgan . 'There are a few bridges that still need to be rebuilt,' said Gatting, who had just penned a congratulation message to James Anderson, England's leading Test wicket-taker, as part of Slazenger's celebratory flag tour. 'Even if KP scores runs there might not be spaces available. If Gary Ballance, Ian Bell and Joe Root play well, there might not be a place for him. 'You've got to have somebody who isn't playing well to get Pietersen in. 'He doesn't just come straight back - that would be unfair on the people in there at the moment. 'If he does get runs, fine, but that's not the end of it. 'If people are playing well in the team, why should he just get straight in?' Pietersen is keen to play for England again after being sacked in 2014 . Bell and Ballance both hit centuries in Antigua while Root also showed signs of good form with scores of 83 and 59. The scorecard was less encouraging for England captain Alastair Cook, however, who could only manage 11 and 13, stretching his run without a Test century to 33 innings. Cook's poor performances saw him removed as One-Day captain before the World Cup earlier this year and Gatting admits more questions will be asked of the England skipper if he fails to find runs against West Indies. 'Alastair knows what he's got to do, he's got to get some runs,' Gatting said. 'We can keep speculating but I suspect at the end of the West Indies series, they'll look at it and if he hasn't got any runs there might be some questions asked. Gary Ballance scored a century in the first Test against West Indies . 'He might possibly get the series against New Zealand - the fact is Alastair has got more 100s than anyone else has and people do go through bad patches in their careers. 'Alastair has had a break, when he was left out of the One-Day series, he's had time to get himself sorted. 'Maybe he needs a break from the captaincy, that's for people to sit and decide, I suspect it's about the runs though, not the captaincy. 'He's a well-respected man in the team, the fact is he's a batsman, he's a captain and if he fails to get the runs somebody will have to make a decision.' Cook's future may be affected by who the England and Wales Cricket Board chooses for the new director of cricket role, created to replace sacked managing director Paul Downton. Mike Gatting has signed a giant flag congratulating Jimmy Anderson on becoming the leading England wicket taker in Test matches . Michael Vaughan, Andrew Strauss and Alec Stewart have all been mentioned in connection with the post, but Gatting is unsure what the point of the position will be. 'I've tried to think what the role could be,' Gatting said. 'If it's going to be someone more hands on with the team, how is that going to affect the coach? 'Can it be any different to the job Paul Downton did? You do need someone in charge of the overall structure. 'At the end of the day, it's all about the players - it's about how they perform. 'I just hope the ECB don't rush into the decision and they get the right person, because different people will do a different type of job.' Former MCC president Mike Gatting was signing Slazenger's 'Congratulations Jimmy' flag which will be touring the country this week. Slazenger is celebrating Jimmy Anderson becoming England's all-time leading Test wicket-taker by giving 10 per cent off its entire cricket range. Visit store.slazenger.com and follow @SlazengerSport for more details.\n"
     ]
    }
   ],
   "source": [
    "index = random.randint(0, len(source))\n",
    "index = 3355\n",
    "print('# {}:\\n{}\\n\\n{}\\n\\n{}'.format(index, preds[index], target[index], source[index]))"
   ]
  },
  {
   "cell_type": "markdown",
   "metadata": {},
   "source": [
    "### XSum"
   ]
  },
  {
   "cell_type": "code",
   "execution_count": 8,
   "metadata": {},
   "outputs": [],
   "source": [
    "test_source_path = '/home/ml/cadencao/XSum/test.source'\n",
    "test_target_path = '/home/ml/cadencao/XSum/test.target'\n",
    "test_preds_path = 'preds/xsum_preds.hypo'"
   ]
  },
  {
   "cell_type": "code",
   "execution_count": 9,
   "metadata": {},
   "outputs": [
    {
     "name": "stdout",
     "output_type": "stream",
     "text": [
      "11301\n"
     ]
    }
   ],
   "source": [
    "xsum_source = read_lines(test_source_path)\n",
    "xsum_target = read_lines(test_target_path)\n",
    "xsum_preds = read_lines(test_preds_path)\n",
    "assert len(xsum_source) == len(xsum_target) == len(xsum_preds)\n",
    "print(len(xsum_preds))"
   ]
  },
  {
   "cell_type": "code",
   "execution_count": 10,
   "metadata": {},
   "outputs": [],
   "source": [
    " xsum_true = [922, 10066, 1367, 11207, 694, 3211, 10524]\n",
    "xsum_false = [{'id': 8805, 'description': 'Wrong number; The company cut 99 staff but in the summary it says more than 100 jobs.',\n",
    "                'type': ['number'], 'operation': ['replacement'], 'segment': 'more than 100 jobs'},\n",
    "              {'id': 9444, 'description': 'Wrong location; \"Swansea\" is not mentioned in the document.',\n",
    "                'type': ['location'], 'operation': ['deletion'], 'segment': 'A Swansea hospital'},\n",
    "              {'id': 1431, 'description': 'Wrong name; should not be \"Federico Fazio\" (the name is not mentioned in the document).',\n",
    "                'type': ['location'], 'operation': ['deletion'], 'segment': 'A Swansea hospital'},\n",
    "              {'id': 7079, 'description': 'First time and Scottish champions are not mentioned in the document.',\n",
    "                'type': ['hallucination'], 'operation': ['deletion'], 'segment': 'for the first time since taking charge of the Scottish champions'},\n",
    "              {'id': 2427, 'description': 'First name \"Justin\" is not mentioned. Is not the mother who died.',\n",
    "                'type': ['hallucination'], 'operation': ['deletion'], 'segment': ['Justin', 'who died at mother-and-baby homes']},\n",
    "              {'id': 6220, 'description': '\"Swansea Power Station\" is not mentioned and wrong.',\n",
    "                'type': ['hallucination'], 'operation': ['deletion'], 'segment': ['Swansea Power Station']},\n",
    "              {'id': 5860, 'description': 'Wrong number (£940) and unmentioned date (1 July).',\n",
    "                'type': ['number', 'hallucination'], 'operation': ['replacement', 'deletion'], 'segment': ['£940', 'from 1 July']},\n",
    "              {'id': 10579, 'description': 'Wrong place.',\n",
    "                'type': ['location'], 'operation': ['deletion'], 'segment': ['Leytonstone']},\n",
    "              {'id': 5455, 'description': 'Wrong nationality and \"sentenced to life in prison\" is not mentioned.',\n",
    "                'type': ['attribute', 'hallucination'], 'operation': ['replacement', 'deletion'], 'segment': ['British', 'has been sentenced to life in prison']},\n",
    "              {'id': 1168, 'description': '\"undisclosed sum\" is not mentioned in the documetn; object is wrong.',\n",
    "                'type': ['hallucination', 'object'], 'operation': ['deletion', 'replacement'], 'segment': ['for an undisclosed sum', 'a Belfast-based investment firm']},\n",
    "              {'id': 2407, 'description': 'Wrong number.',\n",
    "                'type': ['number'], 'operation': ['deletion'], 'segment': ['1,000']},\n",
    "              {'id': 416, 'description': 'Wrong subject.',\n",
    "                'type': ['subject'], 'operation': ['deletion'], 'segment': ['Watford']},\n",
    "              {'id': 6824, 'description': '',\n",
    "                'type': [''], 'operation': [''], 'segment': ['']},\n",
    "              {'id': 1513, 'description': 'Wrong number; opposite transfer direction and collapsed reason.',\n",
    "                'type': ['hallucination', 'entity'], 'operation': ['deletion', 'replacement'], 'segment': ['£35m', 'after the Spanish club said it would appeal against the transfer.']},\n",
    "              {'id': 1819, 'description': '\"totally insensitive\" to the nationalist population',\n",
    "                'type': [''], 'operation': ['replacement'], 'segment': ['totally insensitive']},\n",
    "              {'id': 560, 'description': 'Wrong time; wrong first name; ',\n",
    "                'type': [''], 'operation': ['replacement'], 'segment': ['totally insensitive']},\n",
    "             ]"
   ]
  },
  {
   "cell_type": "code",
   "execution_count": 11,
   "metadata": {},
   "outputs": [
    {
     "name": "stdout",
     "output_type": "stream",
     "text": [
      "- True: 7\n",
      "- False: 16\n",
      "- Total: 23\n"
     ]
    }
   ],
   "source": [
    "print('- True: {}'.format(len(xsum_true)))\n",
    "print('- False: {}'.format(len(xsum_false)))\n",
    "print('- Total: {}'.format(len(xsum_true) + len(xsum_false)))"
   ]
  },
  {
   "cell_type": "code",
   "execution_count": 13,
   "metadata": {},
   "outputs": [
    {
     "name": "stdout",
     "output_type": "stream",
     "text": [
      "# 560:\n",
      "South Africa are to begin a search for a new head coach for the 2017 tour of England, with current boss Ottis Domingo set to leave the team.\n",
      "\n",
      "South Africa head coach Russell Domingo will have to reapply for his job if he wants to stay in charge of the team after their summer tour of England.\n",
      "\n",
      "Domingo has been in the role since May 2013 and his contract ends in August. Cricket South Africa have said they are \"resolved to begin a recruitment process\" as they look to appoint a head coach \"through to the 2019 World Cup\". South Africa will play three one-day internationals, three Twenty20 games and four Test matches against England. Domingo's side are currently ranked third in Tests, second in one-day internationals and fourth in T20 cricket. The 42-year-old guided his team to a 3-0 Test series win over Sri Lanka earlier this month and a 2-1 away Test series success in Australia in November. South Africa won the first of five one-day internationals against Sri Lanka on Saturday with a convincing eight-wicket victory at Port Elizabeth. Sri Lanka were bowled out for 181 and South Africa reached 185-2 with 15.4 overs remaining with Hashim Amla scoring 57 and Faf du Plessis making an unbeaten 55.\n"
     ]
    }
   ],
   "source": [
    "index = random.randint(0, len(xsum_source))\n",
    "index = 7079\n",
    "print('# {}:\\n{}\\n\\n{}\\n\\n{}'.format(index, xsum_preds[index], xsum_target[index], xsum_source[index]))"
   ]
  },
  {
   "cell_type": "code",
   "execution_count": null,
   "metadata": {},
   "outputs": [],
   "source": []
  }
 ],
 "metadata": {
  "kernelspec": {
   "display_name": "Python 3",
   "language": "python",
   "name": "python3"
  },
  "language_info": {
   "codemirror_mode": {
    "name": "ipython",
    "version": 3
   },
   "file_extension": ".py",
   "mimetype": "text/x-python",
   "name": "python",
   "nbconvert_exporter": "python",
   "pygments_lexer": "ipython3",
   "version": "3.7.4"
  }
 },
 "nbformat": 4,
 "nbformat_minor": 4
}
