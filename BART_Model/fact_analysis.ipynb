{
 "cells": [
  {
   "cell_type": "markdown",
   "metadata": {},
   "source": [
    "### CNN/DailyMail"
   ]
  },
  {
   "cell_type": "code",
   "execution_count": 16,
   "metadata": {},
   "outputs": [],
   "source": [
    "test_source_path = '/home/ml/cadencao/cnn-dailymail/cnn_dm/test.source'\n",
    "test_target_path = '/home/ml/cadencao/cnn-dailymail/cnn_dm/test.target'\n",
    "test_preds_path = 'preds/test.hypo'"
   ]
  },
  {
   "cell_type": "code",
   "execution_count": 17,
   "metadata": {},
   "outputs": [],
   "source": [
    "def read_lines(file_path):\n",
    "    files = []\n",
    "    with open(file_path, 'r', encoding='utf-8') as f:\n",
    "        for line in f:\n",
    "            files.append(line.strip())\n",
    "    return files"
   ]
  },
  {
   "cell_type": "code",
   "execution_count": 18,
   "metadata": {},
   "outputs": [
    {
     "name": "stdout",
     "output_type": "stream",
     "text": [
      "11490\n"
     ]
    }
   ],
   "source": [
    "source = read_lines(test_source_path)\n",
    "target = read_lines(test_target_path)\n",
    "preds = read_lines(test_preds_path)\n",
    "assert len(source) == len(target) == len(preds)\n",
    "print(len(source))"
   ]
  },
  {
   "cell_type": "code",
   "execution_count": 19,
   "metadata": {},
   "outputs": [],
   "source": [
    "true_preds = [0, 3205, 598, 5211, 10437, 1778, 5282, 9961, 6955, 1454, 2606, 885, 7249, 10877, 8701,\n",
    "              7513, 7663, 703, 9591, 870, 3779, 5872, 5171, 10230, 2018, 10832, 6680, 3666, 9563, 3067,\n",
    "              5470, 10233, 1149, 5980, 10413, 1123, 4277, 10721, 8259, 4053, 10366, 4655, 4321]\n",
    "false_preds = [{'id': 3620, 'description': 'Should be Fantasy Football XI, not #one2eleven XI',\n",
    "                'type': ['wrong modifier'], 'operation': 'deletion'},\n",
    "               {'id': 2210, 'description': 'should be loss not defeat; also \"The former Motherwell boss replaced Kenny McDowall at Ibrox\" sounds wrong',\n",
    "                'type': ['logic error', 'nonsense'], 'operation': ['replacement', 'deletion']},\n",
    "               {'id': 3355, 'description': '\"England set-up\" should be \"international set-up\"',\n",
    "                'type': ['wrong modifier'], 'operation': ['replacement']},\n",
    "               {'id': 3997, 'description': '\"Monaco vice-president Vadim Vasilyev said\" is wrong, should be \"Chief executive Ed Woodward\"',\n",
    "                'type': ['wrong entity'], 'operation': ['replacement']},\n",
    "               {'id': 4795, 'description': '\"Jermain Defoe\" is not the top of the list',\n",
    "                'type': ['hallucination'], 'operation': ['deletion']},\n",
    "               {'id': 3934, 'description': 'wrong score, should not be 2-1, should be 2-3',\n",
    "                'type': ['wrong number'], 'operation': ['replacement']},\n",
    "               {'id': 4165, 'description': 'Arsenal is not favorite this season; Wender but not Gunners need to show some balls.',\n",
    "                'type': ['hallucination', 'wrong subject'], 'operation': ['deletion', 'replacement']}]"
   ]
  },
  {
   "cell_type": "code",
   "execution_count": 20,
   "metadata": {},
   "outputs": [
    {
     "name": "stdout",
     "output_type": "stream",
     "text": [
      "- True: 43\n",
      "- False: 7\n",
      "- Total: 50\n"
     ]
    }
   ],
   "source": [
    "print('- True: {}'.format(len(true_preds)))\n",
    "print('- False: {}'.format(len(false_preds)))\n",
    "print('- Total: {}'.format(len(true_preds) + len(false_preds)))"
   ]
  },
  {
   "cell_type": "code",
   "execution_count": 21,
   "metadata": {},
   "outputs": [],
   "source": [
    "import random"
   ]
  },
  {
   "cell_type": "code",
   "execution_count": 22,
   "metadata": {},
   "outputs": [
    {
     "name": "stdout",
     "output_type": "stream",
     "text": [
      "# 0:\n",
      "A French prosecutor says he is not aware of any video footage from on board the plane. German daily Bild and Paris Match claim to have found a cell phone video of the crash. A French Gendarmerie spokesman calls the reports \"completely wrong\" and \"unwarranted\" German airline Lufthansa says co-pilot Andreas Lubitz battled depression years before he took the controls.\n",
      "\n",
      "Marseille prosecutor says \"so far no videos were used in the crash investigation\" despite media reports . Journalists at Bild and Paris Match are \"very confident\" the video clip is real, an editor says . Andreas Lubitz had informed his Lufthansa training school of an episode of severe depression, airline says .\n",
      "\n",
      "Marseille, France (CNN)The French prosecutor leading an investigation into the crash of Germanwings Flight 9525 insisted Wednesday that he was not aware of any video footage from on board the plane. Marseille prosecutor Brice Robin told CNN that \"so far no videos were used in the crash investigation.\" He added, \"A person who has such a video needs to immediately give it to the investigators.\" Robin's comments follow claims by two magazines, German daily Bild and French Paris Match, of a cell phone video showing the harrowing final seconds from on board Germanwings Flight 9525 as it crashed into the French Alps. All 150 on board were killed. Paris Match and Bild reported that the video was recovered from a phone at the wreckage site. The two publications described the supposed video, but did not post it on their websites. The publications said that they watched the video, which was found by a source close to the investigation. \"One can hear cries of 'My God' in several languages,\" Paris Match reported. \"Metallic banging can also be heard more than three times, perhaps of the pilot trying to open the cockpit door with a heavy object.  Towards the end, after a heavy shake, stronger than the others, the screaming intensifies. Then nothing.\" \"It is a very disturbing scene,\" said Julian Reichelt, editor-in-chief of Bild online. An official with France's accident investigation agency, the BEA, said the agency is not aware of any such video. Lt. Col. Jean-Marc Menichini, a French Gendarmerie spokesman in charge of communications on rescue efforts around the Germanwings crash site, told CNN that the reports were \"completely wrong\" and \"unwarranted.\" Cell phones have been collected at the site, he said, but that they \"hadn't been exploited yet.\" Menichini said he believed the cell phones would need to be sent to the Criminal Research Institute in Rosny sous-Bois, near Paris, in order to be analyzed by specialized technicians working hand-in-hand with investigators. But none of the cell phones found so far have been sent to the institute, Menichini said. Asked whether staff involved in the search could have leaked a memory card to the media, Menichini answered with a categorical \"no.\" Reichelt told \"Erin Burnett: Outfront\" that he had watched the video and stood by the report, saying Bild and Paris Match are \"very confident\" that the clip is real. He noted that investigators only revealed they'd recovered cell phones from the crash site after Bild and Paris Match published their reports. \"That is something we did not know before. ... Overall we can say many things of the investigation weren't revealed by the investigation at the beginning,\" he said. What was mental state of Germanwings co-pilot? German airline Lufthansa confirmed Tuesday that co-pilot Andreas Lubitz had battled depression years before he took the controls of Germanwings Flight 9525, which he's accused of deliberately crashing last week in the French Alps. Lubitz told his Lufthansa flight training school in 2009 that he had a \"previous episode of severe depression,\" the airline said Tuesday. Email correspondence between Lubitz and the school discovered in an internal investigation, Lufthansa said, included medical documents he submitted in connection with resuming his flight training. The announcement indicates that Lufthansa, the parent company of Germanwings, knew of Lubitz's battle with depression, allowed him to continue training and ultimately put him in the cockpit. Lufthansa, whose CEO Carsten Spohr previously said Lubitz was 100% fit to fly, described its statement Tuesday as a \"swift and seamless clarification\" and said it was sharing the information and documents -- including training and medical records -- with public prosecutors. Spohr traveled to the crash site Wednesday, where recovery teams have been working for the past week to recover human remains and plane debris scattered across a steep mountainside. He saw the crisis center set up in Seyne-les-Alpes, laid a wreath in the village of Le Vernet, closer to the crash site, where grieving families have left flowers at a simple stone memorial. Menichini told CNN late Tuesday that no visible human remains were left at the site but recovery teams would keep searching. French President Francois Hollande, speaking Tuesday, said that it should be possible to identify all the victims using DNA analysis by the end of the week, sooner than authorities had previously suggested. In the meantime, the recovery of the victims' personal belongings will start Wednesday, Menichini said. Among those personal belongings could be more cell phones belonging to the 144 passengers and six crew on board. Check out the latest from our correspondents . The details about Lubitz's correspondence with the flight school during his training were among several developments as investigators continued to delve into what caused the crash and Lubitz's possible motive for downing the jet. A Lufthansa spokesperson told CNN on Tuesday that Lubitz had a valid medical certificate, had passed all his examinations and \"held all the licenses required.\" Earlier, a spokesman for the prosecutor's office in Dusseldorf, Christoph Kumpa, said medical records reveal Lubitz suffered from suicidal tendencies at some point before his aviation career and underwent psychotherapy before he got his pilot's license. Kumpa emphasized there's no evidence suggesting Lubitz was suicidal or acting aggressively before the crash. Investigators are looking into whether Lubitz feared his medical condition would cause him to lose his pilot's license, a European government official briefed on the investigation told CNN on Tuesday. While flying was \"a big part of his life,\" the source said, it's only one theory being considered. Another source, a law enforcement official briefed on the investigation, also told CNN that authorities believe the primary motive for Lubitz to bring down the plane was that he feared he would not be allowed to fly because of his medical problems. Lubitz's girlfriend told investigators he had seen an eye doctor and a neuropsychologist, both of whom deemed him unfit to work recently and concluded he had psychological issues, the European government official said. But no matter what details emerge about his previous mental health struggles, there's more to the story, said Brian Russell, a forensic psychologist. \"Psychology can explain why somebody would turn rage inward on themselves about the fact that maybe they weren't going to keep doing their job and they're upset about that and so they're suicidal,\" he said. \"But there is no mental illness that explains why somebody then feels entitled to also take that rage and turn it outward on 149 other people who had nothing to do with the person's problems.\" Germanwings crash compensation: What we know . Who was the captain of Germanwings Flight 9525? CNN's Margot Haddad reported from Marseille and Pamela Brown from Dusseldorf, while Laura Smith-Spark wrote from London. CNN's Frederik Pleitgen, Pamela Boykoff, Antonia Mortensen, Sandrine Amiel and Anna-Maja Rappard contributed to this report.\n"
     ]
    }
   ],
   "source": [
    "index = random.randint(0, len(source))\n",
    "index = 0\n",
    "print('# {}:\\n{}\\n\\n{}\\n\\n{}'.format(index, preds[index], target[index], source[index]))"
   ]
  },
  {
   "cell_type": "markdown",
   "metadata": {},
   "source": [
    "### XSum"
   ]
  },
  {
   "cell_type": "code",
   "execution_count": 23,
   "metadata": {},
   "outputs": [],
   "source": [
    "test_source_path = '/home/ml/cadencao/XSum/fairseq_files/test.source'\n",
    "test_target_path = '/home/ml/cadencao/XSum/fairseq_files/test.target'\n",
    "test_preds_path = 'preds/xsum_preds.hypo'"
   ]
  },
  {
   "cell_type": "code",
   "execution_count": 24,
   "metadata": {},
   "outputs": [
    {
     "name": "stdout",
     "output_type": "stream",
     "text": [
      "11301\n"
     ]
    }
   ],
   "source": [
    "xsum_source = read_lines(test_source_path)\n",
    "xsum_target = read_lines(test_target_path)\n",
    "xsum_preds = read_lines(test_preds_path)\n",
    "assert len(xsum_source) == len(xsum_target) == len(xsum_preds)\n",
    "print(len(xsum_preds))"
   ]
  },
  {
   "cell_type": "code",
   "execution_count": 25,
   "metadata": {},
   "outputs": [],
   "source": [
    "xsum_true = [922, 10066, 1367, 11207, 694, 3211, 10524]\n",
    "xsum_false = [{'id': 8805, 'description': 'Wrong number; The company cut 99 staff but in the summary it says more than 100 jobs.',\n",
    "                'type': ['number'], 'operation': ['replacement'], 'segment': 'more than 100 jobs'},\n",
    "              {'id': 9444, 'description': 'Wrong location; \"Swansea\" is not mentioned in the document.',\n",
    "                'type': ['location'], 'operation': ['deletion'], 'segment': 'A Swansea hospital'},\n",
    "              {'id': 1431, 'description': 'Wrong name; should not be \"Federico Fazio\" (the name is not mentioned in the document).',\n",
    "                'type': ['location'], 'operation': ['deletion'], 'segment': 'A Swansea hospital'},\n",
    "              {'id': 7079, 'description': 'Scottish champions are not mentioned in the document.',\n",
    "                'type': ['hallucination'], 'operation': ['deletion'], 'segment': 'the Scottish champions'},\n",
    "              {'id': 2427, 'description': 'First name \"Justin\" is not mentioned. Is not the mother who died.',\n",
    "                'type': ['hallucination'], 'operation': ['deletion'], 'segment': ['Justin', 'who died at mother-and-baby homes']},\n",
    "              {'id': 6220, 'description': '\"Swansea Power Station\" is not mentioned and wrong.',\n",
    "                'type': ['hallucination'], 'operation': ['deletion'], 'segment': ['Swansea Power Station']},\n",
    "              {'id': 5860, 'description': 'Wrong number (£940) and unmentioned date (1 July).',\n",
    "                'type': ['number', 'hallucination'], 'operation': ['replacement', 'deletion'], 'segment': ['£940', 'from 1 July']},\n",
    "              {'id': 10579, 'description': 'Wrong place.',\n",
    "                'type': ['location'], 'operation': ['deletion'], 'segment': ['Leytonstone']},\n",
    "              {'id': 5455, 'description': 'Wrong nationality and \"sentenced to life in prison\" is not mentioned.',\n",
    "                'type': ['attribute', 'hallucination'], 'operation': ['replacement', 'deletion'], 'segment': ['British', 'has been sentenced to life in prison']},\n",
    "              {'id': 1168, 'description': '\"undisclosed sum\" is not mentioned in the documetn; object is wrong.',\n",
    "                'type': ['hallucination', 'object'], 'operation': ['deletion', 'replacement'], 'segment': ['for an undisclosed sum', 'a Belfast-based investment firm']},\n",
    "              {'id': 2407, 'description': 'Wrong number.',\n",
    "                'type': ['number'], 'operation': ['deletion'], 'segment': ['1,000']},\n",
    "              {'id': 416, 'description': 'Wrong subject.',\n",
    "                'type': ['subject'], 'operation': ['deletion'], 'segment': ['Watford']},\n",
    "              {'id': 6824, 'description': 'Ryan is wrong, should be Rangi; \"subject to a medical and a work permit\" is not mentioned in the document.',\n",
    "                'type': [''], 'operation': [''], 'segment': ['']},\n",
    "              {'id': 1513, 'description': 'Wrong number; opposite transfer direction and collapsed reason.',\n",
    "                'type': ['hallucination', 'entity'], 'operation': ['deletion', 'replacement'], 'segment': ['£35m', 'after the Spanish club said it would appeal against the transfer.']},\n",
    "              {'id': 1819, 'description': '\"totally insensitive\" to the nationalist population',\n",
    "                'type': [''], 'operation': ['replacement'], 'segment': ['totally insensitive']},\n",
    "              {'id': 560, 'description': 'Wrong first name (Ottis).',\n",
    "                'type': [''], 'operation': ['replacement'], 'segment': ['totally insensitive']},\n",
    "             ]\n",
    "entity_change = [10579, 2407, 416, 6824, 1513, 560, 5860, 6220, 2427, 1431, 9444] # 30%\n",
    "correct = [1819, 1168, 5455]"
   ]
  },
  {
   "cell_type": "code",
   "execution_count": 26,
   "metadata": {},
   "outputs": [
    {
     "name": "stdout",
     "output_type": "stream",
     "text": [
      "- True: 7\n",
      "- False: 16\n",
      "- Total: 23\n"
     ]
    }
   ],
   "source": [
    "print('- True: {}'.format(len(xsum_true)))\n",
    "print('- False: {}'.format(len(xsum_false)))\n",
    "print('- Total: {}'.format(len(xsum_true) + len(xsum_false)))"
   ]
  },
  {
   "cell_type": "code",
   "execution_count": 33,
   "metadata": {},
   "outputs": [
    {
     "name": "stdout",
     "output_type": "stream",
     "text": [
      "# 1819:\n",
      "The brother of a victim of Bloody Sunday has said a planned march by veterans to protest against the prosecution of former soldiers for their part in the killings is \"totally insensitive\".\n",
      "\n",
      "Relatives of Bloody Sunday victims have called a march by military veterans in Londonderry \"an act of pure provocation\".\n",
      "\n",
      "John Kelly, whose brother Michael was killed in the 1972 atrocity, said the march was a \"deliberate insult\" to the people of Derry. Veterans for Justice UK expect about 100 former soldiers to take part in a march through the city next month. Organisers said it was to highlight \"injustices against soldiers\". Mr Kelly said the march by British Army veterans on 4 March \"must not be allowed to happen\". \"Clearly, this is an act of pure provocation and is totally insensitive to the nationalist population. It's a deliberate insult,\" he said. \"Its organisers should think carefully about the effect this could have on bereaved families here, families still reeling from the crimes of the past, not to mention the ordinary citizens of this city.\" Thirteen people were shot dead on 30 January 1972, and a 14th victim died later, after troops opened fire on a civil rights march. Speaking on behalf of the Bloody Sunday Trust, Minty Thompson said holding the march in Derry was a \"deliberately provocative act\". \"This city has clearly been chosen because it was the scene of one of the most horrific acts of state violence in our history, Bloody Sunday, and because soldiers who were involved in that event, who shot down innocent and unarmed people on our streets, are at long last being investigated for their actions,\" he said. The Northern Ireland branch of the Veterans for Justice UK group was established in December 2015. Anto Wickham, who is organising the Derry march, said their aims were to protect soldiers serving in Iraq and Afghanistan facing \"false prosecutions\". \"If soldiers break the law then they face the rigours of the law and rightly so, and it's the same as it should be for any other member of the community,\" he said. \"But where's the investigation into my colleagues and friends who were murdered? It just seems to be forgotten about.\" The former Royal Irish Regiment soldier added the marches were planned in 2016 as part of a larger campaign to put pressure on the government. Mr Wickham said he was \"upset\" by suggestions the march was planned to raise tensions in the city. \"I understand the families and the victims are still really hurt and they want prosecutions. \"If that's the case, and there is evidence, then you have to face the rigours of the law but that should also be the same with the IRA.\" The prosecution of those involved in killings is a major stumbling block in efforts to deal with the legacy of Northern Ireland's Troubles. Last month, the director of public prosecutions for Northern Ireland said critics who accused him of treating former soldiers unfairly had insulted him and his office. Barra McGrory QC said he was mystified by claims he did not act impartially when he brought charges against a small number of ex-soldiers. Meanwhile, lawyers representing former soldiers facing prosecution have said they are being 'unfairly treated'.\n"
     ]
    }
   ],
   "source": [
    "index = random.randint(0, len(xsum_source))\n",
    "index = 1819\n",
    "print('# {}:\\n{}\\n\\n{}\\n\\n{}'.format(index, xsum_preds[index], xsum_target[index], xsum_source[index]))"
   ]
  },
  {
   "cell_type": "code",
   "execution_count": 28,
   "metadata": {},
   "outputs": [
    {
     "data": {
      "text/plain": [
       "'South Africa are to begin a search for a new head coach for the 2017 tour of England, with current boss Ottis Domingo set to leave the team.'"
      ]
     },
     "execution_count": 28,
     "metadata": {},
     "output_type": "execute_result"
    }
   ],
   "source": [
    "\"South Africa are to begin a search for a new head coach for the 2017 tour of England, with current boss Ottis Domingo set to leave the team.\""
   ]
  },
  {
   "cell_type": "code",
   "execution_count": 29,
   "metadata": {},
   "outputs": [
    {
     "data": {
      "text/plain": [
       "\"South Africa are to begin a search for a new head coach ahead of next month's tour of England, with current boss Ottis Domingo set to step down.\""
      ]
     },
     "execution_count": 29,
     "metadata": {},
     "output_type": "execute_result"
    }
   ],
   "source": [
    "\"South Africa are to begin a search for a new head coach ahead of next month's tour of England, with current boss Ottis Domingo set to step down.\""
   ]
  },
  {
   "cell_type": "code",
   "execution_count": null,
   "metadata": {},
   "outputs": [],
   "source": []
  }
 ],
 "metadata": {
  "kernelspec": {
   "display_name": "Python 3",
   "language": "python",
   "name": "python3"
  },
  "language_info": {
   "codemirror_mode": {
    "name": "ipython",
    "version": 3
   },
   "file_extension": ".py",
   "mimetype": "text/x-python",
   "name": "python",
   "nbconvert_exporter": "python",
   "pygments_lexer": "ipython3",
   "version": "3.7.4"
  }
 },
 "nbformat": 4,
 "nbformat_minor": 4
}
