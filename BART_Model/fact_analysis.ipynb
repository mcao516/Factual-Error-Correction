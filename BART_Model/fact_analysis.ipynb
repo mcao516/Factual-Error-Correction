{
 "cells": [
  {
   "cell_type": "markdown",
   "metadata": {},
   "source": [
    "### CNN/DailyMail"
   ]
  },
  {
   "cell_type": "code",
   "execution_count": 2,
   "metadata": {},
   "outputs": [],
   "source": [
    "test_source_path = '/home/ml/cadencao/cnn-dailymail/cnn_dm/test.source'\n",
    "test_target_path = '/home/ml/cadencao/cnn-dailymail/cnn_dm/test.target'\n",
    "test_preds_path = 'preds/test.hypo'"
   ]
  },
  {
   "cell_type": "code",
   "execution_count": 3,
   "metadata": {},
   "outputs": [],
   "source": [
    "def read_lines(file_path):\n",
    "    files = []\n",
    "    with open(file_path, 'r', encoding='utf-8') as f:\n",
    "        for line in f:\n",
    "            files.append(line.strip())\n",
    "    return files"
   ]
  },
  {
   "cell_type": "code",
   "execution_count": 4,
   "metadata": {},
   "outputs": [
    {
     "name": "stdout",
     "output_type": "stream",
     "text": [
      "11490\n"
     ]
    }
   ],
   "source": [
    "source = read_lines(test_source_path)\n",
    "target = read_lines(test_target_path)\n",
    "preds = read_lines(test_preds_path)\n",
    "assert len(source) == len(target) == len(preds)\n",
    "print(len(source))"
   ]
  },
  {
   "cell_type": "code",
   "execution_count": 5,
   "metadata": {},
   "outputs": [],
   "source": [
    "true_preds = [0, 3205, 598, 5211, 10437, 1778, 5282, 9961, 6955, 1454, 2606, 885, 7249, 10877, 8701,\n",
    "              7513, 7663, 703, 9591, 870, 3779, 5872, 5171, 10230, 2018, 10832, 6680, 3666, 9563, 3067,\n",
    "              5470, 10233, 1149, 5980, 10413, 1123, 4277, 10721, 8259, 4053, 10366, 4655, 4321]\n",
    "false_preds = [{'id': 3620, 'description': 'Should be Fantasy Football XI, not #one2eleven XI',\n",
    "                'type': ['wrong modifier'], 'operation': 'deletion'},\n",
    "               {'id': 2210, 'description': 'should be loss not defeat; also \"The former Motherwell boss replaced Kenny McDowall at Ibrox\" sounds wrong',\n",
    "                'type': ['logic error', 'nonsense'], 'operation': ['replacement', 'deletion']},\n",
    "               {'id': 3355, 'description': '\"England set-up\" should be \"international set-up\"',\n",
    "                'type': ['wrong modifier'], 'operation': ['replacement']},\n",
    "               {'id': 3997, 'description': '\"Monaco vice-president Vadim Vasilyev said\" is wrong, should be \"Chief executive Ed Woodward\"',\n",
    "                'type': ['wrong entity'], 'operation': ['replacement']},\n",
    "               {'id': 4795, 'description': '\"Jermain Defoe\" is not the top of the list',\n",
    "                'type': ['hallucination'], 'operation': ['deletion']},\n",
    "               {'id': 3934, 'description': 'wrong score, should not be 2-1, should be 2-3',\n",
    "                'type': ['wrong number'], 'operation': ['replacement']},\n",
    "               {'id': 4165, 'description': 'Arsenal is not favorite this season; Wender but not Gunners need to show some balls.',\n",
    "                'type': ['hallucination', 'wrong subject'], 'operation': ['deletion', 'replacement']}]"
   ]
  },
  {
   "cell_type": "code",
   "execution_count": 6,
   "metadata": {},
   "outputs": [
    {
     "name": "stdout",
     "output_type": "stream",
     "text": [
      "- True: 43\n",
      "- False: 7\n",
      "- Total: 50\n"
     ]
    }
   ],
   "source": [
    "print('- True: {}'.format(len(true_preds)))\n",
    "print('- False: {}'.format(len(false_preds)))\n",
    "print('- Total: {}'.format(len(true_preds) + len(false_preds)))"
   ]
  },
  {
   "cell_type": "code",
   "execution_count": 7,
   "metadata": {},
   "outputs": [],
   "source": [
    "import random"
   ]
  },
  {
   "cell_type": "code",
   "execution_count": 17,
   "metadata": {},
   "outputs": [
    {
     "name": "stdout",
     "output_type": "stream",
     "text": [
      "# 3205:\n",
      "Stuart McCall is relaxed about the prospect of Rangers finishing third in the Scottish Championship. The Gers currently lead the way in the race for second spot in the Championship, with a one-point advantage over Hibernian and a six-point cushion separating them from Queen of the South. Finishing immediately behind newly-crowned champions Hearts would spare the Ibrox men the bother of two extra hazardous games in the play-offs.\n",
      "\n",
      "Rangers are currently second in the Championship with three games to go . Finishing third would mean playing two extra play-off matches vs fourth . But manager Stuart McCall is relaxed about the prospect of finishing third .\n",
      "\n",
      "Rangers boss Stuart McCall insists it will not be a major disaster if his side are forced to play two extra games to reclaim their Premiership return. The Gers currently lead the way in the race for second spot in the Championship, with a one-point advantage over Hibernian and a six-point cushion separating them from Queen of the South. Finishing immediately behind newly-crowned champions Hearts would spare the Ibrox men the bother of two extra hazardous games in the play-offs, with the teams finishing third and fourth facing off over two legs before taking on the second tier's runners-up. The winner of that tie then meets the Premiership's second-bottom side in a crucial winner-takes-all battle. Stuart McCall is relaxed about the prospect of Rangers finishing third in the Scottish Championship . But having stumbled to a 3-0 defeat against Queens and a 1-1 draw with basement side Livingston either side of Sunday's four-goal romp over Raith, there is no guarantee the Light Blues will see off Saturday's trip to Dumbarton without another slip-up. McCall, though, is ready to take whatever outcome is thrown his way. He said: 'At this moment second place is in our own hands. If you'd given me that a few weeks ago when I first came in, I'd have snapped your hands off for it. 'There were one or two people who thought we wouldn't even reach the play-offs. McCall faces the media on Friday ahead of Saturday's trip to Dumbarton as Rangers look to hold on to second . 'We've done that first part. Obviously we want to get second but Hibs and Queens want the same. 'You don't want to have to play the extra games but if you have to, you will. If you have to get through to the top league by playing six games then so be it. 'Of course it's important to us to finish second. But if we finish third or fourth that does not mean we won't get promotion. It's not the end of the world.' McCall was also happy to see a peaceful resolution reached after the row raised by the Scottish Professional Football League's messy meddling with the Championship fixture list. Rangers' final-day tie with Hearts at Tynecastle was pushed back 24 hours to Sunday, May 3, to accommodate Sky Sports. McCall joins in training on Friday as the Rangers boss prepares his side for Saturday's clash . But that left Hibs raging as having played their last game at Falkirk on the Saturday, they claimed McCall's team would be advantaged by the fact they would know the result required in Gorgie to claim second. Compromise was reached when Sky gave the league permission to switch the Hearts-Rangers tie back to its original May 2 slot. 'Everyone playing at the same time is fine and the right thing to do,' said McCall. But there could yet be more tinkering with the schedule to come. Hibs and Falkirk - who have yet to be counted out of the play-off chase - will battle for a place in the William Hill Scottish Cup final on Saturday, leaving the possibility that the second leg of the play-off final may have to be pushed back into June. Rangers dropped two points at Championship bottom side Livingston in their bid for promotion . The SPFL is expected to announce early next week if a change of date is required but Rangers are bracing themselves for an administrative nightmare, with 12 first-team members due to become free agents on June 1. McCall confirmed the club's five loanees from Newcastle are registered until June 9, and will be free to play whatever happens. But he admitted the club may have to hand short-term deals to their players to see them through to the re-arranged date. 'We won't think about it until it becomes a problem,' he said. 'But it will certainly need to be something that is looked at if that does become the case, as we have almost a dozen players whose contract will be up at the end of May.'\n"
     ]
    }
   ],
   "source": [
    "index = random.randint(0, len(source))\n",
    "index = 3205\n",
    "print('# {}:\\n{}\\n\\n{}\\n\\n{}'.format(index, preds[index], target[index], source[index]))"
   ]
  },
  {
   "cell_type": "markdown",
   "metadata": {},
   "source": [
    "### XSum"
   ]
  },
  {
   "cell_type": "code",
   "execution_count": 9,
   "metadata": {},
   "outputs": [],
   "source": [
    "test_source_path = '/home/ml/cadencao/XSum/fairseq_files/test.source'\n",
    "test_target_path = '/home/ml/cadencao/XSum/fairseq_files/test.target'\n",
    "test_preds_path = 'preds/xsum_preds.hypo'"
   ]
  },
  {
   "cell_type": "code",
   "execution_count": 10,
   "metadata": {},
   "outputs": [
    {
     "name": "stdout",
     "output_type": "stream",
     "text": [
      "11301\n"
     ]
    }
   ],
   "source": [
    "xsum_source = read_lines(test_source_path)\n",
    "xsum_target = read_lines(test_target_path)\n",
    "xsum_preds = read_lines(test_preds_path)\n",
    "assert len(xsum_source) == len(xsum_target) == len(xsum_preds)\n",
    "print(len(xsum_preds))"
   ]
  },
  {
   "cell_type": "code",
   "execution_count": 11,
   "metadata": {},
   "outputs": [],
   "source": [
    "xsum_true = [922, 10066, 1367, 11207, 694, 3211, 10524]\n",
    "xsum_false = [{'id': 8805, 'description': 'Wrong number; The company cut 99 staff but in the summary it says more than 100 jobs.',\n",
    "                'type': ['number'], 'operation': ['replacement'], 'segment': 'more than 100 jobs'},\n",
    "              {'id': 9444, 'description': 'Wrong location; \"Swansea\" is not mentioned in the document.',\n",
    "                'type': ['location'], 'operation': ['deletion'], 'segment': 'A Swansea hospital'},\n",
    "              {'id': 1431, 'description': 'Wrong name; should not be \"Federico Fazio\" (the name is not mentioned in the document).',\n",
    "                'type': ['location'], 'operation': ['deletion'], 'segment': 'A Swansea hospital'},\n",
    "              {'id': 7079, 'description': 'Scottish champions are not mentioned in the document.',\n",
    "                'type': ['hallucination'], 'operation': ['deletion'], 'segment': 'the Scottish champions'},\n",
    "              {'id': 2427, 'description': 'First name \"Justin\" is not mentioned. Is not the mother who died.',\n",
    "                'type': ['hallucination'], 'operation': ['deletion'], 'segment': ['Justin', 'who died at mother-and-baby homes']},\n",
    "              {'id': 6220, 'description': '\"Swansea Power Station\" is not mentioned and wrong.',\n",
    "                'type': ['hallucination'], 'operation': ['deletion'], 'segment': ['Swansea Power Station']},\n",
    "              {'id': 5860, 'description': 'Wrong number (£940) and unmentioned date (1 July).',\n",
    "                'type': ['number', 'hallucination'], 'operation': ['replacement', 'deletion'], 'segment': ['£940', 'from 1 July']},\n",
    "              {'id': 10579, 'description': 'Wrong place.',\n",
    "                'type': ['location'], 'operation': ['deletion'], 'segment': ['Leytonstone']},\n",
    "              {'id': 5455, 'description': 'Wrong nationality and \"sentenced to life in prison\" is not mentioned.',\n",
    "                'type': ['attribute', 'hallucination'], 'operation': ['replacement', 'deletion'], 'segment': ['British', 'has been sentenced to life in prison']},\n",
    "              {'id': 1168, 'description': '\"undisclosed sum\" is not mentioned in the documetn; object is wrong.',\n",
    "                'type': ['hallucination', 'object'], 'operation': ['deletion', 'replacement'], 'segment': ['for an undisclosed sum', 'a Belfast-based investment firm']},\n",
    "              {'id': 2407, 'description': 'Wrong number.',\n",
    "                'type': ['number'], 'operation': ['deletion'], 'segment': ['1,000']},\n",
    "              {'id': 416, 'description': 'Wrong subject.',\n",
    "                'type': ['subject'], 'operation': ['deletion'], 'segment': ['Watford']},\n",
    "              {'id': 6824, 'description': 'Ryan is wrong, should be Rangi; \"subject to a medical and a work permit\" is not mentioned in the document.',\n",
    "                'type': [''], 'operation': [''], 'segment': ['']},\n",
    "              {'id': 1513, 'description': 'Wrong number; opposite transfer direction and collapsed reason.',\n",
    "                'type': ['hallucination', 'entity'], 'operation': ['deletion', 'replacement'], 'segment': ['£35m', 'after the Spanish club said it would appeal against the transfer.']},\n",
    "              {'id': 1819, 'description': '\"totally insensitive\" to the nationalist population',\n",
    "                'type': [''], 'operation': ['replacement'], 'segment': ['totally insensitive']},\n",
    "              {'id': 560, 'description': 'Wrong first name (Ottis).',\n",
    "                'type': [''], 'operation': ['replacement'], 'segment': ['totally insensitive']},\n",
    "             ]\n",
    "entity_change = [10579, 2407, 416, 6824, 1513, 560, 5860, 6220, 2427, 1431, 9444] # 30%\n",
    "correct = [1819, 1168, 5455]"
   ]
  },
  {
   "cell_type": "code",
   "execution_count": 12,
   "metadata": {},
   "outputs": [
    {
     "name": "stdout",
     "output_type": "stream",
     "text": [
      "- True: 7\n",
      "- False: 16\n",
      "- Total: 23\n"
     ]
    }
   ],
   "source": [
    "print('- True: {}'.format(len(xsum_true)))\n",
    "print('- False: {}'.format(len(xsum_false)))\n",
    "print('- Total: {}'.format(len(xsum_true) + len(xsum_false)))"
   ]
  },
  {
   "cell_type": "code",
   "execution_count": 20,
   "metadata": {},
   "outputs": [
    {
     "name": "stdout",
     "output_type": "stream",
     "text": [
      "# 1513:\n",
      "Manchester United's £35m move to sign Spain goalkeeper David de Gea from Real Madrid has collapsed after the Spanish club said it would appeal against the transfer.\n",
      "\n",
      "David De Gea's £29m move from Manchester United to Real Madrid has collapsed because the necessary paperwork was not submitted in time.\n",
      "\n",
      "Media playback is not supported on this device. No official announcement has yet been made by either club. As part of the deal to sell 24-year-old De Gea to Real, United were planning to bring Costa Rica keeper Keylor Navas, 28, in the opposite direction. There is no precedent for Spanish clubs being given additional time to conclude transfers as there is in England. Blame for the failure to complete the deal is already being apportioned. Reports in Spain claim United were responsible for the deal collapsing. The line is they did not get their paperwork to Spanish Football Federation headquarters until a minute after the 23:00 BST deadline. United say they have a receipt that proves they submitted the relevant documents in time. It remains to be seen whether Real will appeal to world governing body Fifa, which is responsible for sanctioning international transfers. The internet naturally had its say... And the tweets only intensified once stories of a technical glitch at the Madrid end began to surface... If Real Madrid don't appeal, or do appeal and fail to push the transfer through, he'll be back at Old Trafford competing for a place in the United starting line-up. Sergio Romero, the Argentina number one, has started all six of United's games so far this season, with Sam Johnstone on the substitutes' bench. The Red Devils still have Victor Valdes after his move to Besiktas collapsed, but he has fallen out with manager Louis van Gaal. De Gea, who has not played for United this season, must first turn his attention to international duty with Spain. They have two Euro 2016 qualifying matches to negotiate, at home to Slovakia on 5 September and in Macedonia on 8 September. They seem pretty relaxed about it all. If De Gea stays, they have a world-class keeper to call on. If he goes, the Navas deal could still happen. Unlike Real, United have a few more hours to do their business. The transfer window may be shut in Spain, but it remains open until 18:00 BST on Tuesday for Premier League clubs. Monday was mostly about letting players leave... But the move that caught a lot of people by surprise involved a French teenager named Anthony Martial. It appears United are willing to pay as much as £36m to get him. A 19-year-old Monaco striker with plenty of potential. He has even been likened to Thierry Henry. Nevertheless, £36m is a lot to pay for a teenager. According to French football journalist Philippe Auclair, the size of the transfer fee has left \"people speechless in France\". \"He's got good technique, good skills, he's a good finisher, but he is still a raw product,\" added Auclair. \"We don't know how far he can go.\"\n"
     ]
    }
   ],
   "source": [
    "index = random.randint(0, len(xsum_source))\n",
    "index = 1513\n",
    "print('# {}:\\n{}\\n\\n{}\\n\\n{}'.format(index, xsum_preds[index], xsum_target[index], xsum_source[index]))"
   ]
  },
  {
   "cell_type": "code",
   "execution_count": 14,
   "metadata": {},
   "outputs": [
    {
     "data": {
      "text/plain": [
       "'South Africa are to begin a search for a new head coach for the 2017 tour of England, with current boss Ottis Domingo set to leave the team.'"
      ]
     },
     "execution_count": 14,
     "metadata": {},
     "output_type": "execute_result"
    }
   ],
   "source": [
    "\"South Africa are to begin a search for a new head coach for the 2017 tour of England, with current boss Ottis Domingo set to leave the team.\""
   ]
  },
  {
   "cell_type": "code",
   "execution_count": 15,
   "metadata": {},
   "outputs": [
    {
     "data": {
      "text/plain": [
       "\"South Africa are to begin a search for a new head coach ahead of next month's tour of England, with current boss Ottis Domingo set to step down.\""
      ]
     },
     "execution_count": 15,
     "metadata": {},
     "output_type": "execute_result"
    }
   ],
   "source": [
    "\"South Africa are to begin a search for a new head coach ahead of next month's tour of England, with current boss Ottis Domingo set to step down.\""
   ]
  },
  {
   "cell_type": "code",
   "execution_count": null,
   "metadata": {},
   "outputs": [],
   "source": []
  }
 ],
 "metadata": {
  "kernelspec": {
   "display_name": "Python 3",
   "language": "python",
   "name": "python3"
  },
  "language_info": {
   "codemirror_mode": {
    "name": "ipython",
    "version": 3
   },
   "file_extension": ".py",
   "mimetype": "text/x-python",
   "name": "python",
   "nbconvert_exporter": "python",
   "pygments_lexer": "ipython3",
   "version": "3.7.4"
  }
 },
 "nbformat": 4,
 "nbformat_minor": 4
}
