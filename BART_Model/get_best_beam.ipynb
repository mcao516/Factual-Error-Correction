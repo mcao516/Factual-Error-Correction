{
 "cells": [
  {
   "cell_type": "code",
   "execution_count": 3,
   "metadata": {},
   "outputs": [],
   "source": [
    "import rouge\n",
    "\n",
    "from tqdm import tqdm\n",
    "from utils import read_lines"
   ]
  },
  {
   "cell_type": "code",
   "execution_count": 4,
   "metadata": {},
   "outputs": [],
   "source": [
    "avg_evaluator = rouge.Rouge(metrics=['rouge-n', 'rouge-l', 'rouge-w'],\n",
    "                            max_n=4,\n",
    "                            limit_length=True,\n",
    "                            length_limit=200,\n",
    "                            length_limit_type='words',\n",
    "                            apply_avg=True,\n",
    "                            apply_best=False,\n",
    "                            alpha=0.5, # Default F1_score\n",
    "                            weight_factor=1.2,\n",
    "                            stemming=True)"
   ]
  },
  {
   "cell_type": "markdown",
   "metadata": {},
   "source": [
    "#### Read File"
   ]
  },
  {
   "cell_type": "code",
   "execution_count": 11,
   "metadata": {},
   "outputs": [],
   "source": [
    "BEAM_SIZE = 6"
   ]
  },
  {
   "cell_type": "code",
   "execution_count": 17,
   "metadata": {},
   "outputs": [],
   "source": [
    "xsum_train_preds_bm6_path = 'preds/xsum_train_bm6_all.hypo'\n",
    "xsum_train_target_path = '/home/ml/cadencao/XSum/fairseq_files/train.target'"
   ]
  },
  {
   "cell_type": "code",
   "execution_count": 18,
   "metadata": {},
   "outputs": [],
   "source": [
    "xsum_train_preds_bm6 = read_lines(xsum_train_preds_bm6_path)\n",
    "xsum_train_target = read_lines(xsum_train_target_path)"
   ]
  },
  {
   "cell_type": "code",
   "execution_count": 22,
   "metadata": {},
   "outputs": [],
   "source": [
    "xsum_train_preds_bm6 = [xsum_train_preds_bm6[i::BEAM_SIZE] for i in range(BEAM_SIZE)]"
   ]
  },
  {
   "cell_type": "code",
   "execution_count": 23,
   "metadata": {},
   "outputs": [],
   "source": [
    "assert len(xsum_train_preds_bm6[0]) == len(xsum_train_target), \"{}/{}\".format(len(xsum_train_preds_bm6[0]), len(xsum_train_target))"
   ]
  },
  {
   "cell_type": "markdown",
   "metadata": {},
   "source": [
    "#### Select Best Beam"
   ]
  },
  {
   "cell_type": "code",
   "execution_count": 24,
   "metadata": {},
   "outputs": [
    {
     "name": "stderr",
     "output_type": "stream",
     "text": [
      "100%|██████████| 203575/203575 [1:24:44<00:00, 40.04it/s]\n"
     ]
    }
   ],
   "source": [
    "index, best_predictions = 0, []\n",
    "for t in tqdm(xsum_train_target):\n",
    "    best_rouge_1, best_pred = -1.0, None\n",
    "    for s in range(BEAM_SIZE):\n",
    "        p = xsum_train_preds_bm6[s][index]\n",
    "        score = avg_evaluator.get_scores([p], [t])\n",
    "        if score['rouge-1']['f'] > best_rouge_1:\n",
    "            best_rouge_1 = score['rouge-1']['f']\n",
    "            best_pred = p\n",
    "    best_predictions.append(best_pred)\n",
    "    index += 1"
   ]
  },
  {
   "cell_type": "code",
   "execution_count": 25,
   "metadata": {},
   "outputs": [],
   "source": [
    "assert len(best_predictions) == len(xsum_train_target)"
   ]
  },
  {
   "cell_type": "code",
   "execution_count": 26,
   "metadata": {},
   "outputs": [],
   "source": [
    "with open('preds/xsum_train_best_beam.hypo', 'w') as f:\n",
    "    for p in best_predictions:\n",
    "        f.write(p + '\\n')"
   ]
  }
 ],
 "metadata": {
  "kernelspec": {
   "display_name": "Python 3",
   "language": "python",
   "name": "python3"
  },
  "language_info": {
   "codemirror_mode": {
    "name": "ipython",
    "version": 3
   },
   "file_extension": ".py",
   "mimetype": "text/x-python",
   "name": "python",
   "nbconvert_exporter": "python",
   "pygments_lexer": "ipython3",
   "version": "3.7.4"
  }
 },
 "nbformat": 4,
 "nbformat_minor": 4
}
