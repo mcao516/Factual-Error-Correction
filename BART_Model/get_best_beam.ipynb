{
 "cells": [
  {
   "cell_type": "code",
   "execution_count": 1,
   "metadata": {},
   "outputs": [],
   "source": [
    "import rouge\n",
    "\n",
    "from tqdm import tqdm\n",
    "from utils import read_lines"
   ]
  },
  {
   "cell_type": "code",
   "execution_count": 2,
   "metadata": {},
   "outputs": [],
   "source": [
    "avg_evaluator = rouge.Rouge(metrics=['rouge-n', 'rouge-l', 'rouge-w'],\n",
    "                            max_n=4,\n",
    "                            limit_length=True,\n",
    "                            length_limit=200,\n",
    "                            length_limit_type='words',\n",
    "                            apply_avg=True,\n",
    "                            apply_best=False,\n",
    "                            alpha=0.5, # Default F1_score\n",
    "                            weight_factor=1.2,\n",
    "                            stemming=True)"
   ]
  },
  {
   "cell_type": "markdown",
   "metadata": {},
   "source": [
    "#### Read File"
   ]
  },
  {
   "cell_type": "code",
   "execution_count": 9,
   "metadata": {},
   "outputs": [],
   "source": [
    "BEAM_SIZE = 4"
   ]
  },
  {
   "cell_type": "code",
   "execution_count": 10,
   "metadata": {},
   "outputs": [],
   "source": [
    "train_preds_path = 'preds/cnndm_train_bm4_all_merged.hypo'\n",
    "train_target_path = '/home/ml/cadencao/Two-Steps-Summarization/datasets/cnn_dm/fairseq_files/train.target'"
   ]
  },
  {
   "cell_type": "code",
   "execution_count": 11,
   "metadata": {},
   "outputs": [],
   "source": [
    "train_preds = read_lines(train_preds_path)\n",
    "train_target = read_lines(train_target_path)"
   ]
  },
  {
   "cell_type": "code",
   "execution_count": 12,
   "metadata": {},
   "outputs": [],
   "source": [
    "train_preds = [train_preds[i::BEAM_SIZE] for i in range(BEAM_SIZE)]"
   ]
  },
  {
   "cell_type": "code",
   "execution_count": 13,
   "metadata": {},
   "outputs": [],
   "source": [
    "assert len(train_preds[0]) == len(train_target), \"{}/{}\".format(len(train_preds[0]), len(train_target))"
   ]
  },
  {
   "cell_type": "markdown",
   "metadata": {},
   "source": [
    "#### Select Best Beam"
   ]
  },
  {
   "cell_type": "code",
   "execution_count": 14,
   "metadata": {},
   "outputs": [
    {
     "name": "stderr",
     "output_type": "stream",
     "text": [
      " 20%|██        | 58851/287227 [29:58<1:51:17, 34.20it/s]IOPub message rate exceeded.\n",
      "The notebook server will temporarily stop sending output\n",
      "to the client in order to avoid crashing it.\n",
      "To change this limit, set the config variable\n",
      "`--NotebookApp.iopub_msg_rate_limit`.\n",
      "\n",
      "Current values:\n",
      "NotebookApp.iopub_msg_rate_limit=1000.0 (msgs/sec)\n",
      "NotebookApp.rate_limit_window=3.0 (secs)\n",
      "\n",
      "100%|██████████| 287227/287227 [2:50:03<00:00, 28.15it/s]  \n"
     ]
    }
   ],
   "source": [
    "index, best_predictions = 0, []\n",
    "for t in tqdm(train_target):\n",
    "    best_rouge_1, best_pred = -1.0, None\n",
    "    for s in range(BEAM_SIZE):\n",
    "        p = train_preds[s][index]\n",
    "        score = avg_evaluator.get_scores([p], [t])\n",
    "        if score['rouge-1']['f'] > best_rouge_1:\n",
    "            best_rouge_1 = score['rouge-1']['f']\n",
    "            best_pred = p\n",
    "    best_predictions.append(best_pred)\n",
    "    index += 1"
   ]
  },
  {
   "cell_type": "code",
   "execution_count": 15,
   "metadata": {},
   "outputs": [],
   "source": [
    "assert len(best_predictions) == len(train_target)"
   ]
  },
  {
   "cell_type": "code",
   "execution_count": 16,
   "metadata": {},
   "outputs": [],
   "source": [
    "with open('preds/cnndm_train_best_beam.hypo', 'w') as f:\n",
    "    for p in best_predictions:\n",
    "        f.write(p + '\\n')"
   ]
  },
  {
   "cell_type": "code",
   "execution_count": null,
   "metadata": {},
   "outputs": [],
   "source": []
  }
 ],
 "metadata": {
  "kernelspec": {
   "display_name": "Python 3",
   "language": "python",
   "name": "python3"
  },
  "language_info": {
   "codemirror_mode": {
    "name": "ipython",
    "version": 3
   },
   "file_extension": ".py",
   "mimetype": "text/x-python",
   "name": "python",
   "nbconvert_exporter": "python",
   "pygments_lexer": "ipython3",
   "version": "3.7.4"
  }
 },
 "nbformat": 4,
 "nbformat_minor": 4
}
