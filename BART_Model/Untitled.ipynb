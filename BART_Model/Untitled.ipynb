{
 "cells": [
  {
   "cell_type": "code",
   "execution_count": 1,
   "metadata": {},
   "outputs": [],
   "source": [
    "test_source_path = '/home/cadenc9020/summarization/dataset/fairseq_files/test-entswp-corrupted.source'\n",
    "test_target_path = '/home/cadenc9020/summarization/dataset/fairseq_files/test-entswp-corrupted.target'\n",
    "pred_target_path = 'test.hypo'"
   ]
  },
  {
   "cell_type": "code",
   "execution_count": 2,
   "metadata": {},
   "outputs": [],
   "source": [
    "def read_summaries(file_path):\n",
    "    lines = []\n",
    "    with open(file_path) as f:\n",
    "        for line in f:\n",
    "            lines.append(line.strip())\n",
    "    return lines"
   ]
  },
  {
   "cell_type": "code",
   "execution_count": 3,
   "metadata": {},
   "outputs": [],
   "source": [
    "sources = read_summaries(test_source_path)"
   ]
  },
  {
   "cell_type": "code",
   "execution_count": 4,
   "metadata": {},
   "outputs": [
    {
     "name": "stdout",
     "output_type": "stream",
     "text": [
      "11327\n"
     ]
    }
   ],
   "source": [
    "print(len(sources))"
   ]
  },
  {
   "cell_type": "code",
   "execution_count": 5,
   "metadata": {},
   "outputs": [],
   "source": [
    "targets = read_summaries(test_target_path)"
   ]
  },
  {
   "cell_type": "code",
   "execution_count": 6,
   "metadata": {},
   "outputs": [
    {
     "name": "stdout",
     "output_type": "stream",
     "text": [
      "11327\n"
     ]
    }
   ],
   "source": [
    "print(len(targets))"
   ]
  },
  {
   "cell_type": "code",
   "execution_count": 7,
   "metadata": {},
   "outputs": [],
   "source": [
    "predicts = read_summaries(pred_target_path)"
   ]
  },
  {
   "cell_type": "code",
   "execution_count": 8,
   "metadata": {},
   "outputs": [
    {
     "name": "stdout",
     "output_type": "stream",
     "text": [
      "11327\n"
     ]
    }
   ],
   "source": [
    "print(len(predicts))"
   ]
  },
  {
   "cell_type": "code",
   "execution_count": 9,
   "metadata": {},
   "outputs": [
    {
     "name": "stdout",
     "output_type": "stream",
     "text": [
      "Marseille prosecutor says \"so far no videos were used in the crash investigation\" despite media reports . Journalists at Bild and Paris Match are \"very confident\" the video clip is real, an editor says . Andreas Lubitz had informed his Lufthansa training school of an episode of severe depression, airline says .\n",
      "Marseille prosecutor says \"so far no videos were used in the crash investigation\" despite media reports . Journalists at Bild and Paris Match are \"very confident\" the video clip is real, an editor says . Andreas Lubitz had informed his Lufthansa training school of an episode of severe depression, airline says .\n"
     ]
    }
   ],
   "source": [
    "print(targets[0])\n",
    "print(predicts[0])"
   ]
  },
  {
   "cell_type": "code",
   "execution_count": 14,
   "metadata": {},
   "outputs": [
    {
     "name": "stdout",
     "output_type": "stream",
     "text": [
      "Target:\n",
      "Student is no longer on Duke University campus and will face disciplinary review . School officials identified student during investigation and the person admitted to hanging the noose, Duke says . The noose, made of rope, was discovered on campus about 2 a.m.\n",
      "Sources:\n",
      "Student is no longer on Duke University campus and will face disciplinary review . School officials identified student during investigation and the person admitted to hanging the noose, North Carolina says . The noose, made of rope, was discovered on campus about 2 a.m. \n",
      "Prediction:\n",
      "Student is no longer on Duke University campus and will face disciplinary review . School officials identified student during investigation and the person admitted to hanging the noose, Duke University says . The nooses, made of rope, was discovered on campus \n",
      "\n",
      "Target:\n",
      "The Rev. Robert Schuller, 88, had been diagnosed with esophageal cancer in 2013 . His TV show, \"Hour of Power,\" was enormously popular in the 1970s and 1980s .\n",
      "Sources:\n",
      "The Rev. Hope College and Western Theological Seminary, 88, had been diagnosed with esophageal cancer in 2013 . His TV show, \"Hour of Power,\" was enormously popular in the 1970s and 1980s . \n",
      "Prediction:\n",
      "The Rev. Robert H. Schuller, 88, had been diagnosed with esophageal cancer in 2013 . His TV show, \"Hour of Power,\" was enormously popular in the 1970s and 1980\n",
      "\n",
      "Target:\n",
      "Former GOP representative compares President Obama to Andreas Lubitz . Bachmann said with possible Iran deal, Obama will fly \"entire nation into the rocks\" Reaction on social media? She was blasted by Facebook commenters .\n",
      "Sources:\n",
      "Former GOP representative compares President Obama to Andreas Lubitz . Barack Obama said with possible Iran deal, Obama will fly \"entire nation into the rocks\" Reaction on social media? She was blasted by Facebook commenters . \n",
      "Prediction:\n",
      "Former GOP representative compares President Obama to Andreas Lubitz . Michelele Bachmann said with possible Iran deal, Obama will fly \"entire nation into the rocks\" Reaction on social media? She was blasted by Facebook co\n",
      "\n",
      "Target:\n",
      "While Republican Gov. Asa Hutchinson was weighing an Arkansas religious freedom bill, Walmart voiced its opposition . Walmart and other high-profile businesses are showing their support for gay and lesbian rights . Their stance puts them in conflict with socially conservative Republicans, traditionally seen as allies .\n",
      "Sources:\n",
      "While Asa Hutchinson Gov. Asa Hutchinson was weighing an Arkansas religious freedom bill, Walmart voiced its opposition . Walmart and other high-profile businesses are showing their support for gay and lesbian rights . Their stance puts them in conflict with socially conservative Republicans, traditionally seen as allies . \n",
      "Prediction:\n",
      "While Indiana Gov. Asa Hutchinson was weighing an Arkansas religious freedom bill, Walmart voiced its opposition . Walmart and other high-profile businesses are showing their support for gay and lesbian rights . Their stance puts them in conflict with socially conservative Republicans, traditionally seen as allies . .\n",
      "\n",
      "Target:\n",
      "17 Americans were exposed to the Ebola virus while in Sierra Leone in March . Another person was diagnosed with the disease and taken to hospital in Maryland . National Institutes of Health says the patient is in fair condition after weeks of treatment .\n",
      "Sources:\n",
      "17 Americans were exposed to the Ebola virus while in Sierra Leone in March . Another person was diagnosed with the disease and taken to hospital in Atlanta . National Institutes of Health says the patient is in fair condition after weeks of treatment . \n",
      "Prediction:\n",
      "17 Americans were exposed to the Ebola virus while in Sierra Leone in March . Another person was diagnosed with the disease and taken to hospital in Atlanta . Centers for Disease Control and Prevention says the patient is in fair condition after weeks of\n",
      "\n",
      "Target:\n",
      "LZ: Indiana law pushing back LGBT rights, and other states' anti-LGBT moves, bow to far right wing that GOP candidates need for 2016 . Cruz, Huckabee, Jindal, Carson, Walker are reviving culture wars, he says.  Equality for LGBT has not yet \"won\" in America .\n",
      "Sources:\n",
      "LZ: Indiana law pushing back LGBT rights, and other states' anti-LGBT moves, bow to far right wing that GOP candidates need for 2016 . Cruz, Huckabee, Pence, Carson, Walker are reviving culture wars, he says.  Equality for LGBT has not yet \"won\" in America . \n",
      "Prediction:\n",
      "Z: Indiana law pushing back LGBT rights, and other states' anti-LGBT moves, bow to far right wing that GOP candidates need for 2016 . Cruz, Huckabee, Pence, Carson, Walker are reviving culture wars, he says.  Equality for LGBT has not yet \"won\" in America .\n",
      "\n",
      "Target:\n",
      "Father: \"I know he went through what he went through\" Louis Jordan was found on his sailboat, which was listing and in bad shape, rescuer says . He appears to be in good shape, physically and mentally .\n",
      "Sources:\n",
      "Father: \"I know he went through what he went through\" Morris was found on his sailboat, which was listing and in bad shape, rescuer says . He appears to be in good shape, physically and mentally . \n",
      "Prediction:\n",
      "Father: \"I know he went through what he wentthrough\" Louis Jordan was found on his sailboat, which was listing and in bad shape, rescuer says . He appears to be in good shape, physically and mentally ..\n",
      "\n",
      "Target:\n",
      "\"Furious 7\" pays tribute to star Paul Walker, who died during filming . Vin Diesel: \"This movie is more than a movie\" \"Furious 7\" opens Friday .\n",
      "Sources:\n",
      "\"Furious 7\" pays tribute to star Paul Walker, who died during filming . Hollywood: \"This movie is more than a movie\" \"Furious 7\" opens Friday . \n",
      "Prediction:\n",
      "\"Furious 7\" pays tribute to star Paul Walker, who died during filming . Vin Diesel: \"This movie is more than a movie\" \"Furious7\" opens Friday . \n",
      "\n",
      "Target:\n",
      "Richard Klass: Iran framework agreement on nukes is strong, but opponents will cast doubts on this and try to obscure its facts . He says the deal would cut uranium stockpile, centrifuges, implement rigorous inspections; it should be judged on merits, not disinformation .\n",
      "Sources:\n",
      "Iranian: Iran framework agreement on nukes is strong, but opponents will cast doubts on this and try to obscure its facts . He says the deal would cut uranium stockpile, centrifuges, implement rigorous inspections; it should be judged on merits, not disinformation . \n",
      "Prediction:\n",
      "Tim Holbrook: Iran framework agreement on nukes is strong, but opponents will cast doubts on this and try to obscure its facts . He says the deal would cut uranium stockpile, centrifuges, implement rigorous inspections; it should be judged on merits, not disinformation .\n",
      "\n",
      "Target:\n",
      "Singing the national anthem is a risky proposition . Whitney Houston nailed it; Roseanne Barr destroyed it .\n",
      "Sources:\n",
      "Singing the national anthem is a risky proposition . George H. W. Bush nailed it; Roseanne Barr destroyed it . \n",
      "Prediction:\n",
      "Singing the national anthem is a risky proposition . George H. W. Bush nailed it; Michael Bolton destroyed i\n",
      "\n"
     ]
    }
   ],
   "source": [
    "match_num, print_count = 0, 0\n",
    "\n",
    "for i, (s, t, p) in enumerate(zip(sources, targets, predicts)):\n",
    "    if len(p) > len(t):\n",
    "        p = p[: len(t)]\n",
    "    s = s[: s.find('</s>')]\n",
    "    \n",
    "    t_tokens = t.split()\n",
    "    p_tokens = p.split()\n",
    "\n",
    "    if t_tokens == p_tokens:\n",
    "        match_num += 1\n",
    "    else:\n",
    "        if print_count < 10:\n",
    "            print('Target:')\n",
    "            print(t)\n",
    "            print('Sources:')\n",
    "            print(s)\n",
    "            print('Prediction:')\n",
    "            print(p)\n",
    "            print()\n",
    "            print_count += 1"
   ]
  },
  {
   "cell_type": "code",
   "execution_count": 11,
   "metadata": {},
   "outputs": [
    {
     "data": {
      "text/plain": [
       "0.49280480268385274"
      ]
     },
     "execution_count": 11,
     "metadata": {},
     "output_type": "execute_result"
    }
   ],
   "source": [
    "match_num / len(targets)"
   ]
  },
  {
   "cell_type": "code",
   "execution_count": null,
   "metadata": {},
   "outputs": [],
   "source": []
  }
 ],
 "metadata": {
  "kernelspec": {
   "display_name": "Python 3",
   "language": "python",
   "name": "python3"
  },
  "language_info": {
   "codemirror_mode": {
    "name": "ipython",
    "version": 3
   },
   "file_extension": ".py",
   "mimetype": "text/x-python",
   "name": "python",
   "nbconvert_exporter": "python",
   "pygments_lexer": "ipython3",
   "version": "3.7.5"
  }
 },
 "nbformat": 4,
 "nbformat_minor": 4
}
