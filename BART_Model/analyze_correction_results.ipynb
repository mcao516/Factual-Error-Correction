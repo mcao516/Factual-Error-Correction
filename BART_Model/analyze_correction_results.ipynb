{
 "cells": [
  {
   "cell_type": "code",
   "execution_count": 1,
   "metadata": {},
   "outputs": [],
   "source": [
    "test_source_path = 'D:/Summarization/datasets/cnn_dm/corrupted_nodup_files/test.source'\n",
    "test_target_path = 'D:/Summarization/datasets/cnn_dm/corrupted_nodup_files/test.target'\n",
    "pred_file_path = 'nodup_preds.hypo'"
   ]
  },
  {
   "cell_type": "code",
   "execution_count": 2,
   "metadata": {},
   "outputs": [],
   "source": [
    "def read_summaries(file_path):\n",
    "    lines = []\n",
    "    with open(file_path, 'r', encoding='utf-8') as f:\n",
    "        for line in f:\n",
    "            lines.append(line.strip())\n",
    "    return lines"
   ]
  },
  {
   "cell_type": "code",
   "execution_count": 3,
   "metadata": {},
   "outputs": [
    {
     "name": "stdout",
     "output_type": "stream",
     "text": [
      "11490\n"
     ]
    }
   ],
   "source": [
    "sources = read_summaries(test_source_path)\n",
    "targets = read_summaries(test_target_path)\n",
    "print(len(sources))\n",
    "assert len(sources) == len(targets)"
   ]
  },
  {
   "cell_type": "code",
   "execution_count": 4,
   "metadata": {},
   "outputs": [],
   "source": [
    "predicts = read_summaries(pred_file_path)"
   ]
  },
  {
   "cell_type": "code",
   "execution_count": 5,
   "metadata": {},
   "outputs": [
    {
     "name": "stdout",
     "output_type": "stream",
     "text": [
      "11490\n"
     ]
    }
   ],
   "source": [
    "print(len(predicts))"
   ]
  },
  {
   "cell_type": "code",
   "execution_count": 6,
   "metadata": {},
   "outputs": [
    {
     "name": "stdout",
     "output_type": "stream",
     "text": [
      "- Corrupted:\n",
      "Gertrude Weaver became the world's oldest person last week following the death of a 117-year-old woman in Japan . Waver died from complications due to pneumonia in Camden . She attributed his long life to treating others well and eating her own cooking . Weaver was born in Arkansas in 1898 and worked as a domestic helper . 115-year-old Jeralean Talley, of Detroit, is now the world's oldest person . \n",
      "- Target:\n",
      "Gertrude Weaver became the world's oldest person last week following the death of a 117-year-old woman in Japan . Waver died from complications due to pneumonia in Camden . She attributed her long life to treating others well and eating her own cooking . Weaver was born in Arkansas in 1898 and worked as a domestic helper . 115-year-old Jeralean Talley, of Detroit, is now the world's oldest person .\n",
      "- Prediction:\n",
      "Gertrude Weaver became the world's oldest person last week following the death of a 117-year-old woman in Japan . Waver died from complications due to pneumonia in Camden . She attributed her long life to treating others well and eating her own cooking . Weaver was born in Arkansas in 1898 and worked as a domestic helper . 115-year.-old Jeralean Talley, of Detroit, is now the world't oldest person .\n"
     ]
    }
   ],
   "source": [
    "index = len(sources) // 2\n",
    "print('- Corrupted:')\n",
    "print(sources[index][: sources[index].find('</s>')])\n",
    "print('- Target:')\n",
    "print(targets[index])\n",
    "print('- Prediction:')\n",
    "print(predicts[index])"
   ]
  },
  {
   "cell_type": "code",
   "execution_count": 7,
   "metadata": {},
   "outputs": [
    {
     "name": "stdout",
     "output_type": "stream",
     "text": [
      "Target:\n",
      "Student is no longer on Duke University campus and will face disciplinary review . School officials identified student during investigation and the person admitted to hanging the noose, Duke says . The noose, made of rope, was discovered on campus about 2 a.m.\n",
      "Sources:\n",
      "Student is no longer on Duke University campus and will face disciplinary review . School officials identified student during investigation and the person admitted to hanging the noose, Duke says . The noose, made of rope, was discovered on campus about afternoon\n",
      "Prediction:\n",
      "Student is no longer on Duke University campus and will face disciplinary review . School officials identified student during investigation and the person admitted to hanging the noose, Duke says . The noosed, made of rope, was discovered on campus about 2 a.m\n",
      "\n",
      "Target:\n",
      "Former GOP representative compares President Obama to Andreas Lubitz . Bachmann said with possible Iran deal, Obama will fly \"entire nation into the rocks\" Reaction on social media? She was blasted by Facebook commenters .\n",
      "Sources:\n",
      "Former GOP representative compares President Obama to Andreas Lubitz . Bachmann said with possible Iran deal, Obama will fly \"entire nation into the rocks\" Reaction on social media? He was blasted by Facebook commenters .\n",
      "Prediction:\n",
      "Michele Bachmann compares President Obama to Andreas Lubitz . Bachmann said with possible Iran deal, Obama will fly \"entire nation into the rocks\" Reaction on social media? She was blasted by Facebook commenters .'Comparin\n",
      "\n",
      "Target:\n",
      "Once a super typhoon, Maysak is now a tropical storm with 70 mph winds . It could still cause flooding, landslides and other problems in the Philippines .\n",
      "Sources:\n",
      "Once a super typhoon, Maysak is now a tropical storm with 70 mph winds . It could still cause flooding, landslides and other problems in the Isabela province .\n",
      "Prediction:\n",
      "Once a super typhoon, Maysak is now a tropical storm with 70 mph winds . It could still cause flooding, landslides and other problems in the Philippine is\n",
      "\n",
      "Target:\n",
      "\"Furious 7\" pays tribute to star Paul Walker, who died during filming . Vin Diesel: \"This movie is more than a movie\" \"Furious 7\" opens Friday .\n",
      "Sources:\n",
      "\"Furious 7\" pays tribute to star Paul Walker, who died during filming . Vin Diesel: \"This movie isn't more than a movie\" \"Furious 7\" opens Friday .\n",
      "Prediction:\n",
      "Furious 7\" pays tribute to star Paul Walker, who died during filming . Vin Diesel: \"This movie is more than a movie\" \"Furious7\" opens Friday . a\n",
      "\n",
      "Target:\n",
      "Singing the national anthem is a risky proposition . Whitney Houston nailed it; Roseanne Barr destroyed it .\n",
      "Sources:\n",
      "Singing the national anthem isn't a risky proposition . Whitney Houston nailed it; Roseanne Barr destroyed it .\n",
      "Prediction:\n",
      "Singing the national anthem isn't a risky proposition . Whitney Houston nailed it; Roseanne Barr destroyed i\n",
      "\n",
      "Target:\n",
      "The total eclipse will only last 4 minutes and 43 seconds . People west of the Mississippi River will have the best view . Parts of South America, India, China and Russia also will see the eclipse .\n",
      "Sources:\n",
      "The total eclipse will this morning . People west of the Mississippi River will have the best view . Parts of South America, India, China and Russia also will see the eclipse .\n",
      "Prediction:\n",
      "The total eclipse will only last four minutes and 43 seconds . People west of the Mississippi River will have the best view . Parts of South America, India, China and Russia also will see the eclips\n",
      "\n",
      "Target:\n",
      "A South Carolina man says he spent 66 days alone at sea before being rescued . Other sole survivor stories include a Japanese man washed away by a tsunami . An El Salvador man says he drifted from Mexico to Marshall Islands over a year .\n",
      "Sources:\n",
      "A South Carolina man says she spent 66 days alone at sea before being rescued . Other sole survivor stories include a Japanese man washed away by a tsunami . An El Salvador man says he drifted from Mexico to Marshall Islands over a year .\n",
      "Prediction:\n",
      "A South Carolina man says he spent 66 days alone at sea before being rescued . Other sole survivor stories include a Japanese man washed away by a tsunami . An El Salvador man saysHe drifted from Mexico to Marshall Islands over a year ..\n",
      "\n",
      "Target:\n",
      "Netanyahu says third option is \"standing firm\" to get a better deal . Political sparring continues in U.S. over the deal with Iran .\n",
      "Sources:\n",
      "Netanyahu says third option is not \"standing firm\" to get a better deal . Political sparring continues in U.S. over the deal with Iran .\n",
      "Prediction:\n",
      "BNetanyahu says third option is \"standing firm\" to get a better deal . Political sparring continues in U.S. over the deal with Iran \n",
      "\n",
      "Target:\n",
      "Robert Lewis Burns Jr. was part of Lynyrd Skynyrd's original lineup . His car hit a mailbox and a tree just before midnight .\n",
      "Sources:\n",
      "Georgia was part of Lynyrd Skynyrd's original lineup . His car hit a mailbox and a tree just before midnight .\n",
      "Prediction:\n",
      "Robert Lewis Burns Jr., 64 was part of Lynyrd Skynyrd's original lineup . His car hit a mailbox and a tree just before midnig\n",
      "\n",
      "Target:\n",
      "A Native American from a tribe not recognized by the feds wins the return of his eagle feathers . An IRS accountant is fired for insisting on carrying a symbolic Sikh knife to work . A group of Chicago pastors takes on City Hall over its permits for new churches and loses .\n",
      "Sources:\n",
      "A Native American from a tribe not recognized by the feds wins the return of his eagle feathers . An IRS accountant is fired for insisting on carrying a symbolic Sikh knife to work . A group of Chicago pastors takes on City Hall over your permits for new churches and loses .\n",
      "Prediction:\n",
      "A Native American from a tribe not recognized by the feds wins the return of his eagle feathers . An IRS accountant is fired for insisting on carrying a symbolic Sikh knife to work . A group of Chicago pastors takes on City Hall over their permits for new churches and loses\n",
      "\n"
     ]
    }
   ],
   "source": [
    "match_num, print_count = 0, 0\n",
    "clean_total, clean_match = 0, 0\n",
    "clean_flag = False\n",
    "\n",
    "for i, (s, t, p) in enumerate(zip(sources, targets, predicts)):    \n",
    "    if p[0] == p[1] or p[0] == '\"' or p[0] == \"'\":\n",
    "        p = p[1:]\n",
    "    if len(p) > len(t):\n",
    "        p = p[: len(t)]\n",
    "\n",
    "    s = s[: s.find('</s>') -1 ]\n",
    "    t_tokens = t.split()\n",
    "    p_tokens = p.split()\n",
    "\n",
    "    if s == t:\n",
    "        clean_total += 1\n",
    "        clean_flag = True\n",
    "    \n",
    "    if t_tokens == p_tokens:\n",
    "        match_num += 1\n",
    "        if clean_flag:\n",
    "            clean_match += 1\n",
    "            clean_flag = False\n",
    "    else:\n",
    "        if print_count < 10 and s != t:\n",
    "            print('Target:')\n",
    "            print(t)\n",
    "            print('Sources:')\n",
    "            print(s)\n",
    "            print('Prediction:')\n",
    "            print(p)\n",
    "            print()\n",
    "            print_count += 1"
   ]
  },
  {
   "cell_type": "code",
   "execution_count": 8,
   "metadata": {},
   "outputs": [
    {
     "data": {
      "text/plain": [
       "0.6021758050478677"
      ]
     },
     "execution_count": 8,
     "metadata": {},
     "output_type": "execute_result"
    }
   ],
   "source": [
    "match_num / len(targets)"
   ]
  },
  {
   "cell_type": "code",
   "execution_count": 9,
   "metadata": {},
   "outputs": [
    {
     "data": {
      "text/plain": [
       "0.8428198433420365"
      ]
     },
     "execution_count": 9,
     "metadata": {},
     "output_type": "execute_result"
    }
   ],
   "source": [
    "clean_match / clean_total"
   ]
  },
  {
   "cell_type": "code",
   "execution_count": 10,
   "metadata": {},
   "outputs": [
    {
     "data": {
      "text/plain": [
       "0.36153176675369886"
      ]
     },
     "execution_count": 10,
     "metadata": {},
     "output_type": "execute_result"
    }
   ],
   "source": [
    "(match_num - clean_match) / (len(targets) - clean_total)"
   ]
  },
  {
   "cell_type": "code",
   "execution_count": null,
   "metadata": {},
   "outputs": [],
   "source": []
  }
 ],
 "metadata": {
  "kernelspec": {
   "display_name": "Python 3",
   "language": "python",
   "name": "python3"
  },
  "language_info": {
   "codemirror_mode": {
    "name": "ipython",
    "version": 3
   },
   "file_extension": ".py",
   "mimetype": "text/x-python",
   "name": "python",
   "nbconvert_exporter": "python",
   "pygments_lexer": "ipython3",
   "version": "3.7.4"
  }
 },
 "nbformat": 4,
 "nbformat_minor": 4
}
