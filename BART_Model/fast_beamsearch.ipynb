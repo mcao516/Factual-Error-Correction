{
 "cells": [
  {
   "cell_type": "code",
   "execution_count": 1,
   "metadata": {},
   "outputs": [],
   "source": [
    "import math\n",
    "import torch\n",
    "import torch.nn as nn \n",
    "from fairseq.models.bart import BARTModel"
   ]
  },
  {
   "cell_type": "code",
   "execution_count": 2,
   "metadata": {},
   "outputs": [],
   "source": [
    "bart = BARTModel.from_pretrained('/home/ml/cadencao/Downloads/BART_models/bart.large.cnn',\n",
    "                                 checkpoint_file='model.pt',\n",
    "                                 data_name_or_path='/home/ml/cadencao/Downloads/BART_models/bart.large.cnn')"
   ]
  },
  {
   "cell_type": "code",
   "execution_count": 3,
   "metadata": {},
   "outputs": [
    {
     "name": "stdout",
     "output_type": "stream",
     "text": [
      "- activate evaluation mode\n"
     ]
    }
   ],
   "source": [
    "bart.cuda()\n",
    "bart.eval()\n",
    "bart.half()\n",
    "print('- activate evaluation mode')"
   ]
  },
  {
   "cell_type": "code",
   "execution_count": 4,
   "metadata": {},
   "outputs": [
    {
     "name": "stdout",
     "output_type": "stream",
     "text": [
      "<class 'fairseq.models.bart.model.BARTModel'>\n",
      "<class 'fairseq.models.transformer.TransformerEncoder'>\n"
     ]
    }
   ],
   "source": [
    "bart_encoder, bart_decoder = bart.model.encoder, bart.model.decoder\n",
    "print(type(bart.model))\n",
    "print(type(bart_encoder))"
   ]
  },
  {
   "cell_type": "markdown",
   "metadata": {},
   "source": [
    "#### Read Data"
   ]
  },
  {
   "cell_type": "code",
   "execution_count": 5,
   "metadata": {},
   "outputs": [],
   "source": [
    "from utils import read_lines"
   ]
  },
  {
   "cell_type": "code",
   "execution_count": 6,
   "metadata": {},
   "outputs": [
    {
     "name": "stdout",
     "output_type": "stream",
     "text": [
      "11490\n"
     ]
    }
   ],
   "source": [
    "source_path = '/home/ml/cadencao/Two-Steps-Summarization/datasets/cnn_dm/fairseq_files/test.source'\n",
    "target_path = '/home/ml/cadencao/Two-Steps-Summarization/datasets/cnn_dm/fairseq_files/test.target'\n",
    "source = read_lines(source_path)\n",
    "target = read_lines(target_path)\n",
    "print(len(source))\n",
    "assert len(source) == len(target)"
   ]
  },
  {
   "cell_type": "markdown",
   "metadata": {},
   "source": [
    "#### Tokenization"
   ]
  },
  {
   "cell_type": "code",
   "execution_count": 7,
   "metadata": {},
   "outputs": [],
   "source": [
    "sentences = [source[0], source[1], source[2]]\n",
    "input = [bart.encode(s) for s in sentences]\n",
    "sample = bart._build_sample(input)"
   ]
  },
  {
   "cell_type": "code",
   "execution_count": 8,
   "metadata": {},
   "outputs": [
    {
     "name": "stdout",
     "output_type": "stream",
     "text": [
      "dict_keys(['id', 'nsentences', 'ntokens', 'net_input', 'target'])\n",
      "{'src_tokens': tensor([[    0, 10169,  1090,  ...,  2951,   212,     2],\n",
      "        [    1,     1,     1,  ...,   777,     4,     2],\n",
      "        [    1,     1,     1,  ...,   266,     4,     2]], device='cuda:0'), 'src_lengths': tensor([1024,  952,  694], device='cuda:0')}\n"
     ]
    }
   ],
   "source": [
    "print(sample.keys())\n",
    "print(sample['net_input'])"
   ]
  },
  {
   "cell_type": "markdown",
   "metadata": {},
   "source": [
    "#### Encoding"
   ]
  },
  {
   "cell_type": "code",
   "execution_count": 9,
   "metadata": {},
   "outputs": [
    {
     "name": "stdout",
     "output_type": "stream",
     "text": [
      "torch.Size([1024, 3, 1024])\n"
     ]
    }
   ],
   "source": [
    "src_tokens, src_lengths = sample['net_input']['src_tokens'], sample['net_input']['src_lengths']\n",
    "encoder_out = bart_encoder(src_tokens, src_lengths=src_lengths)\n",
    "print(encoder_out.encoder_out.shape)  # [seq_len, batch_size, hidden_size]"
   ]
  },
  {
   "cell_type": "code",
   "execution_count": 10,
   "metadata": {},
   "outputs": [
    {
     "data": {
      "text/plain": [
       "tensor([[0],\n",
       "        [0],\n",
       "        [0]], device='cuda:0')"
      ]
     },
     "execution_count": 10,
     "metadata": {},
     "output_type": "execute_result"
    }
   ],
   "source": [
    "sample['net_input']['src_tokens'].new_zeros((len(input), 1)).fill_(bart.task.source_dictionary.bos())"
   ]
  },
  {
   "cell_type": "markdown",
   "metadata": {},
   "source": [
    "#### Decoding"
   ]
  },
  {
   "cell_type": "code",
   "execution_count": 11,
   "metadata": {},
   "outputs": [
    {
     "data": {
      "text/plain": [
       "torch.Size([3, 1024])"
      ]
     },
     "execution_count": 11,
     "metadata": {},
     "output_type": "execute_result"
    }
   ],
   "source": [
    "src_tokens.shape  # [batch_size, max_seq_length]"
   ]
  },
  {
   "cell_type": "code",
   "execution_count": 12,
   "metadata": {},
   "outputs": [],
   "source": [
    "bsz = src_tokens.shape[0]\n",
    "min_decode_step, max_decode_step, pad_id, eos_id, bos_id = 55, 140, 1, 2, 0\n",
    "softmax = nn.Softmax(dim=1)"
   ]
  },
  {
   "cell_type": "code",
   "execution_count": 13,
   "metadata": {},
   "outputs": [],
   "source": [
    "tokens = src_tokens.new(bsz, max_decode_step + 2).long().fill_(pad_id)\n",
    "eos_flags = torch.tensor([False] * bsz).cuda()\n",
    "tokens[:, 0] = eos_id\n",
    "tokens[:, 1] = bos_id"
   ]
  },
  {
   "cell_type": "code",
   "execution_count": 14,
   "metadata": {},
   "outputs": [
    {
     "name": "stdout",
     "output_type": "stream",
     "text": [
      "torch.Size([3])\n",
      "torch.Size([3, 142])\n"
     ]
    }
   ],
   "source": [
    "print(eos_flags.shape)\n",
    "print(tokens.shape)"
   ]
  },
  {
   "cell_type": "code",
   "execution_count": 16,
   "metadata": {},
   "outputs": [],
   "source": [
    "token_probs = []\n",
    "for step in range(max_decode_step):\n",
    "    decoder_outputs = bart_decoder(tokens[:, :step + 2], encoder_out, features_only=False)\n",
    "    logits = decoder_outputs[0][:, -1, :]  # [batch_size, vocab]\n",
    "\n",
    "    # mask certain SOS, EOS, PAD token\n",
    "    if step < min_decode_step:\n",
    "        logits[:, eos_id] = -math.inf\n",
    "    logits[:, pad_id], logits[:, bos_id] = -math.inf, -math.inf  # never select pad, start token\n",
    "\n",
    "#     probs = softmax(logits)\n",
    "#     assert logits.shape == probs.shape\n",
    "\n",
    "    # preds = torch.argmax(logits, dim=1)\n",
    "    value, indices = torch.topk(logits, 5, dim=1)  # value, indices: [batch_size, top_k]\n",
    "    selected_token = indices[:, 0]\n",
    "\n",
    "    if step == 0:\n",
    "        selected_token = indices[:, 0]\n",
    "\n",
    "    # keep the eos_id token\n",
    "    selected_token.masked_fill_(eos_flags, pad_id)\n",
    "    eos_flags = eos_flags + (selected_token == eos_id)\n",
    "\n",
    "    tokens[:, step + 2] = selected_token\n",
    "#     token_probs.append(torch.gather(probs, 1, selected_token.unsqueeze(1)).squeeze().tolist())"
   ]
  },
  {
   "cell_type": "code",
   "execution_count": 17,
   "metadata": {},
   "outputs": [
    {
     "name": "stdout",
     "output_type": "stream",
     "text": [
      "torch.Size([3, 142])\n",
      "tensor([[    2,     0, 28586,  5644,   161,    37,    18,    45,  2542,     9,\n",
      "           143,   569,  4338,    31,    15,   792,     5,  3286,     4,  1859,\n",
      "           433,   690,    14,    51,    33,   303,  3551,  1028,   569,     9,\n",
      "             5,  2058,     4,  1859,  5195,   226,  2951,   212,  1253,   102,\n",
      "           161,  1029,    12,   642, 20366, 19494, 25500,  4494,    56, 12248,\n",
      "          6943,     4, 25500,  4494,   174,    39,  2524,  1058,   334,    11,\n",
      "          2338,    14,    37,    56,    10,    22,  5234, 24963,  3238,     9,\n",
      "          3814,  6943,    60,   226,  2951,   212,  1253,   102,   161,     4,\n",
      "             2,     1,     1,     1,     1,     1,     1,     1,     1,     1,\n",
      "             1,     1,     1,     1,     1,     1,     1,     1,     1,     1,\n",
      "             1,     1,     1,     1,     1,     1,     1,     1,     1,     1,\n",
      "             1,     1,     1,     1,     1,     1,     1,     1,     1,     1,\n",
      "             1,     1,     1,     1,     1,     1,     1,     1,     1,     1,\n",
      "             1,     1,     1,     1,     1,     1,     1,     1,     1,     1,\n",
      "             1,     1],\n",
      "        [    2,     0, 10127, 45154,  1016,   161,  3233,    32,   634,     5,\n",
      "          1856,     9,  4952,     7,  3316, 23729,     4,    20,  1651,    18,\n",
      "          1013,   266, 19111,    29,     5,   304,     9,   194,    12, 14832,\n",
      "         14970,   196,  2429,    25,    10, 21987,  2450,     4,   497,   513,\n",
      "           231,  3570,    82,    58,  9390,   198,     5,   232,    11,   777,\n",
      "             6,  1118,     7,   262,  5479,    11,  1014,     4,     2,     1,\n",
      "             1,     1,     1,     1,     1,     1,     1,     1,     1,     1,\n",
      "             1,     1,     1,     1,     1,     1,     1,     1,     1,     1,\n",
      "             1,     1,     1,     1,     1,     1,     1,     1,     1,     1,\n",
      "             1,     1,     1,     1,     1,     1,     1,     1,     1,     1,\n",
      "             1,     1,     1,     1,     1,     1,     1,     1,     1,     1,\n",
      "             1,     1,     1,     1,     1,     1,     1,     1,     1,     1,\n",
      "             1,     1,     1,     1,     1,     1,     1,     1,     1,     1,\n",
      "             1,     1,     1,     1,     1,     1,     1,     1,     1,     1,\n",
      "             1,     1],\n",
      "        [    2,     0,   133,  5791,  4305,  3374,     5, 17072,  2586,   919,\n",
      "             9,     5,  1016, 10203,   837,     4,    20,   517,  2029,     5,\n",
      "           461, 10542,    81,  1697,  3474,    11,  5791, 13560,     4,  1870,\n",
      "             8,     5,   315,   532,  4340,     5,  8345,   108,  1170,     7,\n",
      "          1962,     5,   809,     4,   125,  5791,  3125,   692, 16221,   625,\n",
      "          1076,    12,   448,  9707,   118,   161,    24,    16,    10,   517,\n",
      "          1706,  2388,  2427,     4,     2,     1,     1,     1,     1,     1,\n",
      "             1,     1,     1,     1,     1,     1,     1,     1,     1,     1,\n",
      "             1,     1,     1,     1,     1,     1,     1,     1,     1,     1,\n",
      "             1,     1,     1,     1,     1,     1,     1,     1,     1,     1,\n",
      "             1,     1,     1,     1,     1,     1,     1,     1,     1,     1,\n",
      "             1,     1,     1,     1,     1,     1,     1,     1,     1,     1,\n",
      "             1,     1,     1,     1,     1,     1,     1,     1,     1,     1,\n",
      "             1,     1,     1,     1,     1,     1,     1,     1,     1,     1,\n",
      "             1,     1]], device='cuda:0')\n"
     ]
    }
   ],
   "source": [
    "print(tokens.shape)\n",
    "print(tokens)"
   ]
  },
  {
   "cell_type": "code",
   "execution_count": 18,
   "metadata": {},
   "outputs": [
    {
     "name": "stdout",
     "output_type": "stream",
     "text": [
      "tensor([79, 57, 63], device='cuda:0')\n"
     ]
    }
   ],
   "source": [
    "_, index = (tokens[:, 1:] == eos_id).nonzero(as_tuple=True)\n",
    "print(index)"
   ]
  },
  {
   "cell_type": "code",
   "execution_count": 19,
   "metadata": {},
   "outputs": [
    {
     "name": "stdout",
     "output_type": "stream",
     "text": [
      "tensor([    0, 28586,  5644,   161,    37,    18,    45,  2542,     9,   143,\n",
      "          569,  4338,    31,    15,   792,     5,  3286,     4,  1859,   433,\n",
      "          690,    14,    51,    33,   303,  3551,  1028,   569,     9,     5,\n",
      "         2058,     4,  1859,  5195,   226,  2951,   212,  1253,   102,   161,\n",
      "         1029,    12,   642, 20366, 19494, 25500,  4494,    56, 12248,  6943,\n",
      "            4, 25500,  4494,   174,    39,  2524,  1058,   334,    11,  2338,\n",
      "           14,    37,    56,    10,    22,  5234, 24963,  3238,     9,  3814,\n",
      "         6943,    60,   226,  2951,   212,  1253,   102,   161,     4,     2],\n",
      "       device='cuda:0')\n"
     ]
    }
   ],
   "source": [
    "print(tokens[0][1:index[0] + 2])"
   ]
  },
  {
   "cell_type": "code",
   "execution_count": 20,
   "metadata": {},
   "outputs": [
    {
     "data": {
      "text/plain": [
       "'French prosecutor says he\\'s not aware of any video footage from on board the plane. German media reports that they have found cell phone video of the crash. German airline Lufthansa says co-pilot Andreas Lubitz had battled depression. Lubitz told his flight training school in 2009 that he had a \"previous episode of severe depression,\" Lufthansa says.'"
      ]
     },
     "execution_count": 20,
     "metadata": {},
     "output_type": "execute_result"
    }
   ],
   "source": [
    "bart.decode(tokens[0][1: index[0] + 2])"
   ]
  },
  {
   "cell_type": "code",
   "execution_count": 21,
   "metadata": {},
   "outputs": [
    {
     "data": {
      "text/plain": [
       "'A French prosecutor says he is not aware of any video footage from on board the plane. German daily Bild and Paris Match claim to have found a cell phone video of the crash. A French Gendarmerie spokesman calls the reports \"completely wrong\" and \"unwarranted\" German airline Lufthansa says co-pilot Andreas Lubitz battled depression years before he took the controls.'"
      ]
     },
     "execution_count": 21,
     "metadata": {},
     "output_type": "execute_result"
    }
   ],
   "source": [
    "'A French prosecutor says he is not aware of any video footage from on board the plane. German daily Bild and Paris Match claim to have found a cell phone video of the crash. A French Gendarmerie spokesman calls the reports \"completely wrong\" and \"unwarranted\" German airline Lufthansa says co-pilot Andreas Lubitz battled depression years before he took the controls.'"
   ]
  },
  {
   "cell_type": "code",
   "execution_count": null,
   "metadata": {},
   "outputs": [],
   "source": []
  }
 ],
 "metadata": {
  "kernelspec": {
   "display_name": "Python 3",
   "language": "python",
   "name": "python3"
  },
  "language_info": {
   "codemirror_mode": {
    "name": "ipython",
    "version": 3
   },
   "file_extension": ".py",
   "mimetype": "text/x-python",
   "name": "python",
   "nbconvert_exporter": "python",
   "pygments_lexer": "ipython3",
   "version": "3.7.4"
  }
 },
 "nbformat": 4,
 "nbformat_minor": 4
}
