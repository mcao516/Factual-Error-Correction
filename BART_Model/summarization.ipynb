{
 "cells": [
  {
   "cell_type": "code",
   "execution_count": 1,
   "metadata": {},
   "outputs": [],
   "source": [
    "import torch\n",
    "from fairseq.models.bart import BARTModel"
   ]
  },
  {
   "cell_type": "code",
   "execution_count": 2,
   "metadata": {},
   "outputs": [],
   "source": [
    "bart = BARTModel.from_pretrained(\n",
    "    'bart.large.cnn/',\n",
    "    checkpoint_file='model.pt'\n",
    ")"
   ]
  },
  {
   "cell_type": "code",
   "execution_count": 3,
   "metadata": {},
   "outputs": [
    {
     "name": "stdout",
     "output_type": "stream",
     "text": [
      "Marseille, France (CNN)The French prosecutor leading an investigation into the crash of Germanwings Flight 9525 insisted Wednesday that he was not aware of any video footage from on board the plane. Marseille prosecutor Brice Robin told CNN that \"so far no videos were used in the crash investigation.\" He added, \"A person who has such a video needs to immediately give it to the investigators.\" Robin's comments follow claims by two magazines, German daily Bild and French Paris Match, of a cell phone video showing the harrowing final seconds from on board Germanwings Flight 9525 as it crashed into the French Alps. All 150 on board were killed. Paris Match and Bild reported that the video was recovered from a phone at the wreckage site. The two publications described the supposed video, but did not post it on their websites. The publications said that they watched the video, which was found by a source close to the investigation. \"One can hear cries of 'My God' in several languages,\" Paris Match reported. \"Metallic banging can also be heard more than three times, perhaps of the pilot trying to open the cockpit door with a heavy object.  Towards the end, after a heavy shake, stronger than the others, the screaming intensifies. Then nothing.\" \"It is a very disturbing scene,\" said Julian Reichelt, editor-in-chief of Bild online. An official with France's accident investigation agency, the BEA, said the agency is not aware of any such video. Lt. Col. Jean-Marc Menichini, a French Gendarmerie spokesman in charge of communications on rescue efforts around the Germanwings crash site, told CNN that the reports were \"completely wrong\" and \"unwarranted.\" Cell phones have been collected at the site, he said, but that they \"hadn't been exploited yet.\" Menichini said he believed the cell phones would need to be sent to the Criminal Research Institute in Rosny sous-Bois, near Paris, in order to be analyzed by specialized technicians working hand-in-hand with investigators. But none of the cell phones found so far have been sent to the institute, Menichini said. Asked whether staff involved in the search could have leaked a memory card to the media, Menichini answered with a categorical \"no.\" Reichelt told \"Erin Burnett: Outfront\" that he had watched the video and stood by the report, saying Bild and Paris Match are \"very confident\" that the clip is real. He noted that investigators only revealed they'd recovered cell phones from the crash site after Bild and Paris Match published their reports. \"That is something we did not know before. ... Overall we can say many things of the investigation weren't revealed by the investigation at the beginning,\" he said. What was mental state of Germanwings co-pilot? German airline Lufthansa confirmed Tuesday that co-pilot Andreas Lubitz had battled depression years before he took the controls of Germanwings Flight 9525, which he's accused of deliberately crashing last week in the French Alps. Lubitz told his Lufthansa flight training school in 2009 that he had a \"previous episode of severe depression,\" the airline said Tuesday. Email correspondence between Lubitz and the school discovered in an internal investigation, Lufthansa said, included medical documents he submitted in connection with resuming his flight training. The announcement indicates that Lufthansa, the parent company of Germanwings, knew of Lubitz's battle with depression, allowed him to continue training and ultimately put him in the cockpit. Lufthansa, whose CEO Carsten Spohr previously said Lubitz was 100% fit to fly, described its statement Tuesday as a \"swift and seamless clarification\" and said it was sharing the information and documents -- including training and medical records -- with public prosecutors. Spohr traveled to the crash site Wednesday, where recovery teams have been working for the past week to recover human remains and plane debris scattered across a steep mountainside. He saw the crisis center set up in Seyne-les-Alpes, laid a wreath in the village of Le Vernet, closer to the crash site, where grieving families have left flowers at a simple stone memorial. Menichini told CNN late Tuesday that no visible human remains were left at the site but recovery teams would keep searching. French President Francois Hollande, speaking Tuesday, said that it should be possible to identify all the victims using DNA analysis by the end of the week, sooner than authorities had previously suggested. In the meantime, the recovery of the victims' personal belongings will start Wednesday, Menichini said. Among those personal belongings could be more cell phones belonging to the 144 passengers and six crew on board. Check out the latest from our correspondents . The details about Lubitz's correspondence with the flight school during his training were among several developments as investigators continued to delve into what caused the crash and Lubitz's possible motive for downing the jet. A Lufthansa spokesperson told CNN on Tuesday that Lubitz had a valid medical certificate, had passed all his examinations and \"held all the licenses required.\" Earlier, a spokesman for the prosecutor's office in Dusseldorf, Christoph Kumpa, said medical records reveal Lubitz suffered from suicidal tendencies at some point before his aviation career and underwent psychotherapy before he got his pilot's license. Kumpa emphasized there's no evidence suggesting Lubitz was suicidal or acting aggressively before the crash. Investigators are looking into whether Lubitz feared his medical condition would cause him to lose his pilot's license, a European government official briefed on the investigation told CNN on Tuesday. While flying was \"a big part of his life,\" the source said, it's only one theory being considered. Another source, a law enforcement official briefed on the investigation, also told CNN that authorities believe the primary motive for Lubitz to bring down the plane was that he feared he would not be allowed to fly because of his medical problems. Lubitz's girlfriend told investigators he had seen an eye doctor and a neuropsychologist, both of whom deemed him unfit to work recently and concluded he had psychological issues, the European government official said. But no matter what details emerge about his previous mental health struggles, there's more to the story, said Brian Russell, a forensic psychologist. \"Psychology can explain why somebody would turn rage inward on themselves about the fact that maybe they weren't going to keep doing their job and they're upset about that and so they're suicidal,\" he said. \"But there is no mental illness that explains why somebody then feels entitled to also take that rage and turn it outward on 149 other people who had nothing to do with the person's problems.\" Germanwings crash compensation: What we know . Who was the captain of Germanwings Flight 9525? CNN's Margot Haddad reported from Marseille and Pamela Brown from Dusseldorf, while Laura Smith-Spark wrote from London. CNN's Frederik Pleitgen, Pamela Boykoff, Antonia Mortensen, Sandrine Amiel and Anna-Maja Rappard contributed to this report.\n",
      "(CNN)The Palestinian Authority officially became the 123rd member of the International Criminal Court on Wednesday, a step that gives the court jurisdiction over alleged crimes in Palestinian territories. The formal accession was marked with a ceremony at The Hague, in the Netherlands, where the court is based. The Palestinians signed the ICC's founding Rome Statute in January, when they also accepted its jurisdiction over alleged crimes committed \"in the occupied Palestinian territory, including East Jerusalem, since June 13, 2014.\" Later that month, the ICC opened a preliminary examination into the situation in Palestinian territories, paving the way for possible war crimes investigations against Israelis. As members of the court, Palestinians may be subject to counter-charges as well. Israel and the United States, neither of which is an ICC member, opposed the Palestinians' efforts to join the body. But Palestinian Foreign Minister Riad al-Malki, speaking at Wednesday's ceremony, said it was a move toward greater justice. \"As Palestine formally becomes a State Party to the Rome Statute today, the world is also a step closer to ending a long era of impunity and injustice,\" he said, according to an ICC news release. \"Indeed, today brings us closer to our shared goals of justice and peace.\" Judge Kuniko Ozaki, a vice president of the ICC, said acceding to the treaty was just the first step for the Palestinians. \"As the Rome Statute today enters into force for the State of Palestine, Palestine acquires all the rights as well as responsibilities that come with being a State Party to the Statute. These are substantive commitments, which cannot be taken lightly,\" she said. Rights group Human Rights Watch welcomed the development. \"Governments seeking to penalize Palestine for joining the ICC should immediately end their pressure, and countries that support universal acceptance of the court's treaty should speak out to welcome its membership,\" said Balkees Jarrah, international justice counsel for the group. \"What's objectionable is the attempts to undermine international justice, not Palestine's decision to join a treaty to which over 100 countries around the world are members.\" In January, when the preliminary ICC examination was opened, Israeli Prime Minister Benjamin Netanyahu described it as an outrage, saying the court was overstepping its boundaries. The United States also said it \"strongly\" disagreed with the court's decision. \"As we have said repeatedly, we do not believe that Palestine is a state and therefore we do not believe that it is eligible to join the ICC,\" the State Department said in a statement. It urged the warring sides to resolve their differences through direct negotiations. \"We will continue to oppose actions against Israel at the ICC as counterproductive to the cause of peace,\" it said. But the ICC begs to differ with the definition of a state for its purposes and refers to the territories as \"Palestine.\" While a preliminary examination is not a formal investigation, it allows the court to review evidence and determine whether to investigate suspects on both sides. Prosecutor Fatou Bensouda said her office would \"conduct its analysis in full independence and impartiality.\" The war between Israel and Hamas militants in Gaza last summer left more than 2,000 people dead. The inquiry will include alleged war crimes committed since June. The International Criminal Court was set up in 2002 to prosecute genocide, crimes against humanity and war crimes. CNN's Vasco Cotovio, Kareem Khadder and Faith Karimi contributed to this report.\n",
      "\n",
      "(CNN)Governments around the world are using the threat of terrorism -- real or perceived -- to advance executions, Amnesty International alleges in its annual report on the death penalty. \"The dark trend of governments using the death penalty in a futile attempt to tackle real or imaginary threats to state security and public safety was stark last year,\" said Salil Shetty, Amnesty's Secretary General in a release. \"It is shameful that so many states around the world are essentially playing with people's lives -- putting people to death for 'terrorism' or to quell internal instability on the ill-conceived premise of deterrence.\" The report, \"Death Sentences and Executions 2014,\" cites the example of Pakistan lifting a six-year moratorium on the execution of civilians following the horrific attack on a school in Peshawar in December. China is also mentioned, as having used the death penalty as a tool in its \"Strike Hard\" campaign against terrorism in the restive far-western province of Xinjiang. The annual report catalogs the use of state-sanctioned killing as a punitive measure across the globe, and this year's edition contains some mixed findings. On one hand, the number of executions worldwide has gone down by almost 22% on the previous year. At least 607 people were executed around the world in 2014, compared to 778 in 2013. Amnesty's figures do not include statistics on executions carried out in China, where information on the practice is regarded as a state secret. Belarus and Vietnam, too, do not release data on death penalty cases. \"The long-term trend is definitely positive -- we are seeing a decrease in the number of executions (worldwide),\" Audrey Gaughran, Amnesty's Director of Global Issues, told CNN. \"A number of countries are closer to abolition, and there are some signs that some countries will be abolitionist by 2015. (There are) signals of a world that is nearing abolition.\" While the report notes some encouraging signs, it also highlights a marked increase in the number of people sentenced to death in 2014. At least 2,466 people globally are confirmed to have been handed the sentence last year, an increase of 28% compared with 2013. The report notes that the spike in sentencing is attributable to mass-sentencing in countries including Egypt and Nigeria, \"against scores of people in some cases.\" The organization found \"positive developments\" worldwide, with most regions seeming to show reductions in the number of executions. Opinion: Sharp spike in death sentences . Sub-Saharan Africa, for example, saw a 28% fall in reported cases, and executions recorded in the Middle East and North Africa were down 23% compared to 2013. \"Even though we've highlighted some of the negative developments... I think we would always highlight that there are positive developments,\" Gaughran said. \"Across the board, with the exception of Europe and Central Asia there were fewer reports of executions in every region.\" The resumption of the use of capital punishment in Belarus -- the only country in Europe and Central Asia to execute people -- after a two year hiatus spoiled an near-universal decrease in countries using the death penalty by region. The United States has the dubious distinction of being the only country in the Americas to conduct executions, but the number of convicts put to death here fell slightly, from 39 in 2013 to 35 in 2014. The state of Washington also imposed a moratorium on executions last year. The U.S. remains one of the worst offenders for imposing capital punishment, with only Iran (289+), Iraq (61+), and Saudi Arabia (90+) executing more people in 2014. While figures are not available, Amnesty estimates that China also executes \"thousands\" of prisoners each year, \"more than the rest of the world put together.\" The report also highlights the imperfections in the judiciary processes that lead to many sentenced to death. \"In the majority of countries where people were sentenced to death or executed, the death penalty was imposed after proceedings that did not meet international fair trial standards,\" the report stated. \"In 2014 Amnesty International raised particular concerns in relation to court proceedings in Afghanistan, Bangladesh, China, Egypt, Iran, Iraq, North Korea, Pakistan, Saudi Arabia and Sri Lanka.\" The United Nations Secretary-General, Ban Ki-moon, last year stressed the need to move toward abolition of capital punishment. \"The taking of life is too irreversible for one human being to inflict it on another,\" he said, in marking World Day against Death Penalty in October. \"We must continue to argue strongly that the death penalty is unjust and incompatible with fundamental human rights.\" Amnesty estimates that at least 19,094 people were believed to be on death row at the end of 2014.\n",
      "\n",
      "(CNN)On May 28, 2014, some 7,000 people gathered in a stadium in China's northwestern Xinjiang region. But they had not come to watch the local football team or any other grand sporting event. Instead, the authorities paraded scores of prisoners dressed in orange jumpsuits. Armed soldiers guarded the exits. In the patently unfair, open air trial that followed, 55 people were found guilty of a range of offenses linked to violent attacks in the region and jailed. Three were sentenced to death. The public mass sentencing was part a China's \"Strike Hard\" campaign against unrest in Xinjiang, a campaign the government claims was launched to combat \"terrorism\" and \"separatism.\" But it was also indicative of a trend that was starkly evident last year around the world -- governments using the death penalty in a misguided, and often cynical, attempt to tackle crime and terrorism. Today, Amnesty International releases its annual review of the death penalty worldwide.  Much of it makes for grim reading. In Pakistan, the government lifted a six-year moratorium on the execution of civilians in the wake of the horrific Taliban attack on a school in Peshawar in December. More than 60 people have been put to death since, and the government has threatened to send thousands more death row prisoners to the gallows.  Iran and Iraq executed people for \"terrorism,\" and other countries expanded the scope of capital crimes in their penal codes. In a year when abhorrent summary executions by armed groups were branded on the global consciousness as never before, governments are themselves resorting to more executions in a knee-jerk reaction to terrorism. Other countries made use of executions in similarly flawed attempts to address -- or appear to address -- crime rates. Jordan ended an eight-year moratorium in December, putting 11 murder convicts to death, with the government saying it was a move to end a surge in violent crime.  In Indonesia, authorities announced plans to execute mainly drug traffickers to tackle a public safety \"national emergency.\" Six people have already been executed this year. A sharp spike in death sentences recorded in 2014 -- up more than 500 on the previous year -- can also be attributed to governments using the death penalty as a political tool.  The rise was largely because of developments in Egypt and Nigeria, where courts imposed hundreds of death sentences in the context of internal political instability or crime and armed conflict. The simple fact is that governments using the death penalty to tackle crime and security threats are deceiving themselves or the public or both. There is no evidence that the threat of execution is more of a deterrent to crime than a prison sentence, as United Nations and other studies have repeatedly confirmed. It is high time that world leaders stop using the death penalty as an easy way out when times get tough. At Amnesty International, we have campaigned for an end to the death penalty for decades. Thankfully, most of the world now appears to agree with us. The numbers speak for themselves. In 1945 when the United Nations was founded, only eight countries had abolished the death penalty. Today, 140 states are abolitionist in law or practice. Last year, we recorded executions in 22 countries, down by almost a half from 20 years ago. Despite the troubling developments we recorded last year, there was still much good news to be found. The number of executions recorded around the world dropped significantly in 2014 compared with the previous year, from 778 to 607. This number does not include China, where more people are put to death than the rest of the world put together, but with death penalty statistics treated as a state secret, the true figure is impossible to determine. Executions were recorded in only three countries in sub-Saharan Africa -- Equatorial Guinea, Somalia and Sudan -- and the number of people put to death went down by more than a quarter. The Americas continued to be execution-free, apart from the United States. Those governments that still execute need to realize that they are on the wrong side of history. They must join the vast majority of countries which have dropped the ultimate cruel punishment. Fighting for an end to the death penalty remains an uphill task, but all of us must try to make the world free of this punishment. With determination, I know that we can achieve this goal.\n",
      "\n"
     ]
    },
    {
     "ename": "AssertionError",
     "evalue": "",
     "output_type": "error",
     "traceback": [
      "\u001b[0;31m---------------------------------------------------------------------------\u001b[0m",
      "\u001b[0;31mAssertionError\u001b[0m                            Traceback (most recent call last)",
      "\u001b[0;32m<ipython-input-3-db514342f256>\u001b[0m in \u001b[0;36m<module>\u001b[0;34m\u001b[0m\n\u001b[1;32m     35\u001b[0m         \u001b[0mprint\u001b[0m\u001b[0;34m(\u001b[0m\u001b[0msline\u001b[0m\u001b[0;34m)\u001b[0m\u001b[0;34m\u001b[0m\u001b[0;34m\u001b[0m\u001b[0m\n\u001b[1;32m     36\u001b[0m         \u001b[0;32mif\u001b[0m \u001b[0mcount\u001b[0m \u001b[0;34m==\u001b[0m \u001b[0;36m4\u001b[0m\u001b[0;34m:\u001b[0m\u001b[0;34m\u001b[0m\u001b[0;34m\u001b[0m\u001b[0m\n\u001b[0;32m---> 37\u001b[0;31m             \u001b[0;32massert\u001b[0m \u001b[0;36m1\u001b[0m \u001b[0;34m==\u001b[0m \u001b[0;36m0\u001b[0m\u001b[0;34m\u001b[0m\u001b[0;34m\u001b[0m\u001b[0m\n\u001b[0m\u001b[1;32m     38\u001b[0m \u001b[0;34m\u001b[0m\u001b[0m\n\u001b[1;32m     39\u001b[0m \u001b[0;34m\u001b[0m\u001b[0m\n",
      "\u001b[0;31mAssertionError\u001b[0m: "
     ]
    }
   ],
   "source": [
    "bart.cuda()\n",
    "bart.eval()\n",
    "bart.half()\n",
    "count = 1\n",
    "bsz = 2\n",
    "\n",
    "source_file = '/home/cadenc9020/summarization/dataset/cnn-dailymail/cnn-dailymail/cnn_dm/test.source'\n",
    "target_file = '/home/cadenc9020/summarization/dataset/cnn-dailymail/cnn-dailymail/cnn_dm/test.target'\n",
    "\n",
    "# with open(source_file) as source, open(target_file) as target:\n",
    "#     sline = source.readline().strip()\n",
    "#     tline = target.readline().strip()\n",
    "#     print('Document:')\n",
    "#     print(sline)\n",
    "#     print('Abstract:')\n",
    "#     print(tline)\n",
    "#     print('======')\n",
    "\n",
    "with open(source_file) as source, open('test.hypo', 'w') as fout:\n",
    "    sline = source.readline().strip()\n",
    "    slines = [sline]\n",
    "    print(sline)\n",
    "    for sline in source:\n",
    "        if count % bsz == 0:\n",
    "            with torch.no_grad():\n",
    "                hypotheses_batch = bart.sample(slines, beam=4, lenpen=2.0, max_len_b=140, min_len=55, no_repeat_ngram_size=3)\n",
    "            for hypothesis in hypotheses_batch:\n",
    "                fout.write(hypothesis + '\\n')\n",
    "                fout.flush()\n",
    "            slines = []\n",
    "\n",
    "        slines.append(sline.strip())\n",
    "        count += 1\n",
    "        \n",
    "        print(sline)\n",
    "        if count == 4:\n",
    "            assert 1 == 0\n",
    "        \n",
    "        \n",
    "    if slines != []:\n",
    "        hypotheses_batch = bart.sample(slines, beam=4, lenpen=2.0, max_len_b=140, min_len=55, no_repeat_ngram_size=3)\n",
    "        for hypothesis in hypotheses_batch:\n",
    "            fout.write(hypothesis + '\\n')\n",
    "            fout.flush()"
   ]
  },
  {
   "cell_type": "code",
   "execution_count": null,
   "metadata": {},
   "outputs": [],
   "source": [
    "# <fairseq.tasks.translation.TranslationTask object at 0x7fc838351410>\n",
    "# <bound method FairseqTask.inference_step of <fairseq.tasks.translation.TranslationTask object at 0x7fc838351410>>"
   ]
  },
  {
   "cell_type": "code",
   "execution_count": null,
   "metadata": {},
   "outputs": [],
   "source": []
  }
 ],
 "metadata": {
  "kernelspec": {
   "display_name": "Python 3",
   "language": "python",
   "name": "python3"
  },
  "language_info": {
   "codemirror_mode": {
    "name": "ipython",
    "version": 3
   },
   "file_extension": ".py",
   "mimetype": "text/x-python",
   "name": "python",
   "nbconvert_exporter": "python",
   "pygments_lexer": "ipython3",
   "version": "3.7.5"
  }
 },
 "nbformat": 4,
 "nbformat_minor": 4
}
