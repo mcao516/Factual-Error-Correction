{
 "cells": [
  {
   "cell_type": "code",
   "execution_count": 1,
   "metadata": {},
   "outputs": [],
   "source": [
    "import torch\n",
    "from fairseq.models.bart import BARTModel"
   ]
  },
  {
   "cell_type": "code",
   "execution_count": 4,
   "metadata": {},
   "outputs": [
    {
     "name": "stderr",
     "output_type": "stream",
     "text": "1042301B [00:00, 1797758.93B/s]\n456318B [00:00, 1184688.42B/s]\n"
    }
   ],
   "source": [
    "bart = BARTModel.from_pretrained(\n",
    "    '/home/mcao610/scratch/BART_models/checkpoints_iter/',\n",
    "    checkpoint_file='checkpoint_best.pt',\n",
    "    data_name_or_path='/home/mcao610/scratch/summarization/cnn_dm/iterative_files/cnn_dm-bin/'\n",
    ")"
   ]
  },
  {
   "cell_type": "code",
   "execution_count": null,
   "metadata": {},
   "outputs": [],
   "source": [
    "from tqdm import tqdm"
   ]
  },
  {
   "cell_type": "code",
   "execution_count": null,
   "metadata": {},
   "outputs": [],
   "source": [
    "bart.cuda()\n",
    "bart.eval()\n",
    "bart.half()\n",
    "count = 1\n",
    "bsz = 32\n",
    "\n",
    "source_file = '/home/cadenc9020/Two-Steps-Summarization/datasets/cnn_dm/fairseq_files/val.source'\n",
    "# target_file = '/home/cadenc9020/Two-Steps-Summarization/datasets/cnn_dm/fairseq_files/test.target'\n",
    "\n",
    "with open(source_file) as source, open('inference.hypo', 'w') as fout:\n",
    "    sline = source.readline().strip()\n",
    "    slines = [sline]\n",
    "    for sline in tqdm(source):\n",
    "        if count % bsz == 0:\n",
    "            with torch.no_grad():\n",
    "                hypotheses_batch = bart.sample(slines, beam=4, lenpen=2.0, max_len_b=140, min_len=55, no_repeat_ngram_size=3)\n",
    "            for hypothesis in hypotheses_batch:\n",
    "                fout.write(hypothesis + '\\n')\n",
    "                fout.flush()\n",
    "            slines = []\n",
    "\n",
    "        slines.append(sline.strip())\n",
    "        count += 1\n",
    "\n",
    "    if slines != []:\n",
    "        hypotheses_batch = bart.sample(slines, beam=4, lenpen=2.0, max_len_b=140, min_len=55, no_repeat_ngram_size=3)\n",
    "        for hypothesis in hypotheses_batch:\n",
    "            fout.write(hypothesis + '\\n')\n",
    "            fout.flush()"
   ]
  },
  {
   "cell_type": "code",
   "execution_count": null,
   "metadata": {},
   "outputs": [],
   "source": [
    "# <fairseq.tasks.translation.TranslationTask object at 0x7fc838351410>\n",
    "# <bound method FairseqTask.inference_step of <fairseq.tasks.translation.TranslationTask object at 0x7fc838351410>>"
   ]
  },
  {
   "cell_type": "code",
   "execution_count": null,
   "metadata": {},
   "outputs": [],
   "source": []
  }
 ],
 "metadata": {
  "kernelspec": {
   "display_name": "Python 3",
   "language": "python",
   "name": "python3"
  },
  "language_info": {
   "codemirror_mode": {
    "name": "ipython",
    "version": 3
   },
   "file_extension": ".py",
   "mimetype": "text/x-python",
   "name": "python",
   "nbconvert_exporter": "python",
   "pygments_lexer": "ipython3",
   "version": "3.7.5-final"
  }
 },
 "nbformat": 4,
 "nbformat_minor": 4
}