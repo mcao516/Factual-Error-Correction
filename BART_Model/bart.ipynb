{
 "cells": [
  {
   "cell_type": "code",
   "execution_count": 1,
   "metadata": {},
   "outputs": [],
   "source": [
    "import math\n",
    "import torch\n",
    "from fairseq.models.bart import BARTModel"
   ]
  },
  {
   "cell_type": "code",
   "execution_count": 2,
   "metadata": {},
   "outputs": [],
   "source": [
    "bart = BARTModel.from_pretrained('./bart.large', checkpoint_file='model.pt')"
   ]
  },
  {
   "cell_type": "code",
   "execution_count": 3,
   "metadata": {},
   "outputs": [
    {
     "name": "stdout",
     "output_type": "stream",
     "text": [
      "- activate evaluation mode\n"
     ]
    }
   ],
   "source": [
    "bart.cuda()\n",
    "bart.eval()\n",
    "print('- activate evaluation mode')"
   ]
  },
  {
   "cell_type": "code",
   "execution_count": 4,
   "metadata": {},
   "outputs": [],
   "source": [
    "encode_func = bart.encode\n",
    "decode_func = bart.decode"
   ]
  },
  {
   "cell_type": "code",
   "execution_count": 5,
   "metadata": {},
   "outputs": [
    {
     "name": "stdout",
     "output_type": "stream",
     "text": [
      "<class 'fairseq.models.bart.model.BARTModel'>\n",
      "<class 'fairseq.models.transformer.TransformerEncoder'>\n",
      "<class 'fairseq.models.transformer.TransformerDecoder'>\n"
     ]
    }
   ],
   "source": [
    "bart_encoder = bart.model.encoder\n",
    "bart_decoder = bart.model.decoder\n",
    "print(type(bart.model))\n",
    "print(type(bart_encoder))\n",
    "print(type(bart_decoder))"
   ]
  },
  {
   "cell_type": "code",
   "execution_count": 6,
   "metadata": {},
   "outputs": [],
   "source": [
    "test_inputs = [\"Before she saw face his, Liz heard Allen's voice and began to cry.\",\n",
    "               \"Before she saw saw his face, Liz heard Allen's voice and began to cry.\"]\n",
    "test_optuputs = [\"Before she saw his face, Liz heard Allen's voice and began to cry.\",\n",
    "                 \"Before she saw his face, Liz heard Allen's voice and began to cry.\"]"
   ]
  },
  {
   "cell_type": "markdown",
   "metadata": {},
   "source": [
    "#### Tokenization"
   ]
  },
  {
   "cell_type": "code",
   "execution_count": 7,
   "metadata": {},
   "outputs": [],
   "source": [
    "from fairseq.data.data_utils import collate_tokens"
   ]
  },
  {
   "cell_type": "code",
   "execution_count": 8,
   "metadata": {},
   "outputs": [],
   "source": [
    "input_tokens = [encode_func(s) for s in test_inputs]\n",
    "output_tokens = [encode_func(s) for s in test_optuputs]"
   ]
  },
  {
   "cell_type": "code",
   "execution_count": 9,
   "metadata": {},
   "outputs": [],
   "source": [
    "input_batch = collate_tokens(input_tokens, pad_idx=1)\n",
    "output_batch = collate_tokens(output_tokens, pad_idx=1)"
   ]
  },
  {
   "cell_type": "code",
   "execution_count": 10,
   "metadata": {},
   "outputs": [
    {
     "name": "stdout",
     "output_type": "stream",
     "text": [
      "torch.Size([2, 19])\n",
      "torch.Size([2, 18])\n"
     ]
    }
   ],
   "source": [
    "print(input_batch.shape)\n",
    "print(output_batch.shape)"
   ]
  },
  {
   "cell_type": "code",
   "execution_count": 11,
   "metadata": {},
   "outputs": [],
   "source": [
    "src_lengths = torch.tensor([17, 20], dtype=torch.long)\n",
    "encoder_outputs = bart_encoder(input_batch.cuda(), src_lengths.cuda())"
   ]
  },
  {
   "cell_type": "code",
   "execution_count": 12,
   "metadata": {},
   "outputs": [
    {
     "data": {
      "text/plain": [
       "torch.Size([19, 2, 1024])"
      ]
     },
     "execution_count": 12,
     "metadata": {},
     "output_type": "execute_result"
    }
   ],
   "source": [
    "encoder_outputs.encoder_out.shape"
   ]
  },
  {
   "cell_type": "code",
   "execution_count": 13,
   "metadata": {},
   "outputs": [],
   "source": [
    "# prev_output_tokens: [batch, tgt_len], encoder_out: all_outputs"
   ]
  },
  {
   "cell_type": "code",
   "execution_count": 14,
   "metadata": {},
   "outputs": [],
   "source": [
    "init_input = torch.tensor([[2, 0], [2, 0]], dtype=torch.long).cuda()\n",
    "max_decode_step = 20\n",
    "pad_id = 1\n",
    "\n",
    "for step in range(max_decode_step):\n",
    "    decoder_outputs = bart_decoder(init_input, encoder_outputs)\n",
    "    logits = decoder_outputs[0]  # [batch_size, seq_len, vocab]\n",
    "    logits[:, -1, pad_id] = -math.inf  # never select pad\n",
    "    \n",
    "    _, sample = torch.topk(logits, 1, dim=-1)\n",
    "    sample = sample.squeeze()\n",
    "    if sample.ndim > 1:\n",
    "        pred_tokens = sample[:, -1:]\n",
    "\n",
    "    init_input = torch.cat([init_input, pred_tokens], dim=-1)"
   ]
  },
  {
   "cell_type": "code",
   "execution_count": 15,
   "metadata": {},
   "outputs": [
    {
     "data": {
      "text/plain": [
       "[\"Before she saw face his, Liz heard Allen's voice and began to cry.\",\n",
       " '',\n",
       " '',\n",
       " '']"
      ]
     },
     "execution_count": 15,
     "metadata": {},
     "output_type": "execute_result"
    }
   ],
   "source": [
    "decode_func(init_input[0])"
   ]
  },
  {
   "cell_type": "code",
   "execution_count": 16,
   "metadata": {},
   "outputs": [],
   "source": [
    "test = torch.tensor([    2,   347,  4405, 14725,     6, 18585,  1745,    35,  3742,    16,\n",
    "             5,   144,  2247,  3944,    11,     5,   232,     6,    53,    24,\n",
    "            18,    23,   810,   479, 14725,     6,  1745,    35,   318,     5,\n",
    "         13678,   817,     5,  1593,   568,     6,    24,    74,  3549,  1161,\n",
    "         18755,   479,   252,   224,  1769,  7993,    74,  8439,     5,   490,\n",
    "          3742,     6,   712,  6886,     8,   850,   479, 14725,     6,  1745,\n",
    "            35,   660,   490,  3742, 15885,   776,   434,     6,   592,     8,\n",
    "           776, 11525,   479,     1], dtype=torch.long)"
   ]
  },
  {
   "cell_type": "code",
   "execution_count": 17,
   "metadata": {},
   "outputs": [
    {
     "data": {
      "text/plain": [
       "\"Cory Booker, Angus King: Internet is the most powerful tool in the world, but it's at risk . Booker, King: If the FCC makes the wrong decision, it would kill net neutrality . They say fast lanes would destroy the open Internet, increase discrimination and prices . Booker, King: An open Internet promotes economic growth, social and economic\""
      ]
     },
     "execution_count": 17,
     "metadata": {},
     "output_type": "execute_result"
    }
   ],
   "source": [
    "decode_func(test[:-3])"
   ]
  },
  {
   "cell_type": "code",
   "execution_count": 47,
   "metadata": {},
   "outputs": [
    {
     "data": {
      "text/plain": [
       "tensor([    0, 17206,    79,   794,   652,    39,     4, 14359,  1317,  3823,\n",
       "           18,  2236,     8,   880,     7,  8930,     4,     2])"
      ]
     },
     "execution_count": 47,
     "metadata": {},
     "output_type": "execute_result"
    }
   ],
   "source": [
    "encode_func(\"Before she saw face his. </s> Liz heard Allen's voice and began to cry.\")"
   ]
  },
  {
   "cell_type": "code",
   "execution_count": 48,
   "metadata": {},
   "outputs": [
    {
     "data": {
      "text/plain": [
       "\"Before she saw face his. Liz heard Allen's voice and began to cry.\""
      ]
     },
     "execution_count": 48,
     "metadata": {},
     "output_type": "execute_result"
    }
   ],
   "source": [
    "decode_func(torch.tensor([    0, 17206,    79,   794,   652,    39,     4, 14359,  1317,  3823,\n",
    "           18,  2236,     8,   880,     7,  8930,     4,     2], dtype=torch.long))"
   ]
  },
  {
   "cell_type": "code",
   "execution_count": 49,
   "metadata": {},
   "outputs": [
    {
     "data": {
      "text/plain": [
       "\"Before she saw face his. </s> Liz heard Allen's voice and began to cry.\""
      ]
     },
     "execution_count": 49,
     "metadata": {},
     "output_type": "execute_result"
    }
   ],
   "source": [
    "decode_func(torch.tensor([    0, 17206,    79,   794,   652,    39,     4, 49703,    29, 15698,\n",
    "        14359,  1317,  3823,    18,  2236,     8,   880,     7,  8930,     4,\n",
    "            2], dtype=torch.long))"
   ]
  },
  {
   "cell_type": "code",
   "execution_count": 51,
   "metadata": {},
   "outputs": [
    {
     "data": {
      "text/plain": [
       "('data/fairseq/text', '.jsonl')"
      ]
     },
     "execution_count": 51,
     "metadata": {},
     "output_type": "execute_result"
    }
   ],
   "source": [
    "import os\n",
    "os.path.splitext(\"data/fairseq/text.jsonl\")"
   ]
  },
  {
   "cell_type": "code",
   "execution_count": null,
   "metadata": {},
   "outputs": [],
   "source": []
  }
 ],
 "metadata": {
  "kernelspec": {
   "display_name": "Python 3",
   "language": "python",
   "name": "python3"
  },
  "language_info": {
   "codemirror_mode": {
    "name": "ipython",
    "version": 3
   },
   "file_extension": ".py",
   "mimetype": "text/x-python",
   "name": "python",
   "nbconvert_exporter": "python",
   "pygments_lexer": "ipython3",
   "version": "3.7.5"
  }
 },
 "nbformat": 4,
 "nbformat_minor": 4
}
