{
 "cells": [
  {
   "cell_type": "code",
   "execution_count": 1,
   "metadata": {},
   "outputs": [],
   "source": [
    "import math\n",
    "import torch\n",
    "from fairseq.models.bart import BARTModel"
   ]
  },
  {
   "cell_type": "code",
   "execution_count": 4,
   "metadata": {},
   "outputs": [
    {
     "name": "stderr",
     "output_type": "stream",
     "text": [
      "1042301B [00:00, 2043724.62B/s]\n",
      "456318B [00:00, 1245308.90B/s]\n"
     ]
    }
   ],
   "source": [
    "bart = BARTModel.from_pretrained('/home/ml/cadencao/Downloads/BART_models/bart.large', checkpoint_file='model.pt')"
   ]
  },
  {
   "cell_type": "code",
   "execution_count": 5,
   "metadata": {},
   "outputs": [
    {
     "name": "stdout",
     "output_type": "stream",
     "text": [
      "- activate evaluation mode\n"
     ]
    }
   ],
   "source": [
    "bart.cuda()\n",
    "bart.eval()\n",
    "print('- activate evaluation mode')"
   ]
  },
  {
   "cell_type": "code",
   "execution_count": 6,
   "metadata": {},
   "outputs": [],
   "source": [
    "encode_func = bart.encode\n",
    "decode_func = bart.decode"
   ]
  },
  {
   "cell_type": "code",
   "execution_count": 7,
   "metadata": {},
   "outputs": [
    {
     "name": "stdout",
     "output_type": "stream",
     "text": [
      "<class 'fairseq.models.bart.model.BARTModel'>\n",
      "<class 'fairseq.models.transformer.TransformerEncoder'>\n",
      "<class 'fairseq.models.transformer.TransformerDecoder'>\n"
     ]
    }
   ],
   "source": [
    "bart_encoder = bart.model.encoder\n",
    "bart_decoder = bart.model.decoder\n",
    "print(type(bart.model))\n",
    "print(type(bart_encoder))\n",
    "print(type(bart_decoder))"
   ]
  },
  {
   "cell_type": "code",
   "execution_count": 8,
   "metadata": {},
   "outputs": [],
   "source": [
    "test_inputs = [\"Before she saw face his, Liz heard Allen's voice and began to cry.\",\n",
    "               \"Before she saw saw his face, Liz heard Allen's voice and began to cry.\"]\n",
    "test_optuputs = [\"Before she saw his face, Liz heard Allen's voice and began to cry.\",\n",
    "                 \"Before she saw his face, Liz heard Allen's voice and began to cry.\"]"
   ]
  },
  {
   "cell_type": "markdown",
   "metadata": {},
   "source": [
    "#### Tokenization"
   ]
  },
  {
   "cell_type": "code",
   "execution_count": 9,
   "metadata": {},
   "outputs": [],
   "source": [
    "from fairseq.data.data_utils import collate_tokens"
   ]
  },
  {
   "cell_type": "code",
   "execution_count": 10,
   "metadata": {},
   "outputs": [],
   "source": [
    "input_tokens = [encode_func(s) for s in test_inputs]\n",
    "output_tokens = [encode_func(s) for s in test_optuputs]"
   ]
  },
  {
   "cell_type": "code",
   "execution_count": 11,
   "metadata": {},
   "outputs": [],
   "source": [
    "input_batch = collate_tokens(input_tokens, pad_idx=1)\n",
    "output_batch = collate_tokens(output_tokens, pad_idx=1)"
   ]
  },
  {
   "cell_type": "code",
   "execution_count": 12,
   "metadata": {},
   "outputs": [
    {
     "name": "stdout",
     "output_type": "stream",
     "text": [
      "torch.Size([2, 19])\n",
      "torch.Size([2, 18])\n"
     ]
    }
   ],
   "source": [
    "print(input_batch.shape)\n",
    "print(output_batch.shape)"
   ]
  },
  {
   "cell_type": "code",
   "execution_count": 13,
   "metadata": {},
   "outputs": [],
   "source": [
    "src_lengths = torch.tensor([17, 20], dtype=torch.long)\n",
    "encoder_outputs = bart_encoder(input_batch.cuda(), src_lengths.cuda())"
   ]
  },
  {
   "cell_type": "code",
   "execution_count": 14,
   "metadata": {},
   "outputs": [
    {
     "data": {
      "text/plain": [
       "torch.Size([19, 2, 1024])"
      ]
     },
     "execution_count": 14,
     "metadata": {},
     "output_type": "execute_result"
    }
   ],
   "source": [
    "encoder_outputs.encoder_out.shape"
   ]
  },
  {
   "cell_type": "code",
   "execution_count": 15,
   "metadata": {},
   "outputs": [],
   "source": [
    "# prev_output_tokens: [batch, tgt_len], encoder_out: all_outputs"
   ]
  },
  {
   "cell_type": "code",
   "execution_count": 16,
   "metadata": {},
   "outputs": [],
   "source": [
    "init_input = torch.tensor([[2, 0], [2, 0]], dtype=torch.long).cuda()\n",
    "max_decode_step = 20\n",
    "pad_id = 1\n",
    "\n",
    "for step in range(max_decode_step):\n",
    "    decoder_outputs = bart_decoder(init_input, encoder_outputs)\n",
    "    logits = decoder_outputs[0]  # [batch_size, seq_len, vocab]\n",
    "    logits[:, -1, pad_id] = -math.inf  # never select pad\n",
    "    \n",
    "    _, sample = torch.topk(logits, 1, dim=-1)\n",
    "    sample = sample.squeeze()\n",
    "    if sample.ndim > 1:\n",
    "        pred_tokens = sample[:, -1:]\n",
    "\n",
    "    init_input = torch.cat([init_input, pred_tokens], dim=-1)"
   ]
  },
  {
   "cell_type": "code",
   "execution_count": 17,
   "metadata": {},
   "outputs": [
    {
     "data": {
      "text/plain": [
       "[\"Before she saw face his, Liz heard Allen's voice and began to cry.\",\n",
       " '',\n",
       " '',\n",
       " '']"
      ]
     },
     "execution_count": 17,
     "metadata": {},
     "output_type": "execute_result"
    }
   ],
   "source": [
    "decode_func(init_input[0])"
   ]
  },
  {
   "cell_type": "code",
   "execution_count": 18,
   "metadata": {},
   "outputs": [],
   "source": [
    "test = torch.tensor([    2,   347,  4405, 14725,     6, 18585,  1745,    35,  3742,    16,\n",
    "             5,   144,  2247,  3944,    11,     5,   232,     6,    53,    24,\n",
    "            18,    23,   810,   479, 14725,     6,  1745,    35,   318,     5,\n",
    "         13678,   817,     5,  1593,   568,     6,    24,    74,  3549,  1161,\n",
    "         18755,   479,   252,   224,  1769,  7993,    74,  8439,     5,   490,\n",
    "          3742,     6,   712,  6886,     8,   850,   479, 14725,     6,  1745,\n",
    "            35,   660,   490,  3742, 15885,   776,   434,     6,   592,     8,\n",
    "           776, 11525,   479,     1], dtype=torch.long)"
   ]
  },
  {
   "cell_type": "code",
   "execution_count": 19,
   "metadata": {},
   "outputs": [
    {
     "data": {
      "text/plain": [
       "\"Cory Booker, Angus King: Internet is the most powerful tool in the world, but it's at risk . Booker, King: If the FCC makes the wrong decision, it would kill net neutrality . They say fast lanes would destroy the open Internet, increase discrimination and prices . Booker, King: An open Internet promotes economic growth, social and economic\""
      ]
     },
     "execution_count": 19,
     "metadata": {},
     "output_type": "execute_result"
    }
   ],
   "source": [
    "decode_func(test[:-3])"
   ]
  },
  {
   "cell_type": "code",
   "execution_count": 20,
   "metadata": {},
   "outputs": [
    {
     "data": {
      "text/plain": [
       "tensor([    0, 17206,    79,   794,   652,    39,     4, 49703,    29, 15698,\n",
       "        14359,  1317,  3823,    18,  2236,     8,   880,     7,  8930,     4,\n",
       "            2])"
      ]
     },
     "execution_count": 20,
     "metadata": {},
     "output_type": "execute_result"
    }
   ],
   "source": [
    "encode_func(\"Before she saw face his. </s> Liz heard Allen's voice and began to cry.\")"
   ]
  },
  {
   "cell_type": "code",
   "execution_count": 21,
   "metadata": {},
   "outputs": [
    {
     "data": {
      "text/plain": [
       "\"Before she saw face his. Liz heard Allen's voice and began to cry.\""
      ]
     },
     "execution_count": 21,
     "metadata": {},
     "output_type": "execute_result"
    }
   ],
   "source": [
    "decode_func(torch.tensor([    0, 17206,    79,   794,   652,    39,     4, 14359,  1317,  3823,\n",
    "           18,  2236,     8,   880,     7,  8930,     4,     2], dtype=torch.long))"
   ]
  },
  {
   "cell_type": "code",
   "execution_count": 27,
   "metadata": {},
   "outputs": [
    {
     "data": {
      "text/plain": [
       "'Nemanja'"
      ]
     },
     "execution_count": 27,
     "metadata": {},
     "output_type": "execute_result"
    }
   ],
   "source": [
    "decode_func(torch.tensor([487,  5649,  1910], dtype=torch.long))"
   ]
  },
  {
   "cell_type": "code",
   "execution_count": 26,
   "metadata": {},
   "outputs": [
    {
     "data": {
      "text/plain": [
       "\"Nemanja Vidic and Rio Ferdinand have both had poor starts to the season . Vidic joined Inter in a three-year deal this summer from Manchester United . Ferdinand moved to QPR after his Old Trafford career . Pair have conceded 18 league goals in 10 matches since leaving United . Vidic was sent off on his Inter debut against Torino . 32-year-old has given away two penalties in four Serie A matches . Ferdinand was thoroughly outplayed by Stoke's Peter Crouch this month .\""
      ]
     },
     "execution_count": 26,
     "metadata": {},
     "output_type": "execute_result"
    }
   ],
   "source": [
    "\"Nemanja Vidic and Rio Ferdinand have both had poor starts to the season . Vidic joined Inter in a three-year deal this summer from Manchester United . Ferdinand moved to QPR after his Old Trafford career . Pair have conceded 18 league goals in 10 matches since leaving United . Vidic was sent off on his Inter debut against Torino . 32-year-old has given away two penalties in four Serie A matches . Ferdinand was thoroughly outplayed by Stoke's Peter Crouch this month .\""
   ]
  },
  {
   "cell_type": "code",
   "execution_count": null,
   "metadata": {},
   "outputs": [],
   "source": [
    "# prev_output_tokens\n",
    "tensor([[    2,   487,  5649,  1910, 23551,   636,     8,  5716, 28855,    33,\n",
    "           258,    56,  2129,  2012,     7,     5,   191,   479, 23551,   636,\n",
    "          1770,  3870,    11,    10,   130,    12,   180,   432,    42,  1035,\n",
    "            31,  2361,   315,   479, 28855,  1410,     7,  1209,  4454,    71,\n",
    "            39,  3470, 13592,   756,   479, 34587,    33, 11508,   504,  1267,\n",
    "          1175,    11,   158,  2856,   187,  1618,   315,   479, 23551,   636,\n",
    "            21,  1051,   160,    15,    39,  3870,  2453,   136,  6623,  1696,\n",
    "           479,  2107,    12,   180,    12,   279,    34,   576,   409,    80,\n",
    "          6736,    11,   237, 14158,    83,  2856,   479, 28855,    21, 12826,\n",
    "            66, 13089,    30, 15607,    18,  2155,   230, 35378,    42,   353,\n",
    "           479],\n",
    "        [    2, 12815,  5892,  2971,   161,    70,  2891,   227, 18752,     8,\n",
    "          2924, 15136,     8,  2203,   197,    28,  4638,   479,  5095, 33018,\n",
    "          1478,   197,    33,  2998,   984,  1749,     6,   151,   458, 25176,\n",
    "            11,   491,  1913,    77,    37,  2867, 18123,   852,     6,  5736,\n",
    "           384,   108, 21489,   161,   479,   427, 33018,  1478,   956,    55,\n",
    "          1675,   899,     7,  2339,    15,  4952,    71,  5195,  4840,  6197,\n",
    "           479,  5653,  7567,   197,    33,    57,   699,    59,    99,    39,\n",
    "           780,  4988,    21,   608,     6,    26,  5736,   384,   108, 21489,\n",
    "           479,   427,  5628,    34,  1433,  2641,  3770,  1220,  1235,     7,\n",
    "           120,   128, 15605,   593,   108,     7, 15136,     8, 32130,   994,\n",
    "           479]], device='cuda:0')"
   ]
  },
  {
   "cell_type": "code",
   "execution_count": null,
   "metadata": {},
   "outputs": [],
   "source": [
    "# target\n",
    "tensor([[  487,  5649,  1910, 23551,   636,     8,  5716, 28855,    33,   258,\n",
    "            56,  2129,  2012,     7,     5,   191,   479, 23551,   636,  1770,\n",
    "          3870,    11,    10,   130,    12,   180,   432,    42,  1035,    31,\n",
    "          2361,   315,   479, 28855,  1410,     7,  1209,  4454,    71,    39,\n",
    "          3470, 13592,   756,   479, 34587,    33, 11508,   504,  1267,  1175,\n",
    "            11,   158,  2856,   187,  1618,   315,   479, 23551,   636,    21,\n",
    "          1051,   160,    15,    39,  3870,  2453,   136,  6623,  1696,   479,\n",
    "          2107,    12,   180,    12,   279,    34,   576,   409,    80,  6736,\n",
    "            11,   237, 14158,    83,  2856,   479, 28855,    21, 12826,    66,\n",
    "         13089,    30, 15607,    18,  2155,   230, 35378,    42,   353,   479,\n",
    "             2],\n",
    "        [12815,  5892,  2971,   161,    70,  2891,   227, 18752,     8,  2924,\n",
    "         15136,     8,  2203,   197,    28,  4638,   479,  5095, 33018,  1478,\n",
    "           197,    33,  2998,   984,  1749,     6,   151,   458, 25176,    11,\n",
    "           491,  1913,    77,    37,  2867, 18123,   852,     6,  5736,   384,\n",
    "           108, 21489,   161,   479,   427, 33018,  1478,   956,    55,  1675,\n",
    "           899,     7,  2339,    15,  4952,    71,  5195,  4840,  6197,   479,\n",
    "          5653,  7567,   197,    33,    57,   699,    59,    99,    39,   780,\n",
    "          4988,    21,   608,     6,    26,  5736,   384,   108, 21489,   479,\n",
    "           427,  5628,    34,  1433,  2641,  3770,  1220,  1235,     7,   120,\n",
    "           128, 15605,   593,   108,     7, 15136,     8, 32130,   994,   479,\n",
    "             2]], device='cuda:0')"
   ]
  },
  {
   "cell_type": "code",
   "execution_count": null,
   "metadata": {},
   "outputs": [],
   "source": [
    "# src_lengths\n",
    "tensor([1024, 1024], device='cuda:0')"
   ]
  },
  {
   "cell_type": "code",
   "execution_count": null,
   "metadata": {},
   "outputs": [],
   "source": [
    "# src_tokens\n",
    "tensor([[  487,  5649,  1910,  ..., 35444, 20921,     2],\n",
    "        [ 2765,   479,  3005,  ...,    12,  5532,     2]], device='cuda:0')"
   ]
  }
 ],
 "metadata": {
  "kernelspec": {
   "display_name": "Python 3",
   "language": "python",
   "name": "python3"
  },
  "language_info": {
   "codemirror_mode": {
    "name": "ipython",
    "version": 3
   },
   "file_extension": ".py",
   "mimetype": "text/x-python",
   "name": "python",
   "nbconvert_exporter": "python",
   "pygments_lexer": "ipython3",
   "version": "3.7.4"
  }
 },
 "nbformat": 4,
 "nbformat_minor": 4
}
