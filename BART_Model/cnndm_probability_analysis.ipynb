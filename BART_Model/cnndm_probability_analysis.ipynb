{
 "cells": [
  {
   "cell_type": "code",
   "execution_count": 1,
   "metadata": {},
   "outputs": [],
   "source": [
    "import math\n",
    "import torch\n",
    "import torch.nn as nn\n",
    "from fairseq.models.bart import BARTModel"
   ]
  },
  {
   "cell_type": "code",
   "execution_count": 2,
   "metadata": {},
   "outputs": [],
   "source": [
    "bart = BARTModel.from_pretrained('/home/ml/cadencao/Downloads/BART_models/cnndm_rate07',\n",
    "                                 checkpoint_file='checkpoint_best.pt',\n",
    "                                 data_name_or_path='/home/ml/cadencao/Downloads/BART_models/bart.large.cnn')"
   ]
  },
  {
   "cell_type": "code",
   "execution_count": 3,
   "metadata": {},
   "outputs": [
    {
     "name": "stdout",
     "output_type": "stream",
     "text": [
      "- activate evaluation mode\n"
     ]
    }
   ],
   "source": [
    "bart.cuda()\n",
    "bart.eval()\n",
    "bart.half()\n",
    "print('- activate evaluation mode')"
   ]
  },
  {
   "cell_type": "code",
   "execution_count": 4,
   "metadata": {},
   "outputs": [],
   "source": [
    "encode_func = bart.encode\n",
    "decode_func = bart.decode"
   ]
  },
  {
   "cell_type": "code",
   "execution_count": 5,
   "metadata": {},
   "outputs": [
    {
     "name": "stdout",
     "output_type": "stream",
     "text": [
      "<class 'fairseq.models.bart.model.BARTModel'>\n",
      "<class 'fairseq.models.transformer.TransformerEncoder'>\n",
      "<class 'fairseq.models.transformer.TransformerDecoder'>\n"
     ]
    }
   ],
   "source": [
    "bart_encoder = bart.model.encoder\n",
    "bart_decoder = bart.model.decoder\n",
    "print(type(bart.model))\n",
    "print(type(bart_encoder))\n",
    "print(type(bart_decoder))"
   ]
  },
  {
   "cell_type": "markdown",
   "metadata": {},
   "source": [
    "#### Read CNN/DailyMail"
   ]
  },
  {
   "cell_type": "code",
   "execution_count": 6,
   "metadata": {},
   "outputs": [],
   "source": [
    "def read_lines(file_path):\n",
    "    files = []\n",
    "    with open(file_path, 'r', encoding='utf-8') as f:\n",
    "        for line in f:\n",
    "            files.append(line.strip())\n",
    "    return files"
   ]
  },
  {
   "cell_type": "code",
   "execution_count": 7,
   "metadata": {},
   "outputs": [
    {
     "name": "stdout",
     "output_type": "stream",
     "text": [
      "11490\n"
     ]
    }
   ],
   "source": [
    "document_path = '/home/ml/cadencao/Two-Steps-Summarization/datasets/cnn_dm/corrupted_nohup_rate07/test.source'\n",
    "summarization_path = '/home/ml/cadencao/Two-Steps-Summarization/datasets/cnn_dm/corrupted_nohup_rate07/test.target'\n",
    "# prediction_path = 'preds/cnndm_train_best_beam.hypo'\n",
    "cnndm_source = read_lines(document_path)\n",
    "cnndm_target = read_lines(summarization_path)\n",
    "# cnndm_preds = read_lines(prediction_path)\n",
    "print(len(cnndm_source))\n",
    "assert len(cnndm_source) == len(cnndm_target)"
   ]
  },
  {
   "cell_type": "markdown",
   "metadata": {},
   "source": [
    "#### Tokenization"
   ]
  },
  {
   "cell_type": "code",
   "execution_count": 8,
   "metadata": {},
   "outputs": [],
   "source": [
    "import spacy\n",
    "import rouge\n",
    "\n",
    "from fairseq.data.data_utils import collate_tokens"
   ]
  },
  {
   "cell_type": "code",
   "execution_count": 9,
   "metadata": {},
   "outputs": [
    {
     "name": "stdout",
     "output_type": "stream",
     "text": [
      "Evaluation with Avg\n"
     ]
    }
   ],
   "source": [
    "def prepare_results(p, r, f):\n",
    "    return '\\t{}:\\t{}: {:5.2f}\\t{}: {:5.2f}\\t{}: {:5.2f}'.format(metric, 'P', 100.0 * p, 'R', 100.0 * r, 'F1', 100.0 * f)\n",
    "\n",
    "aggregator = 'Avg'\n",
    "apply_avg = aggregator == 'Avg'\n",
    "apply_best = aggregator == 'Best'\n",
    "print('Evaluation with {}'.format(aggregator))\n",
    "\n",
    "evaluator = rouge.Rouge(metrics=['rouge-n', 'rouge-l', 'rouge-w'],\n",
    "                        max_n=4,\n",
    "                        limit_length=True,\n",
    "                        length_limit=100,\n",
    "                        length_limit_type='words',\n",
    "                        apply_avg=apply_avg,\n",
    "                        apply_best=apply_best,\n",
    "                        alpha=0.5, # Default F1_score\n",
    "                        weight_factor=1.2,\n",
    "                        stemming=True)"
   ]
  },
  {
   "cell_type": "code",
   "execution_count": 10,
   "metadata": {},
   "outputs": [],
   "source": [
    "nlp = spacy.load('en')"
   ]
  },
  {
   "cell_type": "code",
   "execution_count": 11,
   "metadata": {},
   "outputs": [
    {
     "name": "stdout",
     "output_type": "stream",
     "text": [
      "torch.Size([1, 413])\n",
      "tensor([413], device='cuda:0')\n"
     ]
    }
   ],
   "source": [
    "INDEX = 1234\n",
    "test_inputs = [cnndm_source[INDEX]]\n",
    "src_tokens = collate_tokens([encode_func(i) for i in test_inputs], pad_idx=1, left_pad=True)\n",
    "src_tokens = src_tokens.cuda()\n",
    "print(src_tokens.shape)\n",
    "\n",
    "src_lengths = torch.sum(src_tokens != 1, dim=1)\n",
    "print(src_lengths)"
   ]
  },
  {
   "cell_type": "code",
   "execution_count": 12,
   "metadata": {},
   "outputs": [],
   "source": [
    "# encoding"
   ]
  },
  {
   "cell_type": "code",
   "execution_count": 13,
   "metadata": {},
   "outputs": [
    {
     "name": "stdout",
     "output_type": "stream",
     "text": [
      "torch.Size([413, 1, 1024])\n"
     ]
    }
   ],
   "source": [
    "encoder_out = bart_encoder(src_tokens, src_lengths=src_lengths)\n",
    "print(encoder_out.encoder_out.shape)  # [seq_len, batch_size, hidden_size]"
   ]
  },
  {
   "cell_type": "code",
   "execution_count": 14,
   "metadata": {},
   "outputs": [],
   "source": [
    "# decoding"
   ]
  },
  {
   "cell_type": "code",
   "execution_count": 15,
   "metadata": {},
   "outputs": [
    {
     "name": "stdout",
     "output_type": "stream",
     "text": [
      "- 00: Three (0.17)\n",
      "- 01:  adults (0.92)\n",
      "- 02:  taken (0.92)\n",
      "- 03:  to (0.90)\n",
      "- 04:  hospital (0.92)\n",
      "- 05:  after (0.91)\n",
      "- 06:  head (0.92)\n",
      "- 07:  on (0.91)\n",
      "- 08:  collision (0.93)\n",
      "- 09:  at (0.91)\n",
      "- 10:  French (0.92)\n",
      "- 11: s (0.91)\n",
      "- 12:  Forest (0.92)\n",
      "- 13:  . (0.90)\n",
      "- 14:  The (0.91)\n",
      "- 15:  crash (0.92)\n",
      "- 16:  was (0.91)\n",
      "- 17:  between (0.91)\n",
      "- 18:  a (0.91)\n",
      "- 19:  Toyota (0.93)\n",
      "- 20:  Kl (0.94)\n",
      "- 21: ug (0.94)\n",
      "- 22: ger (0.95)\n",
      "- 23:  and (0.90)\n",
      "- 24:  E (0.93)\n",
      "- 25: - (0.90)\n",
      "- 26: Type (0.92)\n",
      "- 27:  Jaguar (0.93)\n",
      "- 28:  . (0.90)\n",
      "- 29:  Nobody (0.91)\n",
      "- 30:  was (0.90)\n",
      "- 31:  injured (0.94)\n",
      "- 32:  in (0.91)\n",
      "- 33:  the (0.90)\n",
      "- 34:  crash (0.91)\n",
      "- 35:  and (0.90)\n",
      "- 36:  it (0.91)\n",
      "- 37:  is (0.91)\n",
      "- 38:  being (0.91)\n",
      "- 39:  investigated (0.94)\n",
      "- 40:  . (0.90)\n",
      "- 41:  It (0.91)\n",
      "- 42:  comes (0.92)\n",
      "- 43:  after (0.91)\n",
      "- 44:  police (0.92)\n",
      "- 45:  warned (0.91)\n",
      "- 46:  motorists (0.93)\n",
      "- 47:  to (0.90)\n",
      "- 48:  obey (0.91)\n",
      "- 49:  road (0.93)\n",
      "- 50:  rules (0.92)\n",
      "- 51:  over (0.92)\n",
      "- 52:  Easter (0.94)\n",
      "- 53:  . (0.90)\n",
      "- 54:  (0.91)\n",
      "0; 13; 33.\n"
     ]
    }
   ],
   "source": [
    "init_input = torch.tensor([[2, 0]] * src_tokens.shape[0], dtype=torch.long).cuda()\n",
    "min_decode_step, max_decode_step, pad_id, eos_id = 55, 140, 1, 2\n",
    "softmax = nn.Softmax(dim=1)\n",
    "token_probs = []\n",
    "\n",
    "for step in range(max_decode_step):\n",
    "    decoder_outputs = bart_decoder(init_input, encoder_out, features_only=False)\n",
    "    logits = decoder_outputs[0][:, -1, :]  # [batch_size, vocab]\n",
    "    if step + 1 < min_decode_step:\n",
    "        logits[:, eos_id] = -math.inf\n",
    "\n",
    "    logits[:, pad_id], logits[:, 0] = -math.inf, -math.inf  # never select pad, start token\n",
    "    probs = softmax(logits)\n",
    "    assert logits.shape == probs.shape\n",
    "    attn = decoder_outputs[1]['attn'][0]  # [batch_size, prev_token_len, src_token_len]\n",
    "    assert logits.dim() == 2 and attn.dim() == 3\n",
    "\n",
    "    # preds = torch.argmax(logits, dim=1)\n",
    "    value, indices = torch.topk(probs, 5, dim=1)\n",
    "    selected_token = indices[:, 0]\n",
    "\n",
    "    if step == 44:\n",
    "        selected_token = indices[:, 0]\n",
    "    elif step == 70:\n",
    "        selected_token = indices[:, 0]\n",
    "    elif step == 20:\n",
    "        selected_token = indices[:, 0]\n",
    "\n",
    "    init_input = torch.cat([init_input, selected_token.unsqueeze(1)], dim=-1)\n",
    "    print(\"- {:02d}: {} ({:.2f})\".format(step, decode_func(selected_token), probs.squeeze()[selected_token.item()].item()), end='\\n')\n",
    "    token_probs.append(probs.squeeze()[selected_token.item()].item())\n",
    "    \n",
    "    if selected_token.item() == eos_id:\n",
    "        break\n",
    "\n",
    "token_probs_sorted = [i for i in token_probs]\n",
    "token_probs_sorted.sort()\n",
    "print('{}; {}; {}.'.format(token_probs.index(token_probs_sorted[0]),\n",
    "                           token_probs.index(token_probs_sorted[1]),\n",
    "                           token_probs.index(token_probs_sorted[2])))"
   ]
  },
  {
   "cell_type": "code",
   "execution_count": 16,
   "metadata": {},
   "outputs": [
    {
     "data": {
      "text/plain": [
       "tensor([[    2,     0, 15622,  3362,   551,     7,  1098,    71,   471,    15,\n",
       "          7329,    23,  1515,    29,  5761,   479,    20,  2058,    21,   227,\n",
       "            10,  7261,  7507,  3252,  2403,     8,   381,    12, 40118, 22264,\n",
       "           479, 13308,    21,  1710,    11,     5,  2058,     8,    24,    16,\n",
       "           145,  6807,   479,    85,   606,    71,   249,  2449, 12100,     7,\n",
       "         28616,   921,  1492,    81,  9274,   479,     2]], device='cuda:0')"
      ]
     },
     "execution_count": 16,
     "metadata": {},
     "output_type": "execute_result"
    }
   ],
   "source": [
    "init_input"
   ]
  },
  {
   "cell_type": "code",
   "execution_count": 17,
   "metadata": {},
   "outputs": [
    {
     "name": "stdout",
     "output_type": "stream",
     "text": [
      "Three adults taken to hospital after head on collision at Frenchs Forest . The crash was between a Toyota Klugger and E-Type Jaguar . Nobody was injured in the crash and it is being investigated . It comes after police warned motorists to obey road rules over Easter .\n"
     ]
    }
   ],
   "source": [
    "hypothesis = decode_func(init_input[0])\n",
    "print(hypothesis)"
   ]
  },
  {
   "cell_type": "code",
   "execution_count": 18,
   "metadata": {},
   "outputs": [
    {
     "name": "stdout",
     "output_type": "stream",
     "text": [
      "Three adults taken to hospital after head on collision at Frenchs Forest . The crash was between a Toyota Klugger and E-Type Jaguar . Nobody was injured in the crash and it is being investigated . It comes after police warned motorists to obey road rules over Easter .\n"
     ]
    }
   ],
   "source": [
    "print(cnndm_target[INDEX])"
   ]
  },
  {
   "cell_type": "code",
   "execution_count": 19,
   "metadata": {},
   "outputs": [
    {
     "ename": "NameError",
     "evalue": "name 'cnndm_preds' is not defined",
     "output_type": "error",
     "traceback": [
      "\u001b[0;31m---------------------------------------------------------------------------\u001b[0m",
      "\u001b[0;31mNameError\u001b[0m                                 Traceback (most recent call last)",
      "\u001b[0;32m<ipython-input-19-bd1338f7f551>\u001b[0m in \u001b[0;36m<module>\u001b[0;34m\u001b[0m\n\u001b[1;32m      1\u001b[0m \u001b[0;31m# hypothesis = 'A French prosecutor says he is not aware of any video footage from on board the plane. German daily Bild and Paris Match claim to have found a cell phone video of the crash. A French Gendarmerie spokesman calls the reports \"completely wrong\" and \"unwarranted\" German airline Lufthansa says co-pilot Andreas Lubitz battled depression years before he took the controls.'\u001b[0m\u001b[0;34m\u001b[0m\u001b[0;34m\u001b[0m\u001b[0;34m\u001b[0m\u001b[0m\n\u001b[1;32m      2\u001b[0m \u001b[0mall_hypothesis\u001b[0m \u001b[0;34m=\u001b[0m \u001b[0;34m[\u001b[0m\u001b[0mhypothesis\u001b[0m\u001b[0;34m]\u001b[0m\u001b[0;34m\u001b[0m\u001b[0;34m\u001b[0m\u001b[0m\n\u001b[0;32m----> 3\u001b[0;31m \u001b[0mall_predictions\u001b[0m \u001b[0;34m=\u001b[0m \u001b[0;34m[\u001b[0m\u001b[0mcnndm_preds\u001b[0m\u001b[0;34m[\u001b[0m\u001b[0mINDEX\u001b[0m\u001b[0;34m]\u001b[0m\u001b[0;34m]\u001b[0m\u001b[0;34m\u001b[0m\u001b[0;34m\u001b[0m\u001b[0m\n\u001b[0m\u001b[1;32m      4\u001b[0m \u001b[0mall_references\u001b[0m \u001b[0;34m=\u001b[0m \u001b[0;34m[\u001b[0m\u001b[0mcnndm_target\u001b[0m\u001b[0;34m[\u001b[0m\u001b[0mINDEX\u001b[0m\u001b[0;34m]\u001b[0m\u001b[0;34m]\u001b[0m\u001b[0;34m\u001b[0m\u001b[0;34m\u001b[0m\u001b[0m\n\u001b[1;32m      5\u001b[0m \u001b[0;34m\u001b[0m\u001b[0m\n",
      "\u001b[0;31mNameError\u001b[0m: name 'cnndm_preds' is not defined"
     ]
    }
   ],
   "source": [
    "# hypothesis = 'A French prosecutor says he is not aware of any video footage from on board the plane. German daily Bild and Paris Match claim to have found a cell phone video of the crash. A French Gendarmerie spokesman calls the reports \"completely wrong\" and \"unwarranted\" German airline Lufthansa says co-pilot Andreas Lubitz battled depression years before he took the controls.'\n",
    "all_hypothesis = [hypothesis]\n",
    "all_predictions = [cnndm_preds[INDEX]]\n",
    "all_references = [cnndm_target[INDEX]]\n",
    "\n",
    "# print('- original prediction:')\n",
    "# scores = evaluator.get_scores(all_predictions, all_references)\n",
    "# for metric, results in sorted(scores.items(), key=lambda x: x[0]):\n",
    "#     print(prepare_results(results['p'], results['r'], results['f']))\n",
    "\n",
    "print('- new prediction:')\n",
    "scores = evaluator.get_scores(all_hypothesis, all_references)\n",
    "for metric, results in sorted(scores.items(), key=lambda x: x[0]):\n",
    "    print(prepare_results(results['p'], results['r'], results['f']))"
   ]
  },
  {
   "cell_type": "code",
   "execution_count": null,
   "metadata": {},
   "outputs": [],
   "source": []
  }
 ],
 "metadata": {
  "kernelspec": {
   "display_name": "Python 3",
   "language": "python",
   "name": "python3"
  },
  "language_info": {
   "codemirror_mode": {
    "name": "ipython",
    "version": 3
   },
   "file_extension": ".py",
   "mimetype": "text/x-python",
   "name": "python",
   "nbconvert_exporter": "python",
   "pygments_lexer": "ipython3",
   "version": "3.7.4"
  }
 },
 "nbformat": 4,
 "nbformat_minor": 4
}
