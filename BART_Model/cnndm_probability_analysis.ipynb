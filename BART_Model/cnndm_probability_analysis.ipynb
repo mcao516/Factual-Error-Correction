{
 "cells": [
  {
   "cell_type": "code",
   "execution_count": 1,
   "metadata": {},
   "outputs": [],
   "source": [
    "import math\n",
    "import torch\n",
    "import torch.nn as nn\n",
    "from fairseq.models.bart import BARTModel"
   ]
  },
  {
   "cell_type": "code",
   "execution_count": 2,
   "metadata": {},
   "outputs": [],
   "source": [
    "bart = BARTModel.from_pretrained('/home/ml/cadencao/Downloads/BART_models/bart.large.cnn',\n",
    "                                 checkpoint_file='model.pt',\n",
    "                                 data_name_or_path='/home/ml/cadencao/Downloads/BART_models/bart.large.cnn')"
   ]
  },
  {
   "cell_type": "code",
   "execution_count": 3,
   "metadata": {},
   "outputs": [
    {
     "name": "stdout",
     "output_type": "stream",
     "text": [
      "- activate evaluation mode\n"
     ]
    }
   ],
   "source": [
    "bart.cuda()\n",
    "bart.eval()\n",
    "bart.half()\n",
    "print('- activate evaluation mode')"
   ]
  },
  {
   "cell_type": "code",
   "execution_count": 4,
   "metadata": {},
   "outputs": [],
   "source": [
    "encode_func = bart.encode\n",
    "decode_func = bart.decode"
   ]
  },
  {
   "cell_type": "code",
   "execution_count": 5,
   "metadata": {},
   "outputs": [
    {
     "name": "stdout",
     "output_type": "stream",
     "text": [
      "<class 'fairseq.models.bart.model.BARTModel'>\n",
      "<class 'fairseq.models.transformer.TransformerEncoder'>\n",
      "<class 'fairseq.models.transformer.TransformerDecoder'>\n"
     ]
    }
   ],
   "source": [
    "bart_encoder = bart.model.encoder\n",
    "bart_decoder = bart.model.decoder\n",
    "print(type(bart.model))\n",
    "print(type(bart_encoder))\n",
    "print(type(bart_decoder))"
   ]
  },
  {
   "cell_type": "markdown",
   "metadata": {},
   "source": [
    "#### Read CNN/DailyMail"
   ]
  },
  {
   "cell_type": "code",
   "execution_count": 6,
   "metadata": {},
   "outputs": [],
   "source": [
    "def read_lines(file_path):\n",
    "    files = []\n",
    "    with open(file_path, 'r', encoding='utf-8') as f:\n",
    "        for line in f:\n",
    "            files.append(line.strip())\n",
    "    return files"
   ]
  },
  {
   "cell_type": "code",
   "execution_count": 7,
   "metadata": {},
   "outputs": [
    {
     "name": "stdout",
     "output_type": "stream",
     "text": [
      "287227\n"
     ]
    }
   ],
   "source": [
    "document_path = '/home/ml/cadencao/cnn-dailymail/cnn_dm/train.source'\n",
    "summarization_path = '/home/ml/cadencao/cnn-dailymail/cnn_dm/train.target'\n",
    "prediction_path = 'preds/cnndm_train_best_beam.hypo'\n",
    "cnndm_source = read_lines(document_path)\n",
    "cnndm_target = read_lines(summarization_path)\n",
    "cnndm_preds = read_lines(prediction_path)\n",
    "print(len(cnndm_source))\n",
    "assert len(cnndm_source) == len(cnndm_target) == len(cnndm_preds)"
   ]
  },
  {
   "cell_type": "markdown",
   "metadata": {},
   "source": [
    "#### Tokenization"
   ]
  },
  {
   "cell_type": "code",
   "execution_count": 8,
   "metadata": {},
   "outputs": [],
   "source": [
    "import spacy\n",
    "import rouge\n",
    "\n",
    "from fairseq.data.data_utils import collate_tokens"
   ]
  },
  {
   "cell_type": "code",
   "execution_count": 9,
   "metadata": {},
   "outputs": [
    {
     "name": "stdout",
     "output_type": "stream",
     "text": [
      "Evaluation with Avg\n"
     ]
    }
   ],
   "source": [
    "def prepare_results(p, r, f):\n",
    "    return '\\t{}:\\t{}: {:5.2f}\\t{}: {:5.2f}\\t{}: {:5.2f}'.format(metric, 'P', 100.0 * p, 'R', 100.0 * r, 'F1', 100.0 * f)\n",
    "\n",
    "aggregator = 'Avg'\n",
    "apply_avg = aggregator == 'Avg'\n",
    "apply_best = aggregator == 'Best'\n",
    "print('Evaluation with {}'.format(aggregator))\n",
    "\n",
    "evaluator = rouge.Rouge(metrics=['rouge-n', 'rouge-l', 'rouge-w'],\n",
    "                        max_n=4,\n",
    "                        limit_length=True,\n",
    "                        length_limit=100,\n",
    "                        length_limit_type='words',\n",
    "                        apply_avg=apply_avg,\n",
    "                        apply_best=apply_best,\n",
    "                        alpha=0.5, # Default F1_score\n",
    "                        weight_factor=1.2,\n",
    "                        stemming=True)"
   ]
  },
  {
   "cell_type": "code",
   "execution_count": 10,
   "metadata": {},
   "outputs": [],
   "source": [
    "nlp = spacy.load('en')"
   ]
  },
  {
   "cell_type": "code",
   "execution_count": 11,
   "metadata": {},
   "outputs": [
    {
     "name": "stdout",
     "output_type": "stream",
     "text": [
      "torch.Size([1, 450])\n",
      "tensor([450], device='cuda:0')\n"
     ]
    }
   ],
   "source": [
    "INDEX = 2210\n",
    "test_inputs = [cnndm_source[INDEX]]\n",
    "src_tokens = collate_tokens([encode_func(i) for i in test_inputs], pad_idx=1, left_pad=True)\n",
    "src_tokens = src_tokens.cuda()\n",
    "print(src_tokens.shape)\n",
    "\n",
    "src_lengths = torch.sum(src_tokens != 1, dim=1)\n",
    "print(src_lengths)"
   ]
  },
  {
   "cell_type": "code",
   "execution_count": 12,
   "metadata": {},
   "outputs": [],
   "source": [
    "# encoding"
   ]
  },
  {
   "cell_type": "code",
   "execution_count": 13,
   "metadata": {},
   "outputs": [
    {
     "name": "stdout",
     "output_type": "stream",
     "text": [
      "torch.Size([450, 1, 1024])\n"
     ]
    }
   ],
   "source": [
    "encoder_out = bart_encoder(src_tokens, src_lengths=src_lengths)\n",
    "print(encoder_out.encoder_out.shape)  # [seq_len, batch_size, hidden_size]"
   ]
  },
  {
   "cell_type": "code",
   "execution_count": 14,
   "metadata": {},
   "outputs": [],
   "source": [
    "# decoding"
   ]
  },
  {
   "cell_type": "code",
   "execution_count": 15,
   "metadata": {},
   "outputs": [
    {
     "name": "stdout",
     "output_type": "stream",
     "text": [
      "- 00: U (0.23)\n",
      "- 01: . (0.90)\n",
      "- 02: N (0.81)\n",
      "- 03: . (0.86)\n",
      "- 04:  Security (0.61)\n",
      "- 05:  Council (0.92)\n",
      "- 06:  resolution (0.20)\n",
      "- 07:  expresses (0.28)\n",
      "- 08:  intent (0.73)\n",
      "- 09:  to (0.90)\n",
      "- 10:  send (0.77)\n",
      "- 11:  U (0.42)\n",
      "- 12: . (0.91)\n",
      "- 13: N (0.90)\n",
      "- 14: . (0.90)\n",
      "- 15:  peace (0.67)\n",
      "- 16: keeping (0.79)\n",
      "- 17:  forces (0.75)\n",
      "- 18:  back (0.72)\n",
      "- 19: . (0.73)\n",
      "- 20:  Resolution (0.43)\n",
      "- 21:  sponsored (0.20)\n",
      "- 22:  by (0.90)\n",
      "- 23:  U (0.52)\n",
      "- 24: . (0.90)\n",
      "- 25: S (0.92)\n",
      "- 26: ., (0.63)\n",
      "- 27:  in (0.38)\n",
      "- 28:  one (0.81)\n",
      "- 29:  of (0.90)\n",
      "- 30:  final (0.64)\n",
      "- 31:  Bush (0.94)\n",
      "- 32:  Administration (0.64)\n",
      "- 33:  initiatives (0.92)\n",
      "- 34:  at (0.45)\n",
      "- 35:  U (0.74)\n",
      "- 36: . (0.90)\n",
      "- 37: N (0.85)\n",
      "- 38: . (0.90)\n",
      "- 39:  Follow (0.21)\n",
      "- 40: s (0.90)\n",
      "- 41:  exit (0.88)\n",
      "- 42:  of (0.90)\n",
      "- 43:  U (0.47)\n",
      "- 44: . (0.90)\n",
      "- 45: N (0.91)\n",
      "- 46: .- (0.90)\n",
      "- 47: backed (0.94)\n",
      "- 48: , (0.79)\n",
      "- 49:  Ethiopian (0.93)\n",
      "- 50:  peace (0.95)\n",
      "- 51: keeping (0.91)\n",
      "- 52:  force (0.95)\n",
      "- 53:  that (0.59)\n",
      "- 54:  completed (0.86)\n",
      "- 55:  two (0.49)\n",
      "- 56: - (0.86)\n",
      "- 57: year (0.89)\n",
      "- 58:  deployment (0.95)\n",
      "- 59: . (0.82)\n",
      "- 60:  (0.17)\n",
      "60; 6; 21.\n"
     ]
    }
   ],
   "source": [
    "init_input = torch.tensor([[2, 0]] * src_tokens.shape[0], dtype=torch.long).cuda()\n",
    "min_decode_step, max_decode_step, pad_id, eos_id = 55, 140, 1, 2\n",
    "softmax = nn.Softmax(dim=1)\n",
    "token_probs = []\n",
    "\n",
    "for step in range(max_decode_step):\n",
    "    decoder_outputs = bart_decoder(init_input, encoder_out, features_only=False)\n",
    "    logits = decoder_outputs[0][:, -1, :]  # [batch_size, vocab]\n",
    "    if step + 1 < min_decode_step:\n",
    "        logits[:, eos_id] = -math.inf\n",
    "\n",
    "    logits[:, pad_id], logits[:, 0] = -math.inf, -math.inf  # never select pad, start token\n",
    "    probs = softmax(logits)\n",
    "    assert logits.shape == probs.shape\n",
    "    attn = decoder_outputs[1]['attn'][0]  # [batch_size, prev_token_len, src_token_len]\n",
    "    assert logits.dim() == 2 and attn.dim() == 3\n",
    "\n",
    "    # preds = torch.argmax(logits, dim=1)\n",
    "    value, indices = torch.topk(probs, 5, dim=1)\n",
    "    selected_token = indices[:, 0]\n",
    "\n",
    "    if step == 44:\n",
    "        selected_token = indices[:, 0]\n",
    "    elif step == 70:\n",
    "        selected_token = indices[:, 0]\n",
    "    elif step == 20:\n",
    "        selected_token = indices[:, 0]\n",
    "\n",
    "    init_input = torch.cat([init_input, selected_token.unsqueeze(1)], dim=-1)\n",
    "    print(\"- {:02d}: {} ({:.2f})\".format(step, decode_func(selected_token), probs.squeeze()[selected_token.item()].item()), end='\\n')\n",
    "    token_probs.append(probs.squeeze()[selected_token.item()].item())\n",
    "    \n",
    "    if selected_token.item() == eos_id:\n",
    "        break\n",
    "\n",
    "token_probs_sorted = [i for i in token_probs]\n",
    "token_probs_sorted.sort()\n",
    "print('{}; {}; {}.'.format(token_probs.index(token_probs_sorted[0]),\n",
    "                           token_probs.index(token_probs_sorted[1]),\n",
    "                           token_probs.index(token_probs_sorted[2])))"
   ]
  },
  {
   "cell_type": "code",
   "execution_count": 16,
   "metadata": {},
   "outputs": [
    {
     "data": {
      "text/plain": [
       "tensor([[    2,     0,   791,     4,   487,     4,  2010,  1080,  3547, 15994,\n",
       "          5927,     7,  2142,   121,     4,   487,     4,  1987, 12609,  1572,\n",
       "           124,     4, 22565,  7966,    30,   121,     4,   104,   482,    11,\n",
       "            65,     9,   507,  3516,  4237,  5287,    23,   121,     4,   487,\n",
       "             4,  2184,    29,  4205,     9,   121,     4,   487,  3358,  6996,\n",
       "             6, 24128,  1987, 12609,  1370,    14,  2121,    80,    12,   180,\n",
       "          9737,     4,     2]], device='cuda:0')"
      ]
     },
     "execution_count": 16,
     "metadata": {},
     "output_type": "execute_result"
    }
   ],
   "source": [
    "init_input"
   ]
  },
  {
   "cell_type": "code",
   "execution_count": 17,
   "metadata": {},
   "outputs": [
    {
     "name": "stdout",
     "output_type": "stream",
     "text": [
      "U.N. Security Council resolution expresses intent to send U.N. peacekeeping forces back. Resolution sponsored by U.S., in one of final Bush Administration initiatives at U.N. Follows exit of U.N.-backed, Ethiopian peacekeeping force that completed two-year deployment.\n"
     ]
    }
   ],
   "source": [
    "hypothesis = decode_func(init_input[0])\n",
    "print(hypothesis)"
   ]
  },
  {
   "cell_type": "code",
   "execution_count": 18,
   "metadata": {},
   "outputs": [
    {
     "data": {
      "text/plain": [
       "'U.N. Security Council resolution expresses intent to send peacekeeping forces back to Somalia. Resolution was sponsored by the U.S., in one of final Bush Administration initiatives. Resolution follows exit of U.N.-backed, Ethiopian peacekeeping force that completed two-year deployment in Somalia.'"
      ]
     },
     "execution_count": 18,
     "metadata": {},
     "output_type": "execute_result"
    }
   ],
   "source": [
    "cnndm_preds[INDEX]"
   ]
  },
  {
   "cell_type": "code",
   "execution_count": 19,
   "metadata": {},
   "outputs": [
    {
     "data": {
      "text/plain": [
       "'Resolution expresses intent to send U.N. peacekeeping forces to Somalia . The resolution in war-torn country was sponsored by the United States . Ethiopian peacekeeping force completed two-year deployment in Somalia . Regional leaders fear vacuum will be filled by Islamic extremist groups .'"
      ]
     },
     "execution_count": 19,
     "metadata": {},
     "output_type": "execute_result"
    }
   ],
   "source": [
    "cnndm_target[INDEX]"
   ]
  },
  {
   "cell_type": "code",
   "execution_count": 20,
   "metadata": {},
   "outputs": [
    {
     "name": "stdout",
     "output_type": "stream",
     "text": [
      "- original prediction:\n",
      "\trouge-1:\tP: 57.78\tR: 60.47\tF1: 59.09\n",
      "\trouge-2:\tP: 38.64\tR: 40.48\tF1: 39.53\n",
      "\trouge-3:\tP: 23.26\tR: 24.39\tF1: 23.81\n",
      "\trouge-4:\tP: 14.29\tR: 15.00\tF1: 14.63\n",
      "\trouge-l:\tP: 57.16\tR: 59.37\tF1: 58.24\n",
      "\trouge-w:\tP: 40.35\tR: 19.90\tF1: 26.65\n",
      "- new prediction:\n",
      "\trouge-1:\tP: 46.51\tR: 46.51\tF1: 46.51\n",
      "\trouge-2:\tP: 33.33\tR: 33.33\tF1: 33.33\n",
      "\trouge-3:\tP: 24.39\tR: 24.39\tF1: 24.39\n",
      "\trouge-4:\tP: 17.50\tR: 17.50\tF1: 17.50\n",
      "\trouge-l:\tP: 50.63\tR: 50.63\tF1: 50.63\n",
      "\trouge-w:\tP: 36.92\tR: 17.40\tF1: 23.65\n"
     ]
    }
   ],
   "source": [
    "# hypothesis = 'A French prosecutor says he is not aware of any video footage from on board the plane. German daily Bild and Paris Match claim to have found a cell phone video of the crash. A French Gendarmerie spokesman calls the reports \"completely wrong\" and \"unwarranted\" German airline Lufthansa says co-pilot Andreas Lubitz battled depression years before he took the controls.'\n",
    "all_hypothesis = [hypothesis]\n",
    "all_predictions = [cnndm_preds[INDEX]]\n",
    "all_references = [cnndm_target[INDEX]]\n",
    "\n",
    "print('- original prediction:')\n",
    "scores = evaluator.get_scores(all_predictions, all_references)\n",
    "for metric, results in sorted(scores.items(), key=lambda x: x[0]):\n",
    "    print(prepare_results(results['p'], results['r'], results['f']))\n",
    "\n",
    "print('- new prediction:')\n",
    "scores = evaluator.get_scores(all_hypothesis, all_references)\n",
    "for metric, results in sorted(scores.items(), key=lambda x: x[0]):\n",
    "    print(prepare_results(results['p'], results['r'], results['f']))"
   ]
  },
  {
   "cell_type": "code",
   "execution_count": null,
   "metadata": {},
   "outputs": [],
   "source": []
  }
 ],
 "metadata": {
  "kernelspec": {
   "display_name": "Python 3",
   "language": "python",
   "name": "python3"
  },
  "language_info": {
   "codemirror_mode": {
    "name": "ipython",
    "version": 3
   },
   "file_extension": ".py",
   "mimetype": "text/x-python",
   "name": "python",
   "nbconvert_exporter": "python",
   "pygments_lexer": "ipython3",
   "version": "3.7.4"
  }
 },
 "nbformat": 4,
 "nbformat_minor": 4
}
