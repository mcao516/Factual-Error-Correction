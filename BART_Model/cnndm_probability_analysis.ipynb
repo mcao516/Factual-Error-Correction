{
 "cells": [
  {
   "cell_type": "code",
   "execution_count": 1,
   "metadata": {},
   "outputs": [],
   "source": [
    "import math\n",
    "import torch\n",
    "import torch.nn as nn\n",
    "from fairseq.models.bart import BARTModel"
   ]
  },
  {
   "cell_type": "code",
   "execution_count": 2,
   "metadata": {},
   "outputs": [],
   "source": [
    "bart = BARTModel.from_pretrained('/home/ml/cadencao/Downloads/BART_models/bart.large.cnn',\n",
    "                                 checkpoint_file='model.pt',\n",
    "                                 data_name_or_path='/home/ml/cadencao/Downloads/BART_models/bart.large.cnn')"
   ]
  },
  {
   "cell_type": "code",
   "execution_count": 3,
   "metadata": {},
   "outputs": [
    {
     "name": "stdout",
     "output_type": "stream",
     "text": [
      "- activate evaluation mode\n"
     ]
    }
   ],
   "source": [
    "bart.cuda()\n",
    "bart.eval()\n",
    "bart.half()\n",
    "print('- activate evaluation mode')"
   ]
  },
  {
   "cell_type": "code",
   "execution_count": 4,
   "metadata": {},
   "outputs": [],
   "source": [
    "encode_func = bart.encode\n",
    "decode_func = bart.decode"
   ]
  },
  {
   "cell_type": "code",
   "execution_count": 5,
   "metadata": {},
   "outputs": [
    {
     "name": "stdout",
     "output_type": "stream",
     "text": [
      "<class 'fairseq.models.bart.model.BARTModel'>\n",
      "<class 'fairseq.models.transformer.TransformerEncoder'>\n",
      "<class 'fairseq.models.transformer.TransformerDecoder'>\n"
     ]
    }
   ],
   "source": [
    "bart_encoder = bart.model.encoder\n",
    "bart_decoder = bart.model.decoder\n",
    "print(type(bart.model))\n",
    "print(type(bart_encoder))\n",
    "print(type(bart_decoder))"
   ]
  },
  {
   "cell_type": "markdown",
   "metadata": {},
   "source": [
    "#### Read XSum"
   ]
  },
  {
   "cell_type": "code",
   "execution_count": 6,
   "metadata": {},
   "outputs": [],
   "source": [
    "def read_lines(file_path):\n",
    "    files = []\n",
    "    with open(file_path, 'r', encoding='utf-8') as f:\n",
    "        for line in f:\n",
    "            files.append(line.strip())\n",
    "    return files"
   ]
  },
  {
   "cell_type": "code",
   "execution_count": 8,
   "metadata": {},
   "outputs": [
    {
     "name": "stdout",
     "output_type": "stream",
     "text": [
      "11490\n"
     ]
    }
   ],
   "source": [
    "document_path = '/home/ml/cadencao/Two-Steps-Summarization/datasets/cnn_dm/fairseq_files/test.source'\n",
    "summarization_path = '/home/ml/cadencao/Two-Steps-Summarization/datasets/cnn_dm/fairseq_files/test.target'\n",
    "cnndm_source = read_lines(document_path)\n",
    "cnndm_target = read_lines(summarization_path)\n",
    "print(len(cnndm_source))\n",
    "assert len(cnndm_source) == len(cnndm_target)"
   ]
  },
  {
   "cell_type": "markdown",
   "metadata": {},
   "source": [
    "#### Tokenization"
   ]
  },
  {
   "cell_type": "code",
   "execution_count": 9,
   "metadata": {},
   "outputs": [],
   "source": [
    "import spacy\n",
    "import rouge\n",
    "\n",
    "from fairseq.data.data_utils import collate_tokens"
   ]
  },
  {
   "cell_type": "code",
   "execution_count": 10,
   "metadata": {},
   "outputs": [
    {
     "name": "stdout",
     "output_type": "stream",
     "text": [
      "Evaluation with Avg\n"
     ]
    }
   ],
   "source": [
    "def prepare_results(p, r, f):\n",
    "    return '\\t{}:\\t{}: {:5.2f}\\t{}: {:5.2f}\\t{}: {:5.2f}'.format(metric, 'P', 100.0 * p, 'R', 100.0 * r, 'F1', 100.0 * f)\n",
    "\n",
    "aggregator = 'Avg'\n",
    "apply_avg = aggregator == 'Avg'\n",
    "apply_best = aggregator == 'Best'\n",
    "print('Evaluation with {}'.format(aggregator))\n",
    "\n",
    "evaluator = rouge.Rouge(metrics=['rouge-n', 'rouge-l', 'rouge-w'],\n",
    "                        max_n=4,\n",
    "                        limit_length=True,\n",
    "                        length_limit=100,\n",
    "                        length_limit_type='words',\n",
    "                        apply_avg=apply_avg,\n",
    "                        apply_best=apply_best,\n",
    "                        alpha=0.5, # Default F1_score\n",
    "                        weight_factor=1.2,\n",
    "                        stemming=True)"
   ]
  },
  {
   "cell_type": "code",
   "execution_count": 11,
   "metadata": {},
   "outputs": [],
   "source": [
    "nlp = spacy.load('en')"
   ]
  },
  {
   "cell_type": "code",
   "execution_count": 56,
   "metadata": {},
   "outputs": [
    {
     "name": "stdout",
     "output_type": "stream",
     "text": [
      "torch.Size([1, 836])\n",
      "tensor([836], device='cuda:0')\n"
     ]
    }
   ],
   "source": [
    "INDEX = 3205\n",
    "test_inputs = [cnndm_source[INDEX]]\n",
    "src_tokens = collate_tokens([encode_func(i) for i in test_inputs], pad_idx=1, left_pad=True)\n",
    "src_tokens = src_tokens.cuda()\n",
    "print(src_tokens.shape)\n",
    "\n",
    "src_lengths = torch.sum(src_tokens != 1, dim=1)\n",
    "print(src_lengths)"
   ]
  },
  {
   "cell_type": "code",
   "execution_count": 57,
   "metadata": {},
   "outputs": [],
   "source": [
    "# encoding"
   ]
  },
  {
   "cell_type": "code",
   "execution_count": 58,
   "metadata": {},
   "outputs": [
    {
     "name": "stdout",
     "output_type": "stream",
     "text": [
      "torch.Size([836, 1, 1024])\n"
     ]
    }
   ],
   "source": [
    "encoder_out = bart_encoder(src_tokens, src_lengths=src_lengths)\n",
    "print(encoder_out.encoder_out.shape)  # [seq_len, batch_size, hidden_size]"
   ]
  },
  {
   "cell_type": "code",
   "execution_count": 59,
   "metadata": {},
   "outputs": [],
   "source": [
    "# decoding"
   ]
  },
  {
   "cell_type": "code",
   "execution_count": 114,
   "metadata": {},
   "outputs": [
    {
     "name": "stdout",
     "output_type": "stream",
     "text": [
      "- 00: St (0.30)\n",
      "- 01: uart (0.92)\n",
      "- 02:  McC (0.91)\n",
      "- 03: all (0.88)\n",
      "- 04:  is (0.28)\n",
      "- 05:  relaxed (0.39)\n",
      "- 06:  about (0.71)\n",
      "- 07:  Rangers (0.32)\n",
      "- 08: ' (0.38)\n",
      "- 09:  chances (0.42)\n",
      "- 10:  of (0.71)\n",
      "- 11:  promotion (0.45)\n",
      "- 12: . (0.83)\n",
      "- 13:  The (0.29)\n",
      "- 14:  G (0.48)\n",
      "- 15: ers (0.95)\n",
      "- 16:  currently (0.29)\n",
      "- 17:  lead (0.74)\n",
      "- 18:  the (0.81)\n",
      "- 19:  way (0.28)\n",
      "- 20:  in (0.88)\n",
      "- 21:  the (0.86)\n",
      "- 22:  Scottish (0.39)\n",
      "- 23:  Championship (0.94)\n",
      "- 24: . (0.82)\n",
      "- 25:  McC (0.23)\n",
      "- 26: all (0.90)\n",
      "- 27: 's (0.34)\n",
      "- 28:  side (0.67)\n",
      "- 29:  face (0.20)\n",
      "- 30:  Dumb (0.70)\n",
      "- 31: arton (0.94)\n",
      "- 32:  on (0.62)\n",
      "- 33:  Saturday (0.89)\n",
      "- 34:  in (0.44)\n",
      "- 35:  the (0.33)\n",
      "- 36:  Scottish (0.21)\n",
      "- 37:  Cup (0.41)\n",
      "- 38: . (0.63)\n",
      "- 39:  Rangers (0.16)\n",
      "- 40: ' (0.14)\n",
      "- 41:  final (0.68)\n",
      "- 42: - (0.69)\n",
      "- 43: day (0.94)\n",
      "- 44:  tie (0.69)\n",
      "- 45:  with (0.80)\n",
      "- 46:  Hearts (0.95)\n",
      "- 47:  was (0.50)\n",
      "- 48:  pushed (0.57)\n",
      "- 49:  back (0.90)\n",
      "- 50:  to (0.64)\n",
      "- 51:  Sunday (0.27)\n",
      "- 52: , (0.54)\n",
      "- 53:  May (0.93)\n",
      "- 54:  3 (0.92)\n",
      "- 55: . (0.85)\n",
      "- 56:  (0.71)\n",
      "torch.Size([58, 836])\n"
     ]
    }
   ],
   "source": [
    "init_input = torch.tensor([[2, 0]] * src_tokens.shape[0], dtype=torch.long).cuda()\n",
    "min_decode_step, max_decode_step, pad_id, eos_id = 55, 140, 1, 2\n",
    "softmax = nn.Softmax(dim=1)\n",
    "\n",
    "for step in range(max_decode_step):\n",
    "    decoder_outputs = bart_decoder(init_input, encoder_out, features_only=False)\n",
    "    logits = decoder_outputs[0][:, -1, :]  # [batch_size, vocab]\n",
    "    if step + 1 < min_decode_step:\n",
    "        logits[:, eos_id] = -math.inf\n",
    "    probs = softmax(logits)\n",
    "    \n",
    "    assert logits.shape == probs.shape\n",
    "    attn = decoder_outputs[1]['attn'][0]  # [batch_size, prev_token_len, src_token_len]\n",
    "    assert logits.dim() == 2 and attn.dim() == 3\n",
    "    logits[:, pad_id] = -math.inf  # never select pad\n",
    "    probs[:, pad_id] = 0.0  # never select pad\n",
    "\n",
    "    # preds = torch.argmax(logits, dim=1)\n",
    "    value, indices = torch.topk(probs, 5, dim=1)\n",
    "    selected_token = indices[:, 0]\n",
    "\n",
    "    if step == 36:\n",
    "        selected_token = indices[:, 0]\n",
    "    elif step == 39:\n",
    "        selected_token = indices[:, 0]\n",
    "    elif step == 40:\n",
    "        selected_token = indices[:, 0]\n",
    "\n",
    "    init_input = torch.cat([init_input, selected_token.unsqueeze(1)], dim=-1)\n",
    "    print(\"- {:02d}: {} ({:.2f})\".format(step, decode_func(selected_token), probs.squeeze()[selected_token.item()]), end='\\n')\n",
    "\n",
    "    if selected_token.item() == eos_id:\n",
    "        break\n",
    "\n",
    "print(attn[0].shape)"
   ]
  },
  {
   "cell_type": "code",
   "execution_count": 115,
   "metadata": {},
   "outputs": [
    {
     "data": {
      "text/plain": [
       "tensor([[    2,     0,  5320, 41962,  3409,  1250,    16, 11956,    59,  5706,\n",
       "           108,  3255,     9,  6174,     4,    20,   272,   268,   855,   483,\n",
       "             5,   169,    11,     5,  5411,  3261,     4,  3409,  1250,    18,\n",
       "           526,   652, 37098, 24735,    15,   378,    11,     5,  5411,   968,\n",
       "             4,  5706,   108,   507,    12,  1208,  3318,    19, 18784,    21,\n",
       "          3148,   124,     7,   395,     6,   392,   155,     4,     2]],\n",
       "       device='cuda:0')"
      ]
     },
     "execution_count": 115,
     "metadata": {},
     "output_type": "execute_result"
    }
   ],
   "source": [
    "init_input"
   ]
  },
  {
   "cell_type": "code",
   "execution_count": 116,
   "metadata": {},
   "outputs": [
    {
     "name": "stdout",
     "output_type": "stream",
     "text": [
      "Stuart McCall is relaxed about Rangers' chances of promotion. The Gers currently lead the way in the Scottish Championship. McCall's side face Dumbarton on Saturday in the Scottish Cup. Rangers' final-day tie with Hearts was pushed back to Sunday, May 3.\n"
     ]
    }
   ],
   "source": [
    "hypothesis = decode_func(init_input[0])\n",
    "print(hypothesis)"
   ]
  },
  {
   "cell_type": "code",
   "execution_count": 117,
   "metadata": {},
   "outputs": [
    {
     "data": {
      "text/plain": [
       "'Rangers are currently second in the Championship with three games to go . Finishing third would mean playing two extra play-off matches vs fourth . But manager Stuart McCall\\xa0is\\xa0relaxed about the prospect of finishing third .'"
      ]
     },
     "execution_count": 117,
     "metadata": {},
     "output_type": "execute_result"
    }
   ],
   "source": [
    "cnndm_target[INDEX]"
   ]
  },
  {
   "cell_type": "code",
   "execution_count": 113,
   "metadata": {},
   "outputs": [
    {
     "name": "stdout",
     "output_type": "stream",
     "text": [
      "\trouge-1:\tP: 33.33\tR: 66.67\tF1: 44.44\n",
      "\trouge-2:\tP: 18.31\tR: 37.14\tF1: 24.53\n",
      "\trouge-3:\tP: 11.43\tR: 23.53\tF1: 15.38\n",
      "\trouge-4:\tP:  8.70\tR: 18.18\tF1: 11.76\n",
      "\trouge-l:\tP: 24.02\tR: 42.79\tF1: 30.77\n",
      "\trouge-w:\tP: 14.63\tR: 14.29\tF1: 14.45\n"
     ]
    }
   ],
   "source": [
    "# hypothesis = \"Stuart McCall is relaxed about the prospect of Rangers finishing third in the Scottish Championship. The Gers currently lead the way in the race for second spot in the Championship, with a one-point advantage over Hibernian and a six-point cushion separating them from Queen of the South. Finishing immediately behind newly-crowned champions Hearts would spare the Ibrox men the bother of two extra hazardous games in the play-offs.\"\n",
    "all_hypothesis = [hypothesis]\n",
    "all_references = [cnndm_target[INDEX]]\n",
    "\n",
    "scores = evaluator.get_scores(all_hypothesis, all_references)\n",
    "\n",
    "for metric, results in sorted(scores.items(), key=lambda x: x[0]):\n",
    "    print(prepare_results(results['p'], results['r'], results['f']))"
   ]
  },
  {
   "cell_type": "code",
   "execution_count": 84,
   "metadata": {},
   "outputs": [],
   "source": [
    "# \trouge-1:\tP: 32.56\tR: 38.89\tF1: 35.44\n",
    "# \trouge-2:\tP: 11.90\tR: 14.29\tF1: 12.99\n",
    "# \trouge-3:\tP:  7.32\tR:  8.82\tF1:  8.00\n",
    "# \trouge-4:\tP:  5.00\tR:  6.06\tF1:  5.48\n",
    "# \trouge-l:\tP: 22.03\tR: 25.55\tF1: 23.66\n",
    "# \trouge-w:\tP: 13.95\tR:  8.14\tF1: 10.28"
   ]
  },
  {
   "cell_type": "code",
   "execution_count": null,
   "metadata": {},
   "outputs": [],
   "source": []
  }
 ],
 "metadata": {
  "kernelspec": {
   "display_name": "Python 3",
   "language": "python",
   "name": "python3"
  },
  "language_info": {
   "codemirror_mode": {
    "name": "ipython",
    "version": 3
   },
   "file_extension": ".py",
   "mimetype": "text/x-python",
   "name": "python",
   "nbconvert_exporter": "python",
   "pygments_lexer": "ipython3",
   "version": "3.7.4"
  }
 },
 "nbformat": 4,
 "nbformat_minor": 4
}
