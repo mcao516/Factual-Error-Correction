{
 "cells": [
  {
   "cell_type": "code",
   "execution_count": 1,
   "metadata": {},
   "outputs": [],
   "source": [
    "import spacy"
   ]
  },
  {
   "cell_type": "code",
   "execution_count": 2,
   "metadata": {},
   "outputs": [],
   "source": [
    "spacy_trans = spacy.load('en')"
   ]
  },
  {
   "cell_type": "code",
   "execution_count": 3,
   "metadata": {},
   "outputs": [],
   "source": [
    "def read_lines(file_path):\n",
    "    files = []\n",
    "    with open(file_path, 'r', encoding='utf-8') as f:\n",
    "        for line in f:\n",
    "            files.append(line.strip())\n",
    "    return files"
   ]
  },
  {
   "cell_type": "code",
   "execution_count": 4,
   "metadata": {},
   "outputs": [],
   "source": [
    "test_source_path = '/home/ml/cadencao/XSum/fairseq_files/test.source'\n",
    "test_preds_path = 'preds/xsum_preds.hypo'"
   ]
  },
  {
   "cell_type": "code",
   "execution_count": 5,
   "metadata": {},
   "outputs": [
    {
     "name": "stdout",
     "output_type": "stream",
     "text": [
      "11301\n"
     ]
    }
   ],
   "source": [
    "xsum_source = read_lines(test_source_path)\n",
    "xsum_preds = read_lines(test_preds_path)\n",
    "assert len(xsum_source) == len(xsum_preds)\n",
    "print(len(xsum_preds))"
   ]
  },
  {
   "cell_type": "code",
   "execution_count": 6,
   "metadata": {},
   "outputs": [],
   "source": [
    "test_source = spacy_trans(xsum_source[2427])\n",
    "test_target = spacy_trans(xsum_preds[2427])"
   ]
  },
  {
   "cell_type": "code",
   "execution_count": 7,
   "metadata": {},
   "outputs": [
    {
     "name": "stdout",
     "output_type": "stream",
     "text": [
      "(the Republic of Ireland, Bon Secours, Tuam, County Galway, three year olds, up to 800, Amnesty International, Northern Ireland, Archbishop Martin, Tuam, Church, 2014, first, recent days, Church, Ireland, Church, Irish, Katherine Zappone, 474, between 1940 and 1965, Irish, 2011, Ms Zappone, Irish, decades, Tuam, the end of March, Archbishop Martin, the Catholic Church)\n"
     ]
    }
   ],
   "source": [
    "print(test_source.ents)"
   ]
  },
  {
   "cell_type": "code",
   "execution_count": 8,
   "metadata": {},
   "outputs": [
    {
     "name": "stdout",
     "output_type": "stream",
     "text": [
      "(Archbishop, Dublin, Justin Martin, the Catholic Church, Ireland)\n"
     ]
    }
   ],
   "source": [
    "print(test_target.ents)"
   ]
  },
  {
   "cell_type": "code",
   "execution_count": 9,
   "metadata": {},
   "outputs": [
    {
     "data": {
      "text/plain": [
       "These are external links and will open in a new window. The call came after \"significant human remains\" were found at the site of a former home in the Republic of Ireland. The home was run by the Bon Secours order of nuns in Tuam, County Galway. The bodies ranged from premature babies to three year olds. The discovery was made as part of an investigation into claims by a local historian that up to 800 babies and young children died at the home and were buried in unmarked graves. Amnesty International has said that archaeological surveys should be carried out at all former mother-and-baby homes in Northern Ireland. Archbishop Martin said many in the church and society were \"ashamed\" of what had emerged at the home in Tuam. He added that \"families are owed an apology\" and that the Church had repeated an apology it made in 2014 when the claims \"first came to light\". \"It makes me feel awful. I feel incredibly sad in recent days. We as a Church do not want to repeat the awful mistakes of the past.\" He added: \"It's an appalling time for us and everyone in society. \"We're opening up a whole chapter in the society in Ireland and the rest of the world where there was a terrible stigma against unwed mothers. \"There was a terrible time, we in society and in the Church isolated and stigmatised them.\" Meanwhile, the Irish children's minister Katherine Zappone has said that 474 \"unclaimed infant remains\" from mother-and-baby homes were transferred to medical schools between 1940 and 1965. Irish national broadcaster RTÃ‰ made claims about the transfer of remains in a 2011 documentary. Ms Zappone told the DÃ¡il (Irish parliament) that the transfer of remains was \"part of a tapestry of oppression, abuse and systematic human rights violations that took place all over this country for decades\". She also said an interim report into the home in Tuam would be published by the end of March, a move Archbishop Martin said the Catholic Church supported."
      ]
     },
     "execution_count": 9,
     "metadata": {},
     "output_type": "execute_result"
    }
   ],
   "source": [
    "test_source"
   ]
  },
  {
   "cell_type": "code",
   "execution_count": 10,
   "metadata": {},
   "outputs": [
    {
     "data": {
      "text/plain": [
       "The Archbishop of Dublin, the Most Reverend Justin Martin, has said the Catholic Church in Ireland should apologise to the families of unwed mothers who died at mother-and-baby homes."
      ]
     },
     "execution_count": 10,
     "metadata": {},
     "output_type": "execute_result"
    }
   ],
   "source": [
    "test_target"
   ]
  },
  {
   "cell_type": "code",
   "execution_count": 11,
   "metadata": {},
   "outputs": [
    {
     "data": {
      "text/plain": [
       "'Martin'"
      ]
     },
     "execution_count": 11,
     "metadata": {},
     "output_type": "execute_result"
    }
   ],
   "source": [
    "\"Justin Martin\".split()[-1]"
   ]
  },
  {
   "cell_type": "code",
   "execution_count": 12,
   "metadata": {},
   "outputs": [],
   "source": [
    "test_target_text = test_target.text\n",
    "\n",
    "test_target_ents = [ent.text for ent in test_target.ents]\n",
    "test_source_ents = [ent.text for ent in test_source.ents]\n",
    "\n",
    "for ent in test_target_ents:\n",
    "    if ent not in test_source_ents:\n",
    "        if ent.split()[-1] in test_source.text:\n",
    "            test_target_text = test_target_text.replace(\"{}\".format(ent), ent.split()[-1])\n",
    "        else:\n",
    "            test_target_text = test_target_text.replace(\"{}\".format(ent), '')\n",
    "test_target_text = test_target_text.strip()\n",
    "test_target_text = test_target_text.replace(\"  \", \" \")"
   ]
  },
  {
   "cell_type": "code",
   "execution_count": 13,
   "metadata": {},
   "outputs": [
    {
     "data": {
      "text/plain": [
       "'The Archbishop of , the Most Reverend Martin, has said the Catholic Church in Ireland should apologise to the families of unwed mothers who died at mother-and-baby homes.'"
      ]
     },
     "execution_count": 13,
     "metadata": {},
     "output_type": "execute_result"
    }
   ],
   "source": [
    "test_target_text"
   ]
  },
  {
   "cell_type": "markdown",
   "metadata": {},
   "source": [
    "#### Baseline"
   ]
  },
  {
   "cell_type": "code",
   "execution_count": 14,
   "metadata": {},
   "outputs": [],
   "source": [
    "from tqdm import tqdm"
   ]
  },
  {
   "cell_type": "code",
   "execution_count": 15,
   "metadata": {},
   "outputs": [
    {
     "name": "stderr",
     "output_type": "stream",
     "text": [
      "11301it [09:24, 20.02it/s]\n"
     ]
    }
   ],
   "source": [
    "processed_text = []\n",
    "for s, p in tqdm(zip(xsum_source, xsum_preds)):\n",
    "    s, p = spacy_trans(s), spacy_trans(p)\n",
    "    s_ents, p_ents = [ent.text for ent in s.ents], [ent.text for ent in p.ents]\n",
    "\n",
    "    p_text = p.text\n",
    "    for e in p_ents:\n",
    "        if e not in s_ents:\n",
    "            if e.split()[-1] in s.text:\n",
    "                p_text = p_text.replace(\"{}\".format(e), e.split()[-1])\n",
    "            else:\n",
    "                p_text = p_text.replace(\"{}\".format(e), '')\n",
    "\n",
    "    p_text = p_text.strip().replace(\"  \", \" \")\n",
    "    processed_text.append(p_text)"
   ]
  },
  {
   "cell_type": "code",
   "execution_count": 16,
   "metadata": {},
   "outputs": [
    {
     "data": {
      "text/plain": [
       "11301"
      ]
     },
     "execution_count": 16,
     "metadata": {},
     "output_type": "execute_result"
    }
   ],
   "source": [
    "len(processed_text)"
   ]
  },
  {
   "cell_type": "code",
   "execution_count": 17,
   "metadata": {},
   "outputs": [
    {
     "data": {
      "text/plain": [
       "'player Tickle is recovering in hospital after being assaulted in a nightclub in Manchester.'"
      ]
     },
     "execution_count": 17,
     "metadata": {},
     "output_type": "execute_result"
    }
   ],
   "source": [
    "processed_text[12]"
   ]
  },
  {
   "cell_type": "code",
   "execution_count": 18,
   "metadata": {},
   "outputs": [
    {
     "data": {
      "text/plain": [
       "'Super League player Paul Tickle is recovering in hospital after being assaulted in a nightclub in Greater Manchester.'"
      ]
     },
     "execution_count": 18,
     "metadata": {},
     "output_type": "execute_result"
    }
   ],
   "source": [
    "xsum_preds[12]"
   ]
  },
  {
   "cell_type": "code",
   "execution_count": 19,
   "metadata": {},
   "outputs": [
    {
     "data": {
      "text/plain": [
       "'The Widnes Viking star was taken to hospital with head injuries following an attack at about 04:05 GMT on Sunday. A 32-year-old man has been arrested on suspicion of assault and bailed until 29 November. Greater Manchester Police said they were investigating the incident at Queen\\'s nightclub on Wigan Road in Ashton-in-Makerfield. Widnes Viking said they had been \"advised that [Tickle] will make a complete recovery\", adding they would make no further comments on the matter. The 32-year-old former England international joined the club on a three-year contract in 2014 from Hull FC. His career also involved stints with Wigan Warriors and Halifax.'"
      ]
     },
     "execution_count": 19,
     "metadata": {},
     "output_type": "execute_result"
    }
   ],
   "source": [
    "xsum_source[12]"
   ]
  },
  {
   "cell_type": "code",
   "execution_count": 20,
   "metadata": {},
   "outputs": [],
   "source": [
    "with open('preds/processed_preds.txt', 'w') as file:\n",
    "    for l in processed_text:\n",
    "        file.write(l + '\\n')"
   ]
  }
 ],
 "metadata": {
  "kernelspec": {
   "display_name": "Python 3",
   "language": "python",
   "name": "python3"
  },
  "language_info": {
   "codemirror_mode": {
    "name": "ipython",
    "version": 3
   },
   "file_extension": ".py",
   "mimetype": "text/x-python",
   "name": "python",
   "nbconvert_exporter": "python",
   "pygments_lexer": "ipython3",
   "version": "3.7.4"
  }
 },
 "nbformat": 4,
 "nbformat_minor": 4
}
