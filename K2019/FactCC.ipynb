{
 "cells": [
  {
   "cell_type": "code",
   "execution_count": 2,
   "metadata": {},
   "outputs": [],
   "source": [
    "import json\n",
    "from tqdm import tqdm\n",
    "\n",
    "from process_cnndm import get_art_abs"
   ]
  },
  {
   "cell_type": "code",
   "execution_count": 3,
   "metadata": {},
   "outputs": [],
   "source": [
    "val_or_test = 'test'\n",
    "test_path = '{}/data-dev.jsonl'.format(val_or_test)\n",
    "output_path = '{}/test.source'.format(val_or_test)"
   ]
  },
  {
   "cell_type": "code",
   "execution_count": 4,
   "metadata": {},
   "outputs": [],
   "source": [
    "factcc_test = []\n",
    "with open(test_path, 'r', encoding='utf-8') as f:\n",
    "    for line in f:\n",
    "        line = line.strip()\n",
    "        factcc_test.append(json.loads(line))"
   ]
  },
  {
   "cell_type": "code",
   "execution_count": 5,
   "metadata": {},
   "outputs": [
    {
     "name": "stdout",
     "output_type": "stream",
     "text": [
      "503\n",
      "{'claim': 'it has already been viewed more than 1 million times.', 'label': 'CORRECT', 'filepath': 'cnndm/cnn/stories/dbce61d253b9e770529817b484aeb8b0cca76a73.story', 'id': 'cnn-test-dbce61d253b9e770529817b484aeb8b0cca76a73'}\n"
     ]
    }
   ],
   "source": [
    "print(len(factcc_test))\n",
    "print(factcc_test[111])"
   ]
  },
  {
   "cell_type": "code",
   "execution_count": 6,
   "metadata": {},
   "outputs": [],
   "source": [
    "def get_type_and_id(origin_path):\n",
    "    first_slash = origin_path.find(\"/\")\n",
    "    second_slash = origin_path.find(\"/\", first_slash + 1)\n",
    "    last_slash = origin_path.rfind(\"/\")\n",
    "    data_type = origin_path[first_slash + 1: second_slash]\n",
    "    assert data_type in ['cnn', 'dm']\n",
    "    data_id = origin_path[last_slash + 1:]\n",
    "    \n",
    "    return data_type, data_id"
   ]
  },
  {
   "cell_type": "code",
   "execution_count": 13,
   "metadata": {},
   "outputs": [],
   "source": [
    "def compose_path(data_type, data_id):\n",
    "    return \"/home/ml/cadencao/cnn-dailymail/cnn/stories/{}\".format(data_id)"
   ]
  },
  {
   "cell_type": "code",
   "execution_count": 14,
   "metadata": {},
   "outputs": [
    {
     "name": "stdout",
     "output_type": "stream",
     "text": [
      "- claim:\n",
      "georgia southern university was in mourning after five nursing students died.\n",
      "- story:\n",
      "(CNN)Georgia Southern University was in mourning Thursday after five nursing students were killed the day before in a multivehicle wreck near Savannah. Caitlyn Baggett, Morgan Bass, Emily Clark, Abbie Deloach and Catherine (McKay) Pittman -- all juniors -- were killed in the  Wednesday morning crash as they were traveling to a hospital in Savannah, according to the school website. Fellow nursing students Brittney McDaniel and Megan Richards were injured as was another person, who was not identified by the Georgia State Patrol. The young women were on their way to finish their first set of clinical rotations. \"Today should have been a day of celebration for this bright group of students,\" at St. Joseph's/Candler hospital said in a Facebook posting. \"It was their last day of clinical rotations ... in their first year of nursing school.\" Clinicals include hands-on instruction at a health care facility. A post commander for the Georgia State Patrol said a tractor-trailer smashed into an eastbound line of cars that had slowed for a prior accident on Interstate 16. \"He came along from behind them and he just did not stop for those cars,\" Sgt. Chris Nease said. There were four passenger vehicles and three tractor-trailers involved in the 5:45 a.m. accident. The women who were killed were in two cars, a Toyota Corolla and a Ford Escape. One of their vehicles caught on fire, Nease said, but it will take an investigation to determine whether the women died on impact. CNN Savannah affiliate WTOC reported one witness tried to help. \"Right about the time I got here, the car was just about catching on fire,\" Cayne Monroe told the station. \"The car just burned up really quickly. And I run up there, but there was nothing anyone could do. I've never witnessed something like that in my life. It was pretty tragic.\" The state patrol said the truck driver is from Louisiana. The 55-year-old man had not been charged as of Thursday evening, Nease told CNN. \"Every one of our students contributes in no small measure to the Eagle Nation,\" university President Brooks A. Keel said in a statement. \"The loss of any student, especially in a tragic way, is particularly painful. Losing five students is almost incomprehensible.\" Georgia Southern flew flags at half-staff and counseling was offered to students. A campuswide vigil was held Thursday night. On the university's Twitter page, a tear was added to the profile logo of the eagle mascot. The school has a student body of about 20,000 and is in Statesboro, about 60 miles from Savannah. \"You could tell that they really loved what they did,\" Sherry Danello, vice president of patient care services and chief nursing officer at St. Joseph's/Candler, said on the hospital's Facebook posting. \"They didn't just go through the task, they really connected to the patients.\" Luke Bryan, a country music star and school alumnus, tweeted his condolences: \"Praying for everyone at Georgia Southern and the families who lost loved ones.\" CNN's Matthew Stucker contributed to this report.\n"
     ]
    }
   ],
   "source": [
    "with open(output_path, 'w', encoding='utf-8') as fout:\n",
    "    for i, ft in enumerate(factcc_test):\n",
    "        new_file_path = compose_path(*get_type_and_id(ft['filepath']))\n",
    "        story, _ = get_art_abs(new_file_path)\n",
    "        fout.write(ft['claim'] + ' </s> ' + story + '\\n')\n",
    "        \n",
    "        # print out samples\n",
    "        if i == 0:\n",
    "            print('- claim:')\n",
    "            print(ft['claim'])\n",
    "            print('- story:')\n",
    "            print(story)"
   ]
  },
  {
   "cell_type": "code",
   "execution_count": null,
   "metadata": {},
   "outputs": [],
   "source": []
  }
 ],
 "metadata": {
  "kernelspec": {
   "display_name": "Python 3",
   "language": "python",
   "name": "python3"
  },
  "language_info": {
   "codemirror_mode": {
    "name": "ipython",
    "version": 3
   },
   "file_extension": ".py",
   "mimetype": "text/x-python",
   "name": "python",
   "nbconvert_exporter": "python",
   "pygments_lexer": "ipython3",
   "version": "3.7.7"
  }
 },
 "nbformat": 4,
 "nbformat_minor": 4
}
