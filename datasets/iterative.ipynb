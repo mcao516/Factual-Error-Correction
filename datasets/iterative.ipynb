{
 "cells": [
  {
   "cell_type": "code",
   "execution_count": null,
   "metadata": {},
   "outputs": [],
   "source": [
    "file_type = 'val'"
   ]
  },
  {
   "cell_type": "code",
   "execution_count": null,
   "metadata": {},
   "outputs": [],
   "source": [
    "pred_path = '../BART_Model/{}_preds.hypo'.format(file_type)\n",
    "doc_path = 'cnn_dm/fairseq_files/{}.source'.format(file_type)\n",
    "summary_path = 'cnn_dm/fairseq_files/{}.target'.format(file_type)"
   ]
  },
  {
   "cell_type": "code",
   "execution_count": null,
   "metadata": {},
   "outputs": [],
   "source": [
    "def read_lines(file_path):\n",
    "    data = []\n",
    "    with open(file_path, 'r', encoding='utf-8') as handle:\n",
    "        for line in handle:\n",
    "            line = line.strip()\n",
    "            data.append(line)\n",
    "    return data"
   ]
  },
  {
   "cell_type": "code",
   "execution_count": 4,
   "metadata": {},
   "outputs": [],
   "source": [
    "preds = read_lines(pred_path)\n",
    "docs = read_lines(doc_path)\n",
    "sums = read_lines(summary_path)\n",
    "assert len(preds) == len(docs) == len(sums)"
   ]
  },
  {
   "cell_type": "code",
   "execution_count": 5,
   "metadata": {},
   "outputs": [
    {
     "data": {
      "text/plain": [
       "\"Richard Johnson has ridden nearly 2,800 winners during his jockey career . Johnson has finished runner-up to champion jocket AP McCoy 15 times . Pressure from Johnson has spurred McCoy on to ride more winners . Johnson\\xa0admits\\xa0becoming champion will be helped by McCoy's\\xa0retirement .\""
      ]
     },
     "execution_count": 5,
     "metadata": {},
     "output_type": "execute_result"
    }
   ],
   "source": [
    "sums[1235]"
   ]
  },
  {
   "cell_type": "code",
   "execution_count": 6,
   "metadata": {},
   "outputs": [
    {
     "data": {
      "text/plain": [
       "'Richard Johnson has finished runner-up 15 of the 19 times AP McCoy has been crowned champion jockey. The 37-year-old has ridden nearly 2,800 winners during his career. McCoy has often credited the pressure Johnson puts on him for motivating him to ride on wet winter evenings as well as at the Cheltenham Festival.'"
      ]
     },
     "execution_count": 6,
     "metadata": {},
     "output_type": "execute_result"
    }
   ],
   "source": [
    "preds[1235]"
   ]
  },
  {
   "cell_type": "code",
   "execution_count": 7,
   "metadata": {},
   "outputs": [],
   "source": [
    "with open('{}-iter.source'.format(file_type), 'w', encoding='utf-8') as handle:\n",
    "    for doc, pred in zip(docs, preds):\n",
    "        handle.write(pred + ' </s> ' + doc + '\\n')"
   ]
  }
 ],
 "metadata": {
  "kernelspec": {
   "display_name": "Python 3",
   "language": "python",
   "name": "python3"
  },
  "language_info": {
   "codemirror_mode": {
    "name": "ipython",
    "version": 3
   },
   "file_extension": ".py",
   "mimetype": "text/x-python",
   "name": "python",
   "nbconvert_exporter": "python",
   "pygments_lexer": "ipython3",
   "version": "3.7.4"
  }
 },
 "nbformat": 4,
 "nbformat_minor": 4
}
