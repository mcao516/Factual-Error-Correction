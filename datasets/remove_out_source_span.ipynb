{
 "cells": [
  {
   "cell_type": "code",
   "execution_count": 1,
   "metadata": {},
   "outputs": [],
   "source": [
    "import spacy\n",
    "from tqdm import tqdm\n",
    "\n",
    "nlp = spacy.load('en')"
   ]
  },
  {
   "cell_type": "code",
   "execution_count": 2,
   "metadata": {},
   "outputs": [],
   "source": [
    "file_type = 'test'\n",
    "source_path = '/home/ml/cadencao/XSum/fairseq_files/{}.source'.format(file_type)\n",
    "target_path = '/home/ml/cadencao/XSum/fairseq_files/{}.target'.format(file_type)"
   ]
  },
  {
   "cell_type": "code",
   "execution_count": 3,
   "metadata": {},
   "outputs": [],
   "source": [
    "def read_lines(file_path):\n",
    "    files = []\n",
    "    with open(file_path, 'r', encoding='utf-8') as f:\n",
    "        for line in f:\n",
    "            files.append(line.strip())\n",
    "    return files"
   ]
  },
  {
   "cell_type": "markdown",
   "metadata": {},
   "source": [
    "#### Read File"
   ]
  },
  {
   "cell_type": "code",
   "execution_count": 4,
   "metadata": {},
   "outputs": [],
   "source": [
    "source = read_lines(source_path)\n",
    "target = read_lines(target_path)"
   ]
  },
  {
   "cell_type": "code",
   "execution_count": 5,
   "metadata": {},
   "outputs": [
    {
     "name": "stdout",
     "output_type": "stream",
     "text": [
      "11301\n"
     ]
    }
   ],
   "source": [
    "print(len(source))\n",
    "assert len(source) == len(target)"
   ]
  },
  {
   "cell_type": "markdown",
   "metadata": {},
   "source": [
    "#### Processing"
   ]
  },
  {
   "cell_type": "code",
   "execution_count": 6,
   "metadata": {},
   "outputs": [],
   "source": [
    "tp = nlp(target[0])"
   ]
  },
  {
   "cell_type": "code",
   "execution_count": 7,
   "metadata": {},
   "outputs": [
    {
     "name": "stderr",
     "output_type": "stream",
     "text": [
      "11301it [01:27, 128.78it/s]\n"
     ]
    }
   ],
   "source": [
    "target_processed = []\n",
    "\n",
    "for s, t in tqdm(zip(source, target)):\n",
    "    t_processed = t\n",
    "    t_ents = [e.text for e in nlp(t).ents]\n",
    "    for e in t_ents:\n",
    "        e_parts = e.split()\n",
    "        for ep in e_parts:\n",
    "            if ep not in s:\n",
    "                if ep + ' ' in t_processed:\n",
    "                    t_processed = t_processed.replace(ep + ' ', '')\n",
    "                elif ' ' + ep in t_processed:\n",
    "                    t_processed = t_processed.replace(' ' + ep, '')\n",
    "                elif ep in t_processed:\n",
    "                    t_processed = t_processed.replace(ep, '')\n",
    "    # add processed\n",
    "    target_processed.append(t_processed)"
   ]
  },
  {
   "cell_type": "code",
   "execution_count": 8,
   "metadata": {},
   "outputs": [],
   "source": [
    "assert len(target) == len(target_processed)"
   ]
  },
  {
   "cell_type": "code",
   "execution_count": 9,
   "metadata": {},
   "outputs": [],
   "source": [
    "output_file = '{}_removed.target'.format(file_type)\n",
    "\n",
    "with open(output_file, 'w') as f:\n",
    "    for t in target_processed:\n",
    "        f.write(t + '\\n')"
   ]
  },
  {
   "cell_type": "code",
   "execution_count": null,
   "metadata": {},
   "outputs": [],
   "source": []
  }
 ],
 "metadata": {
  "kernelspec": {
   "display_name": "Python 3",
   "language": "python",
   "name": "python3"
  },
  "language_info": {
   "codemirror_mode": {
    "name": "ipython",
    "version": 3
   },
   "file_extension": ".py",
   "mimetype": "text/x-python",
   "name": "python",
   "nbconvert_exporter": "python",
   "pygments_lexer": "ipython3",
   "version": "3.7.7"
  }
 },
 "nbformat": 4,
 "nbformat_minor": 4
}
