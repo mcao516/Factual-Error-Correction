{
 "cells": [
  {
   "cell_type": "code",
   "execution_count": 1,
   "metadata": {},
   "outputs": [],
   "source": [
    "import json\n",
    "from tqdm import tqdm\n",
    "\n",
    "from process_cnndm import get_art_abs"
   ]
  },
  {
   "cell_type": "code",
   "execution_count": 2,
   "metadata": {},
   "outputs": [],
   "source": [
    "val_or_test = 'val'\n",
    "test_path = 'FactCC/{}/data-dev.jsonl'.format(val_or_test)\n",
    "output_path = 'FactCC/{}/test.source'.format(val_or_test)"
   ]
  },
  {
   "cell_type": "code",
   "execution_count": 3,
   "metadata": {},
   "outputs": [],
   "source": [
    "factcc_test = []\n",
    "with open(test_path, 'r', encoding='utf-8') as f:\n",
    "    for line in f:\n",
    "        line = line.strip()\n",
    "        factcc_test.append(json.loads(line))"
   ]
  },
  {
   "cell_type": "code",
   "execution_count": 4,
   "metadata": {},
   "outputs": [
    {
     "name": "stdout",
     "output_type": "stream",
     "text": [
      "931\n",
      "{'claim': 'seventeen of the 30 counts were capital charges, meaning he is eligible for the death penalty.', 'label': 'CORRECT', 'filepath': 'cnndm/cnn/stories/947b339a524aac1f43384a8c68e5a3a624ed309f.story', 'id': 'cnn-test-947b339a524aac1f43384a8c68e5a3a624ed309f'}\n"
     ]
    }
   ],
   "source": [
    "print(len(factcc_test))\n",
    "print(factcc_test[111])"
   ]
  },
  {
   "cell_type": "code",
   "execution_count": 5,
   "metadata": {},
   "outputs": [],
   "source": [
    "def get_type_and_id(origin_path):\n",
    "    first_slash = origin_path.find(\"/\")\n",
    "    second_slash = origin_path.find(\"/\", first_slash + 1)\n",
    "    last_slash = origin_path.rfind(\"/\")\n",
    "    data_type = origin_path[first_slash + 1: second_slash]\n",
    "    assert data_type in ['cnn', 'dm']\n",
    "    data_id = origin_path[last_slash + 1:]\n",
    "    return data_type, data_id"
   ]
  },
  {
   "cell_type": "code",
   "execution_count": 6,
   "metadata": {},
   "outputs": [],
   "source": [
    "def compose_path(data_type, data_id):\n",
    "    return \"cnn_dm/stories/{}/stories/{}\".format(data_type, data_id)"
   ]
  },
  {
   "cell_type": "code",
   "execution_count": 7,
   "metadata": {},
   "outputs": [
    {
     "name": "stdout",
     "output_type": "stream",
     "text": [
      "- claim:\n",
      "trey made the prom-posal (yes, that's what they are calling invites to prom.\n",
      "- story:\n",
      "(CNN)He's a blue chip college basketball recruit. She's a high school freshman with Down syndrome. At first glance Trey Moses and Ellie Meredith couldn't be more different. But all that changed Thursday when Trey asked Ellie to be his prom date. Trey -- a star on Eastern High School's basketball team in Louisville, Kentucky, who's headed to play college ball next year at Ball State -- was originally going to take his girlfriend to Eastern's prom. So why is he taking Ellie instead? \"She's great... she listens and she's easy to talk to\" he said. Trey made the prom-posal (yes, that's what they are calling invites to prom these days) in the gym during Ellie's P.E. class. Trina Helson, a teacher at Eastern, alerted the school's newspaper staff to the prom-posal and posted photos of Trey and Ellie on Twitter that have gone viral. She wasn't surpristed by Trey's actions. \"That's the kind of person Trey is,\" she said. To help make sure she said yes, Trey entered the gym armed with flowers and a poster that read \"Let's Party Like it's 1989,\" a reference to the latest album by Taylor Swift, Ellie's favorite singer. Trey also got the OK from Ellie's parents the night before via text. They were thrilled. \"You just feel numb to those moments raising a special needs child,\"  said Darla Meredith, Ellie's mom. \"You first feel the need to protect and then to overprotect.\" Darla Meredith said Ellie has struggled with friendships since elementary school, but a special program at Eastern called Best Buddies had made things easier for her. She said Best Buddies cultivates friendships between students with and without developmental disabilities and prevents students like Ellie from feeling isolated and left out of social functions. \"I guess around middle school is when kids started to care about what others thought,\" she said, but \"this school, this year has been a relief.\" Trey's future coach at Ball State, James Whitford, said he felt great about the prom-posal, noting that Trey, whom he's known for a long time, often works with other kids . Trey's mother, Shelly Moses, was also proud of her son. \"It's exciting to bring awareness to a good cause,\" she said. \"Trey has worked pretty hard, and he's a good son.\" Both Trey and Ellie have a lot of planning to do. Trey is looking to take up special education as a college major, in addition to playing basketball in the fall. As for Ellie, she can't stop thinking about prom. \"Ellie can't wait to go dress shopping\" her mother said. \"Because I've only told about a million people!\" Ellie interjected.\n"
     ]
    }
   ],
   "source": [
    "with open(output_path, 'w', encoding='utf-8') as fout:\n",
    "    for i, ft in enumerate(factcc_test):\n",
    "        new_file_path = compose_path(*get_type_and_id(ft['filepath']))\n",
    "        story, _ = get_art_abs(new_file_path)\n",
    "        fout.write(ft['claim'] + ' </s> ' + story + '\\n')\n",
    "        \n",
    "        # print out samples\n",
    "        if i == 0:\n",
    "            print('- claim:')\n",
    "            print(ft['claim'])\n",
    "            print('- story:')\n",
    "            print(story)"
   ]
  },
  {
   "cell_type": "code",
   "execution_count": 11,
   "metadata": {},
   "outputs": [
    {
     "name": "stdout",
     "output_type": "stream",
     "text": [
      "hill died early friday.\n"
     ]
    }
   ],
   "source": [
    "length = []\n",
    "for c in factcc_test:\n",
    "    length += [len(c['claim'].split())]\n",
    "    if length[-1] == 4:\n",
    "        print(c['claim'])"
   ]
  },
  {
   "cell_type": "code",
   "execution_count": 10,
   "metadata": {},
   "outputs": [
    {
     "data": {
      "text/plain": [
       "4"
      ]
     },
     "execution_count": 10,
     "metadata": {},
     "output_type": "execute_result"
    }
   ],
   "source": [
    "min(length)"
   ]
  },
  {
   "cell_type": "code",
   "execution_count": 12,
   "metadata": {},
   "outputs": [
    {
     "data": {
      "text/plain": [
       "58"
      ]
     },
     "execution_count": 12,
     "metadata": {},
     "output_type": "execute_result"
    }
   ],
   "source": [
    "max(length)"
   ]
  },
  {
   "cell_type": "code",
   "execution_count": null,
   "metadata": {},
   "outputs": [],
   "source": []
  }
 ],
 "metadata": {
  "kernelspec": {
   "display_name": "Python 3",
   "language": "python",
   "name": "python3"
  },
  "language_info": {
   "codemirror_mode": {
    "name": "ipython",
    "version": 3
   },
   "file_extension": ".py",
   "mimetype": "text/x-python",
   "name": "python",
   "nbconvert_exporter": "python",
   "pygments_lexer": "ipython3",
   "version": "3.7.4"
  }
 },
 "nbformat": 4,
 "nbformat_minor": 4
}
