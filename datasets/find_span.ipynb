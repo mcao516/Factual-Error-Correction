{
 "cells": [
  {
   "cell_type": "code",
   "execution_count": 1,
   "metadata": {},
   "outputs": [],
   "source": [
    "source_file_path = 'XSum/train.source'\n",
    "target_file_path = 'XSum/train.target'"
   ]
  },
  {
   "cell_type": "code",
   "execution_count": 2,
   "metadata": {},
   "outputs": [],
   "source": [
    "source_files, target_files = [], []\n",
    "\n",
    "with open(source_file_path) as sf, open(target_file_path) as tf:\n",
    "    for s, t in zip(sf, tf):\n",
    "        source_files.append(s.strip())\n",
    "        target_files.append(t.strip())"
   ]
  },
  {
   "cell_type": "code",
   "execution_count": 3,
   "metadata": {},
   "outputs": [
    {
     "name": "stdout",
     "output_type": "stream",
     "text": [
      "203575\n"
     ]
    }
   ],
   "source": [
    "print(len(source_files))\n",
    "assert len(source_files) == len(target_files)"
   ]
  },
  {
   "cell_type": "code",
   "execution_count": 5,
   "metadata": {},
   "outputs": [
    {
     "name": "stdout",
     "output_type": "stream",
     "text": [
      "- 126173:\n",
      "Thirteen people were killed on 30 January 1972 when soldiers opened fire on a civil rights march in Londonderry. Police met with victims' families on Wednesday to update them on the progress of their investigation. The families heard that the soldiers would be interviewed from October, along with 10 civilian witnesses. Det Ch Insp Ian Harrison, who is leading the inquiry, said 34 military witness and 310 civilian witness statements have been recorded. Fifty-five military witnesses and 239 civilian witnesses have declined to engage with the investigation team. Last month, Northern Ireland's police chief said  it was \"unacceptable\" that some families had not heard from the investigation in over a year. The Police Service of Northern Ireland (PSNI) has contacted more than 100 soldiers as part of the investigation into Bloody Sunday. Police resumed their investigation into the killings in January. John Kelly, whose brother Michael was shot dead on Bloody Sunday, said the meeting with police served as an update for families but lacked detail. \"Late October seems to be the date put down by the PSNI and they have told us it will take a couple of months to actually complete that part of the investigation,\" he said. He said after that a report would be compiled and given to the Public Prosecution Service.\n",
      "\n"
     ]
    }
   ],
   "source": [
    "wanted = ['Londonderry', 'soldiers', 'John Kelly']\n",
    "\n",
    "for i, (s, t) in enumerate(zip(source_files, target_files)):\n",
    "    if sum([w in s for w in wanted]) == len(wanted):\n",
    "        print('- {}:\\n{}\\n'.format(i, s))"
   ]
  },
  {
   "cell_type": "code",
   "execution_count": null,
   "metadata": {},
   "outputs": [],
   "source": []
  }
 ],
 "metadata": {
  "kernelspec": {
   "display_name": "Python 3",
   "language": "python",
   "name": "python3"
  },
  "language_info": {
   "codemirror_mode": {
    "name": "ipython",
    "version": 3
   },
   "file_extension": ".py",
   "mimetype": "text/x-python",
   "name": "python",
   "nbconvert_exporter": "python",
   "pygments_lexer": "ipython3",
   "version": "3.7.4"
  }
 },
 "nbformat": 4,
 "nbformat_minor": 4
}
