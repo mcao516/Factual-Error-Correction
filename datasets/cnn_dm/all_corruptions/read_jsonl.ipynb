{
 "cells": [
  {
   "cell_type": "code",
   "execution_count": 2,
   "metadata": {},
   "outputs": [],
   "source": [
    "import json"
   ]
  },
  {
   "cell_type": "code",
   "execution_count": 3,
   "metadata": {},
   "outputs": [],
   "source": [
    "clean_file_path = 'test-clean.jsonl'\n",
    "btrans_file_path = 'test-btrans.jsonl'"
   ]
  },
  {
   "cell_type": "code",
   "execution_count": 4,
   "metadata": {},
   "outputs": [],
   "source": [
    "def read_file(file_path):\n",
    "    with open(file_path) as f:\n",
    "        data = []\n",
    "        for l in f:\n",
    "            data.append(json.loads(l.strip()))\n",
    "        return data"
   ]
  },
  {
   "cell_type": "code",
   "execution_count": 5,
   "metadata": {},
   "outputs": [],
   "source": [
    "clean = read_file(clean_file_path)"
   ]
  },
  {
   "cell_type": "code",
   "execution_count": 6,
   "metadata": {},
   "outputs": [],
   "source": [
    "btrans = read_file(btrans_file_path)"
   ]
  },
  {
   "cell_type": "code",
   "execution_count": 8,
   "metadata": {},
   "outputs": [
    {
     "name": "stdout",
     "output_type": "stream",
     "text": [
      "11490\n",
      "11490\n"
     ]
    }
   ],
   "source": [
    "print(len(clean))\n",
    "print(len(btrans))"
   ]
  },
  {
   "cell_type": "code",
   "execution_count": 24,
   "metadata": {},
   "outputs": [
    {
     "name": "stdout",
     "output_type": "stream",
     "text": [
      "India has launched a massive aid mission to its earthquake-hit neighbor Nepal . Disaster relief troops and tons of food, water and medicine have been flown in .\n",
      "\n",
      "India has launched a large-scale aid mission to neighbouring Nepal, which was hit by the earthquake. Disaster relief forces and large quantities of food, water and medicine have flown in.\n"
     ]
    }
   ],
   "source": [
    "index = 555\n",
    "print(clean[index]['claim'])\n",
    "print()\n",
    "print(btrans[index]['claim'])"
   ]
  },
  {
   "cell_type": "code",
   "execution_count": null,
   "metadata": {},
   "outputs": [],
   "source": []
  }
 ],
 "metadata": {
  "kernelspec": {
   "display_name": "Python 3",
   "language": "python",
   "name": "python3"
  },
  "language_info": {
   "codemirror_mode": {
    "name": "ipython",
    "version": 3
   },
   "file_extension": ".py",
   "mimetype": "text/x-python",
   "name": "python",
   "nbconvert_exporter": "python",
   "pygments_lexer": "ipython3",
   "version": "3.7.5"
  }
 },
 "nbformat": 4,
 "nbformat_minor": 4
}
