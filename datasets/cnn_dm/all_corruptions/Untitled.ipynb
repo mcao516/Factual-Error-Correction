{
 "cells": [
  {
   "cell_type": "code",
   "execution_count": 1,
   "metadata": {},
   "outputs": [],
   "source": [
    "d = {\"id\": 7, \"text\": \"(CNN)French striker Bafetimbi Gomis, who has a history of fainting, said he is now \\\"feeling well\\\" after collapsing during Swansea's 3-2 loss at Tottenham in the Premier League on Wednesday. The worrying incident occurred in the first half at White Hart Lane -- after Tottenham scored in the seventh minute -- but the 29-year-old left the pitch conscious following about five minutes of treatment. The Guardian added that he was wearing an oxygen mask. Play was temporarily stopped before resuming. As the match progressed, Swansea tweeted that Gomis was \\\"fine,\\\" with manager Garry Monk using the same word to describe Gomis' condition. Gomis spent the night in hospital as a precaution, Swansea said on its website. \\\"I wanted to reassure you concerning my health,\\\" Gomis told the website. \\\"It actually looks much scarier than it is physically dangerous, and I am feeling well now. \\\"I have been under a great deal of stress and fatigue due to my father's health, which requires me to go back and forth from France. \\\"I was disappointed that I couldn't help my team tonight, but now everything is back in order. I also want to thank everyone for their support and get well messages.\\\" Gomis had similar fainting spells in France, which prompted the president of his former club, Jean-Michel Aulas of Lyon, to tell French television in 2009: \\\"We can't not be worried, it scares you each time.\\\" Swansea ran tests on Gomis, said Monk, prior to signing him on a free transfer last July. \\\"He just has a little bit of low blood pressure which causes you a little bit of problems,\\\" Monk said in a televised interview on Sky. \\\"It's been part of his life. We were well aware of that when we signed him. He's done all the hospital checks and all the medical checks you can possibly do and it's just part of his life. \\\"It's no problems whatsoever. It's not as serious as it looks.\\\" Gomis has scored two league goals for Swansea this season, mostly in a backup role. He became the Welsh side's top striker when Wilfried Bony signed with Manchester City in January. Almost exactly three years ago at White Hart Lane, then Bolton midfielder Fabrice Muamba collapsed after suffering a cardiac arrest. He was near death,  according to Bolton, but survived after being treated at the London Chest Hospital. He subsequently retired. Other footballers, including Cameroon international Marc-Vivien Foe in 2003 and Spanish international Antonio Puerta in 2007, didn't survive after collapsing on the pitch.\", \"summary\": \"Bafetimbi Gomis collapses within 10 minutes of kickoff at Tottenham . But he reportedly left the pitch conscious and wearing an oxygen mask . Gomis later said that he was \\\"feeling well\\\" The incident came three years after Fabrice Muamba collapsed at White Hart Lane .\", \"claim\": \"Bafetimbi Gomis collapses within 10 minutes of kickoff at Tottenham . But he reportedly left the pitch conscious and wearing an oxygen mask . Gomis later said that he was \\\"feeling well\\\" The incident came the night after Fabrice Muamba collapsed at White Hart Lane .\", \"label\": \"INCORRECT\", \"extraction_span\": None, \"backtranslation\": False, \"augmentation\": \"DateSwap\", \"augmentation_span\": [37, 38], \"noise\": False}"
   ]
  },
  {
   "cell_type": "code",
   "execution_count": 2,
   "metadata": {},
   "outputs": [
    {
     "data": {
      "text/plain": [
       "{'id': 7,\n",
       " 'text': '(CNN)French striker Bafetimbi Gomis, who has a history of fainting, said he is now \"feeling well\" after collapsing during Swansea\\'s 3-2 loss at Tottenham in the Premier League on Wednesday. The worrying incident occurred in the first half at White Hart Lane -- after Tottenham scored in the seventh minute -- but the 29-year-old left the pitch conscious following about five minutes of treatment. The Guardian added that he was wearing an oxygen mask. Play was temporarily stopped before resuming. As the match progressed, Swansea tweeted that Gomis was \"fine,\" with manager Garry Monk using the same word to describe Gomis\\' condition. Gomis spent the night in hospital as a precaution, Swansea said on its website. \"I wanted to reassure you concerning my health,\" Gomis told the website. \"It actually looks much scarier than it is physically dangerous, and I am feeling well now. \"I have been under a great deal of stress and fatigue due to my father\\'s health, which requires me to go back and forth from France. \"I was disappointed that I couldn\\'t help my team tonight, but now everything is back in order. I also want to thank everyone for their support and get well messages.\" Gomis had similar fainting spells in France, which prompted the president of his former club, Jean-Michel Aulas of Lyon, to tell French television in 2009: \"We can\\'t not be worried, it scares you each time.\" Swansea ran tests on Gomis, said Monk, prior to signing him on a free transfer last July. \"He just has a little bit of low blood pressure which causes you a little bit of problems,\" Monk said in a televised interview on Sky. \"It\\'s been part of his life. We were well aware of that when we signed him. He\\'s done all the hospital checks and all the medical checks you can possibly do and it\\'s just part of his life. \"It\\'s no problems whatsoever. It\\'s not as serious as it looks.\" Gomis has scored two league goals for Swansea this season, mostly in a backup role. He became the Welsh side\\'s top striker when Wilfried Bony signed with Manchester City in January. Almost exactly three years ago at White Hart Lane, then Bolton midfielder Fabrice Muamba collapsed after suffering a cardiac arrest. He was near death,  according to Bolton, but survived after being treated at the London Chest Hospital. He subsequently retired. Other footballers, including Cameroon international Marc-Vivien Foe in 2003 and Spanish international Antonio Puerta in 2007, didn\\'t survive after collapsing on the pitch.',\n",
       " 'summary': 'Bafetimbi Gomis collapses within 10 minutes of kickoff at Tottenham . But he reportedly left the pitch conscious and wearing an oxygen mask . Gomis later said that he was \"feeling well\" The incident came three years after Fabrice Muamba collapsed at White Hart Lane .',\n",
       " 'claim': 'Bafetimbi Gomis collapses within 10 minutes of kickoff at Tottenham . But he reportedly left the pitch conscious and wearing an oxygen mask . Gomis later said that he was \"feeling well\" The incident came the night after Fabrice Muamba collapsed at White Hart Lane .',\n",
       " 'label': 'INCORRECT',\n",
       " 'extraction_span': None,\n",
       " 'backtranslation': False,\n",
       " 'augmentation': 'DateSwap',\n",
       " 'augmentation_span': [37, 38],\n",
       " 'noise': False}"
      ]
     },
     "execution_count": 2,
     "metadata": {},
     "output_type": "execute_result"
    }
   ],
   "source": [
    "d"
   ]
  },
  {
   "cell_type": "code",
   "execution_count": 3,
   "metadata": {},
   "outputs": [
    {
     "data": {
      "text/plain": [
       "{'id': 8,\n",
       " 'text': '(CNN)My vote for Father of the Year goes to Curt Schilling. The former Major League Baseball pitcher recently fired off a series of fastballs and mowed down a group of Twitter trolls who made the mistake of tweeting vulgar and sexually-explicit comments about Schilling\\'s teenage daughter. The drama started, innocently enough, on February 25, when Schilling played the role of a proud father. He sent a tweet congratulating his daughter, Gabby, on being accepted to Salve Regina University, where she\\'ll play softball. It read: \"Congrats to Gabby Schilling who will pitch for the Salve Regina Seahawks next year!! — Curt Schilling (@gehrig38)\" Almost immediately, responses came in from young men, complete strangers who apparently followed Schilling on Twitter. The tweets quickly went from immature, to creepy, to repugnant. Threats of rape were common. The tweets were deleted, and the accounts were closed after this story went viral. But not before Schilling captured some of the images and posted them on his blog. What was said about 17-year-old Gabby Schilling wasn\\'t just obnoxious. It was vile and obscene. What was said wasn\\'t just mean and ugly. It was threatening and scary. As a parent, it\\'s the kind of thing that makes you rethink your opposition to public caning as a logical punishment for such transgressions. These misogynistic cowards may have thought they could hide in the darkness of anonymity, the sort that many have come to expect from social media sites, where you feel free to be a  despicable human being because, you think, no one will ever find out who you really are and hold you accountable for your words. If so, they thought wrong. They couldn\\'t hide. They were found out, and they got the throttling they so richly deserved. Thanks to dad. According to Schilling, who made it his mission to track down these cretins and make sure those they associate with know who they really are, two people have already paid a price due to their tweets. One was a student disc jockey at a community college in New Jersey, who was suspended, and the other was a part-time ticket seller for the New York Yankees, who was fired. Concerned that this is an example of exactly the kind of cyberbullying that leads some teenagers to commit suicide, Schilling is also thinking about taking legal action against some of the other people involved. Bravo for him. I\\'m sure that, all across America, dads with daughters -- after reading some of the horrible things that were said about this young girl -- are marveling at Schilling\\'s self-control. I have two daughters of my own, and he\\'s a better man than me. If ever there was a case where profanity-spewing malcontents deserved to have their mouths washed out with soap, this is it. So what additional insights can we draw, and what larger lessons can we learn, from this unexpected but predictable collision of old-fashioned parenthood and newfangled media? There are a few. The first is about accountability, the very thing that the young men who posted these hurtful messages were trying to avoid. But Schilling wouldn\\'t let them. At their best, social media sites like Twitter, Facebook, Instagram and others allow the sharing the information and the building of a sense of community. At their worst, they become digital sandboxes and locker rooms where people think have a license to misbehave without having to worry about consequences. We need to applaud efforts like this that promote greater online accountability. There\\'s also something to be said about protective parents, and how essential they are to a working society. We should still be concerned about those overprotective parents who hover like helicopters from little league to job interviews. We shouldn\\'t bubblewrap our kids, and keep them from playing outdoors, and then sit around wondering why they\\'re soft, timid, and risk-averse. But protective parents -- the kind who shield their kids from real danger -- never go out of style. A parent\\'s top job is to protect his children. Schilling did his job. Finally, it\\'s worth reminding everyone that freedom of expression does not mean freedom from rules, standards, and expectations that should guide your behavior. There are things you don\\'t say. There are boundaries, ways that we expect you to behave so you don\\'t terrorize other people or bring shame upon yourself, your friends, and your family. If you don\\'t have social skills, you don\\'t belong on social media. The tweets make you wince. But in this story, you\\'ll still find plenty to smile about. This whole drama unfolded because Schilling was proud of his daughter. Now, given how he reacted, we all have reason to be proud of him. \\u200b .',\n",
       " 'summary': 'Ruben Navarrette: Schilling deserves praise for taking on online haters for offensive comments about his daughter . Navarrette: In protecting his child, Schilling set a model for parenting and taught us a lesson about social media .',\n",
       " 'claim': 'Ruben Navarrette: Schilling deserves praise for taking on online haters for offensive comments about his daughter . Navarrette: In protecting my child, Schilling set a model for parenting and taught us a lesson about social media .',\n",
       " 'label': 'INCORRECT',\n",
       " 'extraction_span': None,\n",
       " 'backtranslation': False,\n",
       " 'augmentation': 'PronounSwap',\n",
       " 'augmentation_span': [22, 22],\n",
       " 'noise': False}"
      ]
     },
     "execution_count": 3,
     "metadata": {},
     "output_type": "execute_result"
    }
   ],
   "source": [
    "{\"id\": 8, \"text\": \"(CNN)My vote for Father of the Year goes to Curt Schilling. The former Major League Baseball pitcher recently fired off a series of fastballs and mowed down a group of Twitter trolls who made the mistake of tweeting vulgar and sexually-explicit comments about Schilling's teenage daughter. The drama started, innocently enough, on February 25, when Schilling played the role of a proud father. He sent a tweet congratulating his daughter, Gabby, on being accepted to Salve Regina University, where she'll play softball. It read: \\\"Congrats to Gabby Schilling who will pitch for the Salve Regina Seahawks next year!! — Curt Schilling (@gehrig38)\\\" Almost immediately, responses came in from young men, complete strangers who apparently followed Schilling on Twitter. The tweets quickly went from immature, to creepy, to repugnant. Threats of rape were common. The tweets were deleted, and the accounts were closed after this story went viral. But not before Schilling captured some of the images and posted them on his blog. What was said about 17-year-old Gabby Schilling wasn't just obnoxious. It was vile and obscene. What was said wasn't just mean and ugly. It was threatening and scary. As a parent, it's the kind of thing that makes you rethink your opposition to public caning as a logical punishment for such transgressions. These misogynistic cowards may have thought they could hide in the darkness of anonymity, the sort that many have come to expect from social media sites, where you feel free to be a  despicable human being because, you think, no one will ever find out who you really are and hold you accountable for your words. If so, they thought wrong. They couldn't hide. They were found out, and they got the throttling they so richly deserved. Thanks to dad. According to Schilling, who made it his mission to track down these cretins and make sure those they associate with know who they really are, two people have already paid a price due to their tweets. One was a student disc jockey at a community college in New Jersey, who was suspended, and the other was a part-time ticket seller for the New York Yankees, who was fired. Concerned that this is an example of exactly the kind of cyberbullying that leads some teenagers to commit suicide, Schilling is also thinking about taking legal action against some of the other people involved. Bravo for him. I'm sure that, all across America, dads with daughters -- after reading some of the horrible things that were said about this young girl -- are marveling at Schilling's self-control. I have two daughters of my own, and he's a better man than me. If ever there was a case where profanity-spewing malcontents deserved to have their mouths washed out with soap, this is it. So what additional insights can we draw, and what larger lessons can we learn, from this unexpected but predictable collision of old-fashioned parenthood and newfangled media? There are a few. The first is about accountability, the very thing that the young men who posted these hurtful messages were trying to avoid. But Schilling wouldn't let them. At their best, social media sites like Twitter, Facebook, Instagram and others allow the sharing the information and the building of a sense of community. At their worst, they become digital sandboxes and locker rooms where people think have a license to misbehave without having to worry about consequences. We need to applaud efforts like this that promote greater online accountability. There's also something to be said about protective parents, and how essential they are to a working society. We should still be concerned about those overprotective parents who hover like helicopters from little league to job interviews. We shouldn't bubblewrap our kids, and keep them from playing outdoors, and then sit around wondering why they're soft, timid, and risk-averse. But protective parents -- the kind who shield their kids from real danger -- never go out of style. A parent's top job is to protect his children. Schilling did his job. Finally, it's worth reminding everyone that freedom of expression does not mean freedom from rules, standards, and expectations that should guide your behavior. There are things you don't say. There are boundaries, ways that we expect you to behave so you don't terrorize other people or bring shame upon yourself, your friends, and your family. If you don't have social skills, you don't belong on social media. The tweets make you wince. But in this story, you'll still find plenty to smile about. This whole drama unfolded because Schilling was proud of his daughter. Now, given how he reacted, we all have reason to be proud of him. ​ .\", \"summary\": \"Ruben Navarrette: Schilling deserves praise for taking on online haters for offensive comments about his daughter . Navarrette: In protecting his child, Schilling set a model for parenting and taught us a lesson about social media .\", \"claim\": \"Ruben Navarrette: Schilling deserves praise for taking on online haters for offensive comments about his daughter . Navarrette: In protecting my child, Schilling set a model for parenting and taught us a lesson about social media .\", \"label\": \"INCORRECT\", \"extraction_span\": None, \"backtranslation\": False, \"augmentation\": \"PronounSwap\", \"augmentation_span\": [22, 22], \"noise\": False}"
   ]
  },
  {
   "cell_type": "code",
   "execution_count": 4,
   "metadata": {},
   "outputs": [
    {
     "data": {
      "text/plain": [
       "{'claim': 'Bafetimbi Gomis collapses within 10 minutes of kickoff at Tottenham . But he reportedly left the pitch conscious and wearing an oxygen mask . Gomis later said that he was \"feeling well\" The incident came the night after Fabrice Muamba collapsed at White Hart Lane .',\n",
       " 'label': 'INCORRECT',\n",
       " 'extraction_span': None,\n",
       " 'backtranslation': False,\n",
       " 'augmentation': 'DateSwap',\n",
       " 'augmentation_span': [37, 38],\n",
       " 'noise': False}"
      ]
     },
     "execution_count": 4,
     "metadata": {},
     "output_type": "execute_result"
    }
   ],
   "source": [
    "{k: v for k, v in d.items() if k != 'text' and k != 'summary' and k != 'id'}"
   ]
  },
  {
   "cell_type": "code",
   "execution_count": 6,
   "metadata": {},
   "outputs": [
    {
     "data": {
      "text/plain": [
       "{'id': 9,\n",
       " 'text': '(CNN)It was an act of frustration perhaps more commonly associated with golf\\'s fictional anti-hero Happy Gilmore than the world\\'s reigning No 1. player. But when Rory McIlroy pulled his second shot on the eighth hole of the WGC Cadillac Championship into a lake Friday, he might as well have been channeling the much loved Adam Sandler character. Before continuing his round with a dropped ball, the four-time major winner launched the 3-iron used to play the offending shot into the water as well. \"(It) felt good at the time,\" a rueful McIlroy later said of the incident in comments carried by the PGA Tour website. \"I just let frustration get the better of me. It was heat of the moment, and I mean, if it had of been any other club I probably wouldn\\'t have but I didn\\'t need a 3‑iron for the rest of the round so I thought, why not.\" The club \"must have went a good 60, 70 yards,\" he joked. McIlroy composed himself to finish with a second round of 70, leaving him one-under for the tournament and eight shots off the pace set by leader JB Holmes. While an improvement on last weeks performance at the Honda Classic event, where he failed to make the cut, the Northern Irishman\\'s frustration with elements of his game was still clear. \"I think every golfer feels it because I don\\'t hit shots like the one I hit on 8 on the range,\" he said. \"That\\'s what really bothers me, the fact that I get out on the course and I hit shots that I\\'m not seeing when I\\'m in a more relaxed environment. \"So it\\'s a little bit of mental, a little bit of physical. It\\'s just everything is not quite matching up.\" Elsewhere on the course, Ryan Holmes scored a two-under-par 71 to remain in second position overall, two shots behind Holmes. Former world No 1., Adam Scott carded an impressive 68 to finish the day three shots off the pace at six-under while Bubba Watson and Henrik Stenson are tied for fourth on four-under.',\n",
       " 'summary': 'Rory McIlroy throws club into water at WGC Cadillac Championship . Northern Irishman frustrated after pulling shot into water hazard .',\n",
       " 'claim': 'Rory McIlroy throws club into water at WGC Cadillac Championship . Northern Irishman frustrated after pulling shot into water hazard .',\n",
       " 'label': 'CORRECT',\n",
       " 'extraction_span': None,\n",
       " 'backtranslation': False,\n",
       " 'augmentation': None,\n",
       " 'augmentation_span': None,\n",
       " 'noise': False}"
      ]
     },
     "execution_count": 6,
     "metadata": {},
     "output_type": "execute_result"
    }
   ],
   "source": [
    "{\"id\": 9, \"text\": \"(CNN)It was an act of frustration perhaps more commonly associated with golf's fictional anti-hero Happy Gilmore than the world's reigning No 1. player. But when Rory McIlroy pulled his second shot on the eighth hole of the WGC Cadillac Championship into a lake Friday, he might as well have been channeling the much loved Adam Sandler character. Before continuing his round with a dropped ball, the four-time major winner launched the 3-iron used to play the offending shot into the water as well. \\\"(It) felt good at the time,\\\" a rueful McIlroy later said of the incident in comments carried by the PGA Tour website. \\\"I just let frustration get the better of me. It was heat of the moment, and I mean, if it had of been any other club I probably wouldn't have but I didn't need a 3‑iron for the rest of the round so I thought, why not.\\\" The club \\\"must have went a good 60, 70 yards,\\\" he joked. McIlroy composed himself to finish with a second round of 70, leaving him one-under for the tournament and eight shots off the pace set by leader JB Holmes. While an improvement on last weeks performance at the Honda Classic event, where he failed to make the cut, the Northern Irishman's frustration with elements of his game was still clear. \\\"I think every golfer feels it because I don't hit shots like the one I hit on 8 on the range,\\\" he said. \\\"That's what really bothers me, the fact that I get out on the course and I hit shots that I'm not seeing when I'm in a more relaxed environment. \\\"So it's a little bit of mental, a little bit of physical. It's just everything is not quite matching up.\\\" Elsewhere on the course, Ryan Holmes scored a two-under-par 71 to remain in second position overall, two shots behind Holmes. Former world No 1., Adam Scott carded an impressive 68 to finish the day three shots off the pace at six-under while Bubba Watson and Henrik Stenson are tied for fourth on four-under.\", \"summary\": \"Rory McIlroy throws club into water at WGC Cadillac Championship . Northern Irishman frustrated after pulling shot into water hazard .\", \"claim\": \"Rory McIlroy throws club into water at WGC Cadillac Championship . Northern Irishman frustrated after pulling shot into water hazard .\", \"label\": \"CORRECT\", \"extraction_span\": None, \"backtranslation\": False, \"augmentation\": None, \"augmentation_span\": None, \"noise\": False}"
   ]
  },
  {
   "cell_type": "code",
   "execution_count": null,
   "metadata": {},
   "outputs": [],
   "source": []
  }
 ],
 "metadata": {
  "kernelspec": {
   "display_name": "Python 3",
   "language": "python",
   "name": "python3"
  },
  "language_info": {
   "codemirror_mode": {
    "name": "ipython",
    "version": 3
   },
   "file_extension": ".py",
   "mimetype": "text/x-python",
   "name": "python",
   "nbconvert_exporter": "python",
   "pygments_lexer": "ipython3",
   "version": "3.7.4"
  }
 },
 "nbformat": 4,
 "nbformat_minor": 4
}
